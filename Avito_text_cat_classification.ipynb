{
  "nbformat": 4,
  "nbformat_minor": 0,
  "metadata": {
    "colab": {
      "name": "Avito_hiring_task.ipynb",
      "provenance": [],
      "collapsed_sections": []
    },
    "kernelspec": {
      "name": "python3",
      "display_name": "Python 3"
    },
    "accelerator": "TPU"
  },
  "cells": [
    {
      "cell_type": "markdown",
      "metadata": {
        "id": "dDVNWZOL3eD-"
      },
      "source": [
        "# Problem formulation\n",
        "The dataset consists of ~1 million sale announcements from Avito. The problem is to predict if the announcement contains a mobile number of a seller or not."
      ]
    },
    {
      "cell_type": "code",
      "metadata": {
        "id": "qshgKIQ8vAtg"
      },
      "source": [
        "from keras.models import Sequential\n",
        "from keras.layers import Dense, Activation, Dropout, Input\n",
        "from sklearn.naive_bayes import MultinomialNB\n",
        "from sklearn.linear_model import LogisticRegression\n",
        "from sklearn.metrics import classification_report\n",
        "from sklearn.metrics import roc_auc_score\n",
        "from sklearn.model_selection import GridSearchCV\n",
        "import pickle"
      ],
      "execution_count": 16,
      "outputs": []
    },
    {
      "cell_type": "code",
      "metadata": {
        "id": "Cd3kNVTazrlp"
      },
      "source": [
        "import numpy as np\n",
        "import pandas as pd\n",
        "import matplotlib.pyplot as plt"
      ],
      "execution_count": 17,
      "outputs": []
    },
    {
      "cell_type": "code",
      "metadata": {
        "id": "KD5EZI4fz2e7"
      },
      "source": [
        "df_train = pd.read_csv('/content/drive/My Drive/Colab Notebooks/task-for-hiring-data/train.csv')\n",
        "df_val = pd.read_csv('/content/drive/My Drive/Colab Notebooks/task-for-hiring-data/val.csv')"
      ],
      "execution_count": 18,
      "outputs": []
    },
    {
      "cell_type": "code",
      "metadata": {
        "id": "wgfk7nn1Z1jy",
        "outputId": "fe163eb1-881c-45ae-fe94-8076a0ce38c0",
        "colab": {
          "base_uri": "https://localhost:8080/",
          "height": 462
        }
      },
      "source": [
        "df_train.head()"
      ],
      "execution_count": 19,
      "outputs": [
        {
          "output_type": "execute_result",
          "data": {
            "text/html": [
              "<div>\n",
              "<style scoped>\n",
              "    .dataframe tbody tr th:only-of-type {\n",
              "        vertical-align: middle;\n",
              "    }\n",
              "\n",
              "    .dataframe tbody tr th {\n",
              "        vertical-align: top;\n",
              "    }\n",
              "\n",
              "    .dataframe thead th {\n",
              "        text-align: right;\n",
              "    }\n",
              "</style>\n",
              "<table border=\"1\" class=\"dataframe\">\n",
              "  <thead>\n",
              "    <tr style=\"text-align: right;\">\n",
              "      <th></th>\n",
              "      <th>title</th>\n",
              "      <th>description</th>\n",
              "      <th>subcategory</th>\n",
              "      <th>category</th>\n",
              "      <th>price</th>\n",
              "      <th>region</th>\n",
              "      <th>city</th>\n",
              "      <th>datetime_submitted</th>\n",
              "      <th>is_bad</th>\n",
              "    </tr>\n",
              "  </thead>\n",
              "  <tbody>\n",
              "    <tr>\n",
              "      <th>0</th>\n",
              "      <td>Диван-кровать</td>\n",
              "      <td>Продаем диван-кровать. Удобный механизм - евро...</td>\n",
              "      <td>Мебель и интерьер</td>\n",
              "      <td>Для дома и дачи</td>\n",
              "      <td>7000.0</td>\n",
              "      <td>Россия</td>\n",
              "      <td>Москва</td>\n",
              "      <td>2019-06-01 00:00:15.180656</td>\n",
              "      <td>0</td>\n",
              "    </tr>\n",
              "    <tr>\n",
              "      <th>1</th>\n",
              "      <td>Кожух рулевой колонки Даф хф 91 4509834</td>\n",
              "      <td>Кожух рулевой колонки DAF XF 94 (60066004)/\\n ...</td>\n",
              "      <td>Запчасти и аксессуары</td>\n",
              "      <td>Транспорт</td>\n",
              "      <td>2290.0</td>\n",
              "      <td>Россия</td>\n",
              "      <td>Москва</td>\n",
              "      <td>2019-06-01 00:00:44.317933</td>\n",
              "      <td>0</td>\n",
              "    </tr>\n",
              "    <tr>\n",
              "      <th>2</th>\n",
              "      <td>Дешёвый буст аккаунтов Dota 4</td>\n",
              "      <td>! Буст аккаунтов с ммр выше 1000ммр не беру ! ...</td>\n",
              "      <td>Предложение услуг</td>\n",
              "      <td>Услуги</td>\n",
              "      <td>200.0</td>\n",
              "      <td>Северная Осетия</td>\n",
              "      <td>Владикавказ</td>\n",
              "      <td>2019-06-01 00:00:50.249692</td>\n",
              "      <td>1</td>\n",
              "    </tr>\n",
              "    <tr>\n",
              "      <th>3</th>\n",
              "      <td>Телевизор sharp.Смарт тв.Интернет</td>\n",
              "      <td>Продам телевизор . Диагональ 450.наличие входа...</td>\n",
              "      <td>Аудио и видео</td>\n",
              "      <td>Бытовая электроника</td>\n",
              "      <td>25000.0</td>\n",
              "      <td>Калининградская область</td>\n",
              "      <td>Советск</td>\n",
              "      <td>2019-06-01 00:00:50.325799</td>\n",
              "      <td>1</td>\n",
              "    </tr>\n",
              "    <tr>\n",
              "      <th>4</th>\n",
              "      <td>Открытка-конверт</td>\n",
              "      <td>Открытки-конверты ручной работы/\\nВыполнены в ...</td>\n",
              "      <td>Коллекционирование</td>\n",
              "      <td>Хобби и отдых</td>\n",
              "      <td>150.0</td>\n",
              "      <td>Ставропольский край</td>\n",
              "      <td>Ессентукская</td>\n",
              "      <td>2019-06-01 00:00:56.632655</td>\n",
              "      <td>0</td>\n",
              "    </tr>\n",
              "  </tbody>\n",
              "</table>\n",
              "</div>"
            ],
            "text/plain": [
              "                                     title  ... is_bad\n",
              "0                            Диван-кровать  ...      0\n",
              "1  Кожух рулевой колонки Даф хф 91 4509834  ...      0\n",
              "2            Дешёвый буст аккаунтов Dota 4  ...      1\n",
              "3        Телевизор sharp.Смарт тв.Интернет  ...      1\n",
              "4                         Открытка-конверт  ...      0\n",
              "\n",
              "[5 rows x 9 columns]"
            ]
          },
          "metadata": {
            "tags": []
          },
          "execution_count": 19
        }
      ]
    },
    {
      "cell_type": "markdown",
      "metadata": {
        "id": "-vZKh1N3eXIU"
      },
      "source": [
        "In this notebook I am going to compare 2 models for classification: an advanced **ensemble model without using of any neural networks** (except logistic regression) and **a neural network model applying *recurrent neural networks* (long short-term memory) to text data**. Metric used for comparing is Avarage ROC AUC among categories."
      ]
    },
    {
      "cell_type": "markdown",
      "metadata": {
        "id": "NbdTkWmAQ5ks"
      },
      "source": [
        "# Data preprocessing\n",
        "Our dataset consists of ~1 million sale announcements from Avito"
      ]
    },
    {
      "cell_type": "markdown",
      "metadata": {
        "id": "zj8FTCsl0y12"
      },
      "source": [
        "## Preprocessing\n",
        "Here I am going to handle NaNs and put numbers to all the categorical features. "
      ]
    },
    {
      "cell_type": "code",
      "metadata": {
        "id": "2pk6pITw0qOb"
      },
      "source": [
        "#выделим категориальные столбцы\n",
        "column_to_numbers_names = ['category', 'city', 'region', 'subcategory']"
      ],
      "execution_count": 20,
      "outputs": []
    },
    {
      "cell_type": "code",
      "metadata": {
        "id": "YNbexKHL08wg"
      },
      "source": [
        "def features_to_numbers_extraction(df):\n",
        "    #Создадим словарь, в котором ключ = фича, которую надо поменять в числовую, \n",
        "    #ключу соответствует DataFrame с классами парметра(фичи)\n",
        "    feature_distincts = {}\n",
        "    for column_name in column_to_numbers_names:\n",
        "        feature_distincts[column_name] = pd.DataFrame(data=df_train[column_name].unique().astype('str'), columns=[column_name])\n",
        "    for key in feature_distincts.keys():\n",
        "        print(\"\\n\" +\"=\"*40)\n",
        "        print(key)\n",
        "        print(\"-\"*40)\n",
        "        print(feature_distincts[key])\n",
        "    \n",
        "    #каждому классу каждой фичи сопостовляем числовое значение\n",
        "    for key in feature_distincts.keys():\n",
        "        feature_distincts[key][key+'_num'] = feature_distincts[key].index+1\n",
        "    for key in feature_distincts.keys():\n",
        "        print(\"\\n\" +\"=\"*40)\n",
        "        print(key)\n",
        "        print(\"-\"*40)\n",
        "        print(feature_distincts[key])\n",
        "    return feature_distincts\n",
        "    \n",
        "def features_to_numbers(feature_distincts, df_num): \n",
        "    #создаем датасет с числовыми фичами\n",
        "    #df_num = df\n",
        "    for key in feature_distincts.keys():\n",
        "        df_num = df_num.merge(feature_distincts[key], left_on=key, right_on=key, how='left')\n",
        "    \n",
        "    df_num = df_num.drop(columns=feature_distincts.keys())\n",
        "    \n",
        "    return df_num"
      ],
      "execution_count": 21,
      "outputs": []
    },
    {
      "cell_type": "code",
      "metadata": {
        "id": "y6gpLMcP0_Cb",
        "outputId": "e7d9c833-99b4-4d59-ebc8-0b7bf1811eff",
        "colab": {
          "base_uri": "https://localhost:8080/"
        }
      },
      "source": [
        "#енкодим все категории\n",
        "feature_distincts = features_to_numbers_extraction(df_train)\n",
        "\n",
        "df_train = features_to_numbers(feature_distincts, df_train)\n",
        "df_val = features_to_numbers(feature_distincts, df_val)\n",
        "\n",
        "# print(df_train_num.head())\n",
        "print(df_val.head())"
      ],
      "execution_count": 22,
      "outputs": [
        {
          "output_type": "stream",
          "text": [
            "\n",
            "========================================\n",
            "category\n",
            "----------------------------------------\n",
            "              category\n",
            "0      Для дома и дачи\n",
            "1            Транспорт\n",
            "2               Услуги\n",
            "3  Бытовая электроника\n",
            "4        Хобби и отдых\n",
            "5          Личные вещи\n",
            "6         Недвижимость\n",
            "7             Животные\n",
            "8          Для бизнеса\n",
            "9               Работа\n",
            "\n",
            "========================================\n",
            "city\n",
            "----------------------------------------\n",
            "                 city\n",
            "0              Москва\n",
            "1         Владикавказ\n",
            "2             Советск\n",
            "3        Ессентукская\n",
            "4     Железнодорожный\n",
            "...               ...\n",
            "3306        Искателей\n",
            "3307      Ярославский\n",
            "3308       Усть-Омчуг\n",
            "3309      Новоильинск\n",
            "3310         Шахтерск\n",
            "\n",
            "[3311 rows x 1 columns]\n",
            "\n",
            "========================================\n",
            "region\n",
            "----------------------------------------\n",
            "                     region\n",
            "0                    Россия\n",
            "1           Северная Осетия\n",
            "2   Калининградская область\n",
            "3       Ставропольский край\n",
            "4        Московская область\n",
            "..                      ...\n",
            "80                   Москва\n",
            "81                     Тыва\n",
            "82      Сахалинская область\n",
            "83              Ненецкий АО\n",
            "84             Чукотский АО\n",
            "\n",
            "[85 rows x 1 columns]\n",
            "\n",
            "========================================\n",
            "subcategory\n",
            "----------------------------------------\n",
            "                     subcategory\n",
            "0              Мебель и интерьер\n",
            "1          Запчасти и аксессуары\n",
            "2              Предложение услуг\n",
            "3                  Аудио и видео\n",
            "4             Коллекционирование\n",
            "5                     Автомобили\n",
            "6         Ремонт и строительство\n",
            "7         Детская одежда и обувь\n",
            "8      Одежда, обувь, аксессуары\n",
            "9                       Телефоны\n",
            "10    Товары для детей и игрушки\n",
            "11                      Квартиры\n",
            "12               Другие животные\n",
            "13               Книги и журналы\n",
            "14               Бытовая техника\n",
            "15       Мотоциклы и мототехника\n",
            "16     Посуда и товары для кухни\n",
            "17       Грузовики и спецтехника\n",
            "18              Часы и украшения\n",
            "19   Игры, приставки и программы\n",
            "20                    Велосипеды\n",
            "21       Музыкальные инструменты\n",
            "22                 Спорт и отдых\n",
            "23                         Кошки\n",
            "24         Товары для компьютера\n",
            "25       Оргтехника и расходники\n",
            "26          Билеты и путешествия\n",
            "27             Земельные участки\n",
            "28          Гаражи и машиноместа\n",
            "29     Коммерческая недвижимость\n",
            "30  Планшеты и электронные книги\n",
            "31          Дома, дачи, коттеджи\n",
            "32      Оборудование для бизнеса\n",
            "33                        Резюме\n",
            "34         Настольные компьютеры\n",
            "35                        Собаки\n",
            "36                   Фототехника\n",
            "37            Красота и здоровье\n",
            "38                      Вакансии\n",
            "39                Готовый бизнес\n",
            "40                      Ноутбуки\n",
            "41                      Растения\n",
            "42               Охота и рыбалка\n",
            "43                      Аквариум\n",
            "44              Водный транспорт\n",
            "45           Товары для животных\n",
            "46              Продукты питания\n",
            "47                         Птицы\n",
            "48                       Комнаты\n",
            "49       Недвижимость за рубежом\n",
            "\n",
            "========================================\n",
            "category\n",
            "----------------------------------------\n",
            "              category  category_num\n",
            "0      Для дома и дачи             1\n",
            "1            Транспорт             2\n",
            "2               Услуги             3\n",
            "3  Бытовая электроника             4\n",
            "4        Хобби и отдых             5\n",
            "5          Личные вещи             6\n",
            "6         Недвижимость             7\n",
            "7             Животные             8\n",
            "8          Для бизнеса             9\n",
            "9               Работа            10\n",
            "\n",
            "========================================\n",
            "city\n",
            "----------------------------------------\n",
            "                 city  city_num\n",
            "0              Москва         1\n",
            "1         Владикавказ         2\n",
            "2             Советск         3\n",
            "3        Ессентукская         4\n",
            "4     Железнодорожный         5\n",
            "...               ...       ...\n",
            "3306        Искателей      3307\n",
            "3307      Ярославский      3308\n",
            "3308       Усть-Омчуг      3309\n",
            "3309      Новоильинск      3310\n",
            "3310         Шахтерск      3311\n",
            "\n",
            "[3311 rows x 2 columns]\n",
            "\n",
            "========================================\n",
            "region\n",
            "----------------------------------------\n",
            "                     region  region_num\n",
            "0                    Россия           1\n",
            "1           Северная Осетия           2\n",
            "2   Калининградская область           3\n",
            "3       Ставропольский край           4\n",
            "4        Московская область           5\n",
            "..                      ...         ...\n",
            "80                   Москва          81\n",
            "81                     Тыва          82\n",
            "82      Сахалинская область          83\n",
            "83              Ненецкий АО          84\n",
            "84             Чукотский АО          85\n",
            "\n",
            "[85 rows x 2 columns]\n",
            "\n",
            "========================================\n",
            "subcategory\n",
            "----------------------------------------\n",
            "                     subcategory  subcategory_num\n",
            "0              Мебель и интерьер                1\n",
            "1          Запчасти и аксессуары                2\n",
            "2              Предложение услуг                3\n",
            "3                  Аудио и видео                4\n",
            "4             Коллекционирование                5\n",
            "5                     Автомобили                6\n",
            "6         Ремонт и строительство                7\n",
            "7         Детская одежда и обувь                8\n",
            "8      Одежда, обувь, аксессуары                9\n",
            "9                       Телефоны               10\n",
            "10    Товары для детей и игрушки               11\n",
            "11                      Квартиры               12\n",
            "12               Другие животные               13\n",
            "13               Книги и журналы               14\n",
            "14               Бытовая техника               15\n",
            "15       Мотоциклы и мототехника               16\n",
            "16     Посуда и товары для кухни               17\n",
            "17       Грузовики и спецтехника               18\n",
            "18              Часы и украшения               19\n",
            "19   Игры, приставки и программы               20\n",
            "20                    Велосипеды               21\n",
            "21       Музыкальные инструменты               22\n",
            "22                 Спорт и отдых               23\n",
            "23                         Кошки               24\n",
            "24         Товары для компьютера               25\n",
            "25       Оргтехника и расходники               26\n",
            "26          Билеты и путешествия               27\n",
            "27             Земельные участки               28\n",
            "28          Гаражи и машиноместа               29\n",
            "29     Коммерческая недвижимость               30\n",
            "30  Планшеты и электронные книги               31\n",
            "31          Дома, дачи, коттеджи               32\n",
            "32      Оборудование для бизнеса               33\n",
            "33                        Резюме               34\n",
            "34         Настольные компьютеры               35\n",
            "35                        Собаки               36\n",
            "36                   Фототехника               37\n",
            "37            Красота и здоровье               38\n",
            "38                      Вакансии               39\n",
            "39                Готовый бизнес               40\n",
            "40                      Ноутбуки               41\n",
            "41                      Растения               42\n",
            "42               Охота и рыбалка               43\n",
            "43                      Аквариум               44\n",
            "44              Водный транспорт               45\n",
            "45           Товары для животных               46\n",
            "46              Продукты питания               47\n",
            "47                         Птицы               48\n",
            "48                       Комнаты               49\n",
            "49       Недвижимость за рубежом               50\n",
            "                                      title  ... subcategory_num\n",
            "0                                      Шины  ...               2\n",
            "1  Продается мобильная перегородка с дверью  ...              33\n",
            "2   Комплект зимних шин на дисках 682/32/64  ...               2\n",
            "3         Кровать-трансормер Дакота сб-4085  ...               1\n",
            "4                    Honda VFR 800 2004 г.в  ...              16\n",
            "\n",
            "[5 rows x 9 columns]\n"
          ],
          "name": "stdout"
        }
      ]
    },
    {
      "cell_type": "code",
      "metadata": {
        "id": "DreE93DwQuXS"
      },
      "source": [
        "with open('features_dict.pkl', 'wb') as file:  \n",
        "    pickle.dump(feature_distincts, file)"
      ],
      "execution_count": 23,
      "outputs": []
    },
    {
      "cell_type": "markdown",
      "metadata": {
        "id": "HL2LaAWr2STS"
      },
      "source": [
        "## NaNs \n",
        "Here NaNs are only in the Price column, the most appropriate way to handle them seems to be replacing it with Price median."
      ]
    },
    {
      "cell_type": "code",
      "metadata": {
        "id": "hAit0p7A1CWE"
      },
      "source": [
        "#смотрим, где НаНы (в стоимости) и убираем их, те меняем на медиану\n",
        "def nan_remove(df):\n",
        "  for cat in feature_distincts['category']['category_num']:\n",
        "    med = df[df['category_num']==cat].price.median()\n",
        "    #print(str(cat)+'median %d' % med)\n",
        "    df.loc[df['category_num']==cat, ['price']] = df.loc[df['category_num']==cat, ['price']].fillna(med)\n",
        "    for col in ['city_num', 'region_num', 'subcategory_num']:\n",
        "      med = int(df[df['category_num']==cat][col].median())\n",
        "      df.loc[df['category_num']==cat, [col]] = df.loc[df['category_num']==cat, [col]].fillna(med)\n",
        "  return df"
      ],
      "execution_count": 24,
      "outputs": []
    },
    {
      "cell_type": "code",
      "metadata": {
        "id": "iXLJyEGYSUwM"
      },
      "source": [
        "df_train = nan_remove(df_train)\n",
        "df_val = nan_remove(df_val)"
      ],
      "execution_count": 25,
      "outputs": []
    },
    {
      "cell_type": "code",
      "metadata": {
        "id": "DjXP1YE0bqx6",
        "outputId": "85ecada2-4990-45d9-e5b6-720e469310cf",
        "colab": {
          "base_uri": "https://localhost:8080/",
          "height": 462
        }
      },
      "source": [
        "df_train.head()"
      ],
      "execution_count": 26,
      "outputs": [
        {
          "output_type": "execute_result",
          "data": {
            "text/html": [
              "<div>\n",
              "<style scoped>\n",
              "    .dataframe tbody tr th:only-of-type {\n",
              "        vertical-align: middle;\n",
              "    }\n",
              "\n",
              "    .dataframe tbody tr th {\n",
              "        vertical-align: top;\n",
              "    }\n",
              "\n",
              "    .dataframe thead th {\n",
              "        text-align: right;\n",
              "    }\n",
              "</style>\n",
              "<table border=\"1\" class=\"dataframe\">\n",
              "  <thead>\n",
              "    <tr style=\"text-align: right;\">\n",
              "      <th></th>\n",
              "      <th>title</th>\n",
              "      <th>description</th>\n",
              "      <th>price</th>\n",
              "      <th>datetime_submitted</th>\n",
              "      <th>is_bad</th>\n",
              "      <th>category_num</th>\n",
              "      <th>city_num</th>\n",
              "      <th>region_num</th>\n",
              "      <th>subcategory_num</th>\n",
              "    </tr>\n",
              "  </thead>\n",
              "  <tbody>\n",
              "    <tr>\n",
              "      <th>0</th>\n",
              "      <td>Диван-кровать</td>\n",
              "      <td>Продаем диван-кровать. Удобный механизм - евро...</td>\n",
              "      <td>7000.0</td>\n",
              "      <td>2019-06-01 00:00:15.180656</td>\n",
              "      <td>0</td>\n",
              "      <td>1</td>\n",
              "      <td>1</td>\n",
              "      <td>1</td>\n",
              "      <td>1</td>\n",
              "    </tr>\n",
              "    <tr>\n",
              "      <th>1</th>\n",
              "      <td>Кожух рулевой колонки Даф хф 91 4509834</td>\n",
              "      <td>Кожух рулевой колонки DAF XF 94 (60066004)/\\n ...</td>\n",
              "      <td>2290.0</td>\n",
              "      <td>2019-06-01 00:00:44.317933</td>\n",
              "      <td>0</td>\n",
              "      <td>2</td>\n",
              "      <td>1</td>\n",
              "      <td>1</td>\n",
              "      <td>2</td>\n",
              "    </tr>\n",
              "    <tr>\n",
              "      <th>2</th>\n",
              "      <td>Дешёвый буст аккаунтов Dota 4</td>\n",
              "      <td>! Буст аккаунтов с ммр выше 1000ммр не беру ! ...</td>\n",
              "      <td>200.0</td>\n",
              "      <td>2019-06-01 00:00:50.249692</td>\n",
              "      <td>1</td>\n",
              "      <td>3</td>\n",
              "      <td>2</td>\n",
              "      <td>2</td>\n",
              "      <td>3</td>\n",
              "    </tr>\n",
              "    <tr>\n",
              "      <th>3</th>\n",
              "      <td>Телевизор sharp.Смарт тв.Интернет</td>\n",
              "      <td>Продам телевизор . Диагональ 450.наличие входа...</td>\n",
              "      <td>25000.0</td>\n",
              "      <td>2019-06-01 00:00:50.325799</td>\n",
              "      <td>1</td>\n",
              "      <td>4</td>\n",
              "      <td>3</td>\n",
              "      <td>3</td>\n",
              "      <td>4</td>\n",
              "    </tr>\n",
              "    <tr>\n",
              "      <th>4</th>\n",
              "      <td>Открытка-конверт</td>\n",
              "      <td>Открытки-конверты ручной работы/\\nВыполнены в ...</td>\n",
              "      <td>150.0</td>\n",
              "      <td>2019-06-01 00:00:56.632655</td>\n",
              "      <td>0</td>\n",
              "      <td>5</td>\n",
              "      <td>4</td>\n",
              "      <td>4</td>\n",
              "      <td>5</td>\n",
              "    </tr>\n",
              "  </tbody>\n",
              "</table>\n",
              "</div>"
            ],
            "text/plain": [
              "                                     title  ... subcategory_num\n",
              "0                            Диван-кровать  ...               1\n",
              "1  Кожух рулевой колонки Даф хф 91 4509834  ...               2\n",
              "2            Дешёвый буст аккаунтов Dota 4  ...               3\n",
              "3        Телевизор sharp.Смарт тв.Интернет  ...               4\n",
              "4                         Открытка-конверт  ...               5\n",
              "\n",
              "[5 rows x 9 columns]"
            ]
          },
          "metadata": {
            "tags": []
          },
          "execution_count": 26
        }
      ]
    },
    {
      "cell_type": "markdown",
      "metadata": {
        "id": "EOGmKg-w1ISH"
      },
      "source": [
        "Now we have only numerical features (date-time will handle further) <br>\n",
        "Next step is to process texts."
      ]
    },
    {
      "cell_type": "markdown",
      "metadata": {
        "id": "_Rp_G_hw1nOK"
      },
      "source": [
        "# Feature engineering (e.g., hour of a post)"
      ]
    },
    {
      "cell_type": "code",
      "metadata": {
        "id": "libEwhzinHHf"
      },
      "source": [
        "#делаем параметр с часом пбликации\n",
        "import re\n",
        "\n",
        "def dt_to_min(str):\n",
        "    t = re.findall(r'(\\d{2})[:]', str)\n",
        "    return float(t[0])%24"
      ],
      "execution_count": 27,
      "outputs": []
    },
    {
      "cell_type": "code",
      "metadata": {
        "id": "BUXIBd2e1sZF"
      },
      "source": [
        "df_train['dt_hour'] = df_train['datetime_submitted'].apply(dt_to_min)\n",
        "df_val['dt_hour'] = df_val['datetime_submitted'].apply(dt_to_min)"
      ],
      "execution_count": 28,
      "outputs": []
    },
    {
      "cell_type": "code",
      "metadata": {
        "id": "jg8y5drgcW6H",
        "outputId": "df2ebe11-3a0c-4a75-b87e-36a0ee23eac7",
        "colab": {
          "base_uri": "https://localhost:8080/",
          "height": 462
        }
      },
      "source": [
        "df_train.head()"
      ],
      "execution_count": 29,
      "outputs": [
        {
          "output_type": "execute_result",
          "data": {
            "text/html": [
              "<div>\n",
              "<style scoped>\n",
              "    .dataframe tbody tr th:only-of-type {\n",
              "        vertical-align: middle;\n",
              "    }\n",
              "\n",
              "    .dataframe tbody tr th {\n",
              "        vertical-align: top;\n",
              "    }\n",
              "\n",
              "    .dataframe thead th {\n",
              "        text-align: right;\n",
              "    }\n",
              "</style>\n",
              "<table border=\"1\" class=\"dataframe\">\n",
              "  <thead>\n",
              "    <tr style=\"text-align: right;\">\n",
              "      <th></th>\n",
              "      <th>title</th>\n",
              "      <th>description</th>\n",
              "      <th>price</th>\n",
              "      <th>datetime_submitted</th>\n",
              "      <th>is_bad</th>\n",
              "      <th>category_num</th>\n",
              "      <th>city_num</th>\n",
              "      <th>region_num</th>\n",
              "      <th>subcategory_num</th>\n",
              "      <th>dt_hour</th>\n",
              "    </tr>\n",
              "  </thead>\n",
              "  <tbody>\n",
              "    <tr>\n",
              "      <th>0</th>\n",
              "      <td>Диван-кровать</td>\n",
              "      <td>Продаем диван-кровать. Удобный механизм - евро...</td>\n",
              "      <td>7000.0</td>\n",
              "      <td>2019-06-01 00:00:15.180656</td>\n",
              "      <td>0</td>\n",
              "      <td>1</td>\n",
              "      <td>1</td>\n",
              "      <td>1</td>\n",
              "      <td>1</td>\n",
              "      <td>0.0</td>\n",
              "    </tr>\n",
              "    <tr>\n",
              "      <th>1</th>\n",
              "      <td>Кожух рулевой колонки Даф хф 91 4509834</td>\n",
              "      <td>Кожух рулевой колонки DAF XF 94 (60066004)/\\n ...</td>\n",
              "      <td>2290.0</td>\n",
              "      <td>2019-06-01 00:00:44.317933</td>\n",
              "      <td>0</td>\n",
              "      <td>2</td>\n",
              "      <td>1</td>\n",
              "      <td>1</td>\n",
              "      <td>2</td>\n",
              "      <td>0.0</td>\n",
              "    </tr>\n",
              "    <tr>\n",
              "      <th>2</th>\n",
              "      <td>Дешёвый буст аккаунтов Dota 4</td>\n",
              "      <td>! Буст аккаунтов с ммр выше 1000ммр не беру ! ...</td>\n",
              "      <td>200.0</td>\n",
              "      <td>2019-06-01 00:00:50.249692</td>\n",
              "      <td>1</td>\n",
              "      <td>3</td>\n",
              "      <td>2</td>\n",
              "      <td>2</td>\n",
              "      <td>3</td>\n",
              "      <td>0.0</td>\n",
              "    </tr>\n",
              "    <tr>\n",
              "      <th>3</th>\n",
              "      <td>Телевизор sharp.Смарт тв.Интернет</td>\n",
              "      <td>Продам телевизор . Диагональ 450.наличие входа...</td>\n",
              "      <td>25000.0</td>\n",
              "      <td>2019-06-01 00:00:50.325799</td>\n",
              "      <td>1</td>\n",
              "      <td>4</td>\n",
              "      <td>3</td>\n",
              "      <td>3</td>\n",
              "      <td>4</td>\n",
              "      <td>0.0</td>\n",
              "    </tr>\n",
              "    <tr>\n",
              "      <th>4</th>\n",
              "      <td>Открытка-конверт</td>\n",
              "      <td>Открытки-конверты ручной работы/\\nВыполнены в ...</td>\n",
              "      <td>150.0</td>\n",
              "      <td>2019-06-01 00:00:56.632655</td>\n",
              "      <td>0</td>\n",
              "      <td>5</td>\n",
              "      <td>4</td>\n",
              "      <td>4</td>\n",
              "      <td>5</td>\n",
              "      <td>0.0</td>\n",
              "    </tr>\n",
              "  </tbody>\n",
              "</table>\n",
              "</div>"
            ],
            "text/plain": [
              "                                     title  ... dt_hour\n",
              "0                            Диван-кровать  ...     0.0\n",
              "1  Кожух рулевой колонки Даф хф 91 4509834  ...     0.0\n",
              "2            Дешёвый буст аккаунтов Dota 4  ...     0.0\n",
              "3        Телевизор sharp.Смарт тв.Интернет  ...     0.0\n",
              "4                         Открытка-конверт  ...     0.0\n",
              "\n",
              "[5 rows x 10 columns]"
            ]
          },
          "metadata": {
            "tags": []
          },
          "execution_count": 29
        }
      ]
    },
    {
      "cell_type": "markdown",
      "metadata": {
        "id": "nfsjh5RL3KK-"
      },
      "source": [
        "I am going to implement ensemble method for classification. As the volume of the dataset is huge, I will leran several models with distinct sets of features."
      ]
    },
    {
      "cell_type": "markdown",
      "metadata": {
        "id": "NsYs_0um12EU"
      },
      "source": [
        "# Titles model"
      ]
    },
    {
      "cell_type": "markdown",
      "metadata": {
        "id": "zv_UDz-C4TNI"
      },
      "source": [
        "The experience of working with this dataset showed that Lemmatization and Filtering texts leads to worse metrics results. That's why I will not apply these steps of texts preprocessing."
      ]
    },
    {
      "cell_type": "code",
      "metadata": {
        "id": "zcKLi-H91LS2",
        "outputId": "fa870c6d-eec8-497b-a824-bf585244d389",
        "colab": {
          "base_uri": "https://localhost:8080/"
        }
      },
      "source": [
        "from sklearn.feature_extraction.text import TfidfVectorizer\n",
        "import nltk\n",
        "from nltk.corpus import stopwords\n",
        "\n",
        "#создание словаря по тайтлам\n",
        "nltk.download('stopwords')\n",
        "\n",
        "stopwords = set(stopwords.words('russian'))\n",
        "\n",
        "vectorizer = TfidfVectorizer(stop_words=stopwords, ngram_range=(1,2))\n",
        "vectorizer = vectorizer.fit(df_train['title'])"
      ],
      "execution_count": 19,
      "outputs": [
        {
          "output_type": "stream",
          "text": [
            "[nltk_data] Downloading package stopwords to /root/nltk_data...\n",
            "[nltk_data]   Unzipping corpora/stopwords.zip.\n"
          ],
          "name": "stdout"
        }
      ]
    },
    {
      "cell_type": "code",
      "metadata": {
        "id": "6pxdKPh21P5H"
      },
      "source": [
        "#переводим тайтлы в вектора TF-IDF \n",
        "titles_for_train_vector = vectorizer.transform(df_train['title'])\n",
        "\n",
        "#переводим тайтлы в вектора TF-IDF\n",
        "titles_for_val_vector = vectorizer.transform(df_val['title'])"
      ],
      "execution_count": 20,
      "outputs": []
    },
    {
      "cell_type": "markdown",
      "metadata": {
        "id": "Mo2LuL3F1dfc"
      },
      "source": [
        "## Adding one-hot encoded \"dt_hour\", \"category\" features to this model"
      ]
    },
    {
      "cell_type": "code",
      "metadata": {
        "id": "u0uVBWjlgO8F",
        "outputId": "4bd1d1fa-1ab6-444f-c357-43586c2c54c0",
        "colab": {
          "base_uri": "https://localhost:8080/",
          "height": 253
        }
      },
      "source": [
        "df_train_ohe = pd.get_dummies(df_train[['category_num', 'subcategory_num', 'region_num', 'dt_hour']], \n",
        "                              columns=['category_num', 'subcategory_num', 'region_num', 'dt_hour'],\n",
        "                              prefix=['category_num', 'subcategory_num', 'region_num', 'dt_hour'])\n",
        "df_train_ohe.head()"
      ],
      "execution_count": 30,
      "outputs": [
        {
          "output_type": "execute_result",
          "data": {
            "text/html": [
              "<div>\n",
              "<style scoped>\n",
              "    .dataframe tbody tr th:only-of-type {\n",
              "        vertical-align: middle;\n",
              "    }\n",
              "\n",
              "    .dataframe tbody tr th {\n",
              "        vertical-align: top;\n",
              "    }\n",
              "\n",
              "    .dataframe thead th {\n",
              "        text-align: right;\n",
              "    }\n",
              "</style>\n",
              "<table border=\"1\" class=\"dataframe\">\n",
              "  <thead>\n",
              "    <tr style=\"text-align: right;\">\n",
              "      <th></th>\n",
              "      <th>category_num_1</th>\n",
              "      <th>category_num_2</th>\n",
              "      <th>category_num_3</th>\n",
              "      <th>category_num_4</th>\n",
              "      <th>category_num_5</th>\n",
              "      <th>category_num_6</th>\n",
              "      <th>category_num_7</th>\n",
              "      <th>category_num_8</th>\n",
              "      <th>category_num_9</th>\n",
              "      <th>category_num_10</th>\n",
              "      <th>subcategory_num_1</th>\n",
              "      <th>subcategory_num_2</th>\n",
              "      <th>subcategory_num_3</th>\n",
              "      <th>subcategory_num_4</th>\n",
              "      <th>subcategory_num_5</th>\n",
              "      <th>subcategory_num_6</th>\n",
              "      <th>subcategory_num_7</th>\n",
              "      <th>subcategory_num_8</th>\n",
              "      <th>subcategory_num_9</th>\n",
              "      <th>subcategory_num_10</th>\n",
              "      <th>subcategory_num_11</th>\n",
              "      <th>subcategory_num_12</th>\n",
              "      <th>subcategory_num_13</th>\n",
              "      <th>subcategory_num_14</th>\n",
              "      <th>subcategory_num_15</th>\n",
              "      <th>subcategory_num_16</th>\n",
              "      <th>subcategory_num_17</th>\n",
              "      <th>subcategory_num_18</th>\n",
              "      <th>subcategory_num_19</th>\n",
              "      <th>subcategory_num_20</th>\n",
              "      <th>subcategory_num_21</th>\n",
              "      <th>subcategory_num_22</th>\n",
              "      <th>subcategory_num_23</th>\n",
              "      <th>subcategory_num_24</th>\n",
              "      <th>subcategory_num_25</th>\n",
              "      <th>subcategory_num_26</th>\n",
              "      <th>subcategory_num_27</th>\n",
              "      <th>subcategory_num_28</th>\n",
              "      <th>subcategory_num_29</th>\n",
              "      <th>subcategory_num_30</th>\n",
              "      <th>...</th>\n",
              "      <th>region_num_70</th>\n",
              "      <th>region_num_71</th>\n",
              "      <th>region_num_72</th>\n",
              "      <th>region_num_73</th>\n",
              "      <th>region_num_74</th>\n",
              "      <th>region_num_75</th>\n",
              "      <th>region_num_76</th>\n",
              "      <th>region_num_77</th>\n",
              "      <th>region_num_78</th>\n",
              "      <th>region_num_79</th>\n",
              "      <th>region_num_80</th>\n",
              "      <th>region_num_81</th>\n",
              "      <th>region_num_82</th>\n",
              "      <th>region_num_83</th>\n",
              "      <th>region_num_84</th>\n",
              "      <th>region_num_85</th>\n",
              "      <th>dt_hour_0.0</th>\n",
              "      <th>dt_hour_1.0</th>\n",
              "      <th>dt_hour_2.0</th>\n",
              "      <th>dt_hour_3.0</th>\n",
              "      <th>dt_hour_4.0</th>\n",
              "      <th>dt_hour_5.0</th>\n",
              "      <th>dt_hour_6.0</th>\n",
              "      <th>dt_hour_7.0</th>\n",
              "      <th>dt_hour_8.0</th>\n",
              "      <th>dt_hour_9.0</th>\n",
              "      <th>dt_hour_10.0</th>\n",
              "      <th>dt_hour_11.0</th>\n",
              "      <th>dt_hour_12.0</th>\n",
              "      <th>dt_hour_13.0</th>\n",
              "      <th>dt_hour_14.0</th>\n",
              "      <th>dt_hour_15.0</th>\n",
              "      <th>dt_hour_16.0</th>\n",
              "      <th>dt_hour_17.0</th>\n",
              "      <th>dt_hour_18.0</th>\n",
              "      <th>dt_hour_19.0</th>\n",
              "      <th>dt_hour_20.0</th>\n",
              "      <th>dt_hour_21.0</th>\n",
              "      <th>dt_hour_22.0</th>\n",
              "      <th>dt_hour_23.0</th>\n",
              "    </tr>\n",
              "  </thead>\n",
              "  <tbody>\n",
              "    <tr>\n",
              "      <th>0</th>\n",
              "      <td>1</td>\n",
              "      <td>0</td>\n",
              "      <td>0</td>\n",
              "      <td>0</td>\n",
              "      <td>0</td>\n",
              "      <td>0</td>\n",
              "      <td>0</td>\n",
              "      <td>0</td>\n",
              "      <td>0</td>\n",
              "      <td>0</td>\n",
              "      <td>1</td>\n",
              "      <td>0</td>\n",
              "      <td>0</td>\n",
              "      <td>0</td>\n",
              "      <td>0</td>\n",
              "      <td>0</td>\n",
              "      <td>0</td>\n",
              "      <td>0</td>\n",
              "      <td>0</td>\n",
              "      <td>0</td>\n",
              "      <td>0</td>\n",
              "      <td>0</td>\n",
              "      <td>0</td>\n",
              "      <td>0</td>\n",
              "      <td>0</td>\n",
              "      <td>0</td>\n",
              "      <td>0</td>\n",
              "      <td>0</td>\n",
              "      <td>0</td>\n",
              "      <td>0</td>\n",
              "      <td>0</td>\n",
              "      <td>0</td>\n",
              "      <td>0</td>\n",
              "      <td>0</td>\n",
              "      <td>0</td>\n",
              "      <td>0</td>\n",
              "      <td>0</td>\n",
              "      <td>0</td>\n",
              "      <td>0</td>\n",
              "      <td>0</td>\n",
              "      <td>...</td>\n",
              "      <td>0</td>\n",
              "      <td>0</td>\n",
              "      <td>0</td>\n",
              "      <td>0</td>\n",
              "      <td>0</td>\n",
              "      <td>0</td>\n",
              "      <td>0</td>\n",
              "      <td>0</td>\n",
              "      <td>0</td>\n",
              "      <td>0</td>\n",
              "      <td>0</td>\n",
              "      <td>0</td>\n",
              "      <td>0</td>\n",
              "      <td>0</td>\n",
              "      <td>0</td>\n",
              "      <td>0</td>\n",
              "      <td>1</td>\n",
              "      <td>0</td>\n",
              "      <td>0</td>\n",
              "      <td>0</td>\n",
              "      <td>0</td>\n",
              "      <td>0</td>\n",
              "      <td>0</td>\n",
              "      <td>0</td>\n",
              "      <td>0</td>\n",
              "      <td>0</td>\n",
              "      <td>0</td>\n",
              "      <td>0</td>\n",
              "      <td>0</td>\n",
              "      <td>0</td>\n",
              "      <td>0</td>\n",
              "      <td>0</td>\n",
              "      <td>0</td>\n",
              "      <td>0</td>\n",
              "      <td>0</td>\n",
              "      <td>0</td>\n",
              "      <td>0</td>\n",
              "      <td>0</td>\n",
              "      <td>0</td>\n",
              "      <td>0</td>\n",
              "    </tr>\n",
              "    <tr>\n",
              "      <th>1</th>\n",
              "      <td>0</td>\n",
              "      <td>1</td>\n",
              "      <td>0</td>\n",
              "      <td>0</td>\n",
              "      <td>0</td>\n",
              "      <td>0</td>\n",
              "      <td>0</td>\n",
              "      <td>0</td>\n",
              "      <td>0</td>\n",
              "      <td>0</td>\n",
              "      <td>0</td>\n",
              "      <td>1</td>\n",
              "      <td>0</td>\n",
              "      <td>0</td>\n",
              "      <td>0</td>\n",
              "      <td>0</td>\n",
              "      <td>0</td>\n",
              "      <td>0</td>\n",
              "      <td>0</td>\n",
              "      <td>0</td>\n",
              "      <td>0</td>\n",
              "      <td>0</td>\n",
              "      <td>0</td>\n",
              "      <td>0</td>\n",
              "      <td>0</td>\n",
              "      <td>0</td>\n",
              "      <td>0</td>\n",
              "      <td>0</td>\n",
              "      <td>0</td>\n",
              "      <td>0</td>\n",
              "      <td>0</td>\n",
              "      <td>0</td>\n",
              "      <td>0</td>\n",
              "      <td>0</td>\n",
              "      <td>0</td>\n",
              "      <td>0</td>\n",
              "      <td>0</td>\n",
              "      <td>0</td>\n",
              "      <td>0</td>\n",
              "      <td>0</td>\n",
              "      <td>...</td>\n",
              "      <td>0</td>\n",
              "      <td>0</td>\n",
              "      <td>0</td>\n",
              "      <td>0</td>\n",
              "      <td>0</td>\n",
              "      <td>0</td>\n",
              "      <td>0</td>\n",
              "      <td>0</td>\n",
              "      <td>0</td>\n",
              "      <td>0</td>\n",
              "      <td>0</td>\n",
              "      <td>0</td>\n",
              "      <td>0</td>\n",
              "      <td>0</td>\n",
              "      <td>0</td>\n",
              "      <td>0</td>\n",
              "      <td>1</td>\n",
              "      <td>0</td>\n",
              "      <td>0</td>\n",
              "      <td>0</td>\n",
              "      <td>0</td>\n",
              "      <td>0</td>\n",
              "      <td>0</td>\n",
              "      <td>0</td>\n",
              "      <td>0</td>\n",
              "      <td>0</td>\n",
              "      <td>0</td>\n",
              "      <td>0</td>\n",
              "      <td>0</td>\n",
              "      <td>0</td>\n",
              "      <td>0</td>\n",
              "      <td>0</td>\n",
              "      <td>0</td>\n",
              "      <td>0</td>\n",
              "      <td>0</td>\n",
              "      <td>0</td>\n",
              "      <td>0</td>\n",
              "      <td>0</td>\n",
              "      <td>0</td>\n",
              "      <td>0</td>\n",
              "    </tr>\n",
              "    <tr>\n",
              "      <th>2</th>\n",
              "      <td>0</td>\n",
              "      <td>0</td>\n",
              "      <td>1</td>\n",
              "      <td>0</td>\n",
              "      <td>0</td>\n",
              "      <td>0</td>\n",
              "      <td>0</td>\n",
              "      <td>0</td>\n",
              "      <td>0</td>\n",
              "      <td>0</td>\n",
              "      <td>0</td>\n",
              "      <td>0</td>\n",
              "      <td>1</td>\n",
              "      <td>0</td>\n",
              "      <td>0</td>\n",
              "      <td>0</td>\n",
              "      <td>0</td>\n",
              "      <td>0</td>\n",
              "      <td>0</td>\n",
              "      <td>0</td>\n",
              "      <td>0</td>\n",
              "      <td>0</td>\n",
              "      <td>0</td>\n",
              "      <td>0</td>\n",
              "      <td>0</td>\n",
              "      <td>0</td>\n",
              "      <td>0</td>\n",
              "      <td>0</td>\n",
              "      <td>0</td>\n",
              "      <td>0</td>\n",
              "      <td>0</td>\n",
              "      <td>0</td>\n",
              "      <td>0</td>\n",
              "      <td>0</td>\n",
              "      <td>0</td>\n",
              "      <td>0</td>\n",
              "      <td>0</td>\n",
              "      <td>0</td>\n",
              "      <td>0</td>\n",
              "      <td>0</td>\n",
              "      <td>...</td>\n",
              "      <td>0</td>\n",
              "      <td>0</td>\n",
              "      <td>0</td>\n",
              "      <td>0</td>\n",
              "      <td>0</td>\n",
              "      <td>0</td>\n",
              "      <td>0</td>\n",
              "      <td>0</td>\n",
              "      <td>0</td>\n",
              "      <td>0</td>\n",
              "      <td>0</td>\n",
              "      <td>0</td>\n",
              "      <td>0</td>\n",
              "      <td>0</td>\n",
              "      <td>0</td>\n",
              "      <td>0</td>\n",
              "      <td>1</td>\n",
              "      <td>0</td>\n",
              "      <td>0</td>\n",
              "      <td>0</td>\n",
              "      <td>0</td>\n",
              "      <td>0</td>\n",
              "      <td>0</td>\n",
              "      <td>0</td>\n",
              "      <td>0</td>\n",
              "      <td>0</td>\n",
              "      <td>0</td>\n",
              "      <td>0</td>\n",
              "      <td>0</td>\n",
              "      <td>0</td>\n",
              "      <td>0</td>\n",
              "      <td>0</td>\n",
              "      <td>0</td>\n",
              "      <td>0</td>\n",
              "      <td>0</td>\n",
              "      <td>0</td>\n",
              "      <td>0</td>\n",
              "      <td>0</td>\n",
              "      <td>0</td>\n",
              "      <td>0</td>\n",
              "    </tr>\n",
              "    <tr>\n",
              "      <th>3</th>\n",
              "      <td>0</td>\n",
              "      <td>0</td>\n",
              "      <td>0</td>\n",
              "      <td>1</td>\n",
              "      <td>0</td>\n",
              "      <td>0</td>\n",
              "      <td>0</td>\n",
              "      <td>0</td>\n",
              "      <td>0</td>\n",
              "      <td>0</td>\n",
              "      <td>0</td>\n",
              "      <td>0</td>\n",
              "      <td>0</td>\n",
              "      <td>1</td>\n",
              "      <td>0</td>\n",
              "      <td>0</td>\n",
              "      <td>0</td>\n",
              "      <td>0</td>\n",
              "      <td>0</td>\n",
              "      <td>0</td>\n",
              "      <td>0</td>\n",
              "      <td>0</td>\n",
              "      <td>0</td>\n",
              "      <td>0</td>\n",
              "      <td>0</td>\n",
              "      <td>0</td>\n",
              "      <td>0</td>\n",
              "      <td>0</td>\n",
              "      <td>0</td>\n",
              "      <td>0</td>\n",
              "      <td>0</td>\n",
              "      <td>0</td>\n",
              "      <td>0</td>\n",
              "      <td>0</td>\n",
              "      <td>0</td>\n",
              "      <td>0</td>\n",
              "      <td>0</td>\n",
              "      <td>0</td>\n",
              "      <td>0</td>\n",
              "      <td>0</td>\n",
              "      <td>...</td>\n",
              "      <td>0</td>\n",
              "      <td>0</td>\n",
              "      <td>0</td>\n",
              "      <td>0</td>\n",
              "      <td>0</td>\n",
              "      <td>0</td>\n",
              "      <td>0</td>\n",
              "      <td>0</td>\n",
              "      <td>0</td>\n",
              "      <td>0</td>\n",
              "      <td>0</td>\n",
              "      <td>0</td>\n",
              "      <td>0</td>\n",
              "      <td>0</td>\n",
              "      <td>0</td>\n",
              "      <td>0</td>\n",
              "      <td>1</td>\n",
              "      <td>0</td>\n",
              "      <td>0</td>\n",
              "      <td>0</td>\n",
              "      <td>0</td>\n",
              "      <td>0</td>\n",
              "      <td>0</td>\n",
              "      <td>0</td>\n",
              "      <td>0</td>\n",
              "      <td>0</td>\n",
              "      <td>0</td>\n",
              "      <td>0</td>\n",
              "      <td>0</td>\n",
              "      <td>0</td>\n",
              "      <td>0</td>\n",
              "      <td>0</td>\n",
              "      <td>0</td>\n",
              "      <td>0</td>\n",
              "      <td>0</td>\n",
              "      <td>0</td>\n",
              "      <td>0</td>\n",
              "      <td>0</td>\n",
              "      <td>0</td>\n",
              "      <td>0</td>\n",
              "    </tr>\n",
              "    <tr>\n",
              "      <th>4</th>\n",
              "      <td>0</td>\n",
              "      <td>0</td>\n",
              "      <td>0</td>\n",
              "      <td>0</td>\n",
              "      <td>1</td>\n",
              "      <td>0</td>\n",
              "      <td>0</td>\n",
              "      <td>0</td>\n",
              "      <td>0</td>\n",
              "      <td>0</td>\n",
              "      <td>0</td>\n",
              "      <td>0</td>\n",
              "      <td>0</td>\n",
              "      <td>0</td>\n",
              "      <td>1</td>\n",
              "      <td>0</td>\n",
              "      <td>0</td>\n",
              "      <td>0</td>\n",
              "      <td>0</td>\n",
              "      <td>0</td>\n",
              "      <td>0</td>\n",
              "      <td>0</td>\n",
              "      <td>0</td>\n",
              "      <td>0</td>\n",
              "      <td>0</td>\n",
              "      <td>0</td>\n",
              "      <td>0</td>\n",
              "      <td>0</td>\n",
              "      <td>0</td>\n",
              "      <td>0</td>\n",
              "      <td>0</td>\n",
              "      <td>0</td>\n",
              "      <td>0</td>\n",
              "      <td>0</td>\n",
              "      <td>0</td>\n",
              "      <td>0</td>\n",
              "      <td>0</td>\n",
              "      <td>0</td>\n",
              "      <td>0</td>\n",
              "      <td>0</td>\n",
              "      <td>...</td>\n",
              "      <td>0</td>\n",
              "      <td>0</td>\n",
              "      <td>0</td>\n",
              "      <td>0</td>\n",
              "      <td>0</td>\n",
              "      <td>0</td>\n",
              "      <td>0</td>\n",
              "      <td>0</td>\n",
              "      <td>0</td>\n",
              "      <td>0</td>\n",
              "      <td>0</td>\n",
              "      <td>0</td>\n",
              "      <td>0</td>\n",
              "      <td>0</td>\n",
              "      <td>0</td>\n",
              "      <td>0</td>\n",
              "      <td>1</td>\n",
              "      <td>0</td>\n",
              "      <td>0</td>\n",
              "      <td>0</td>\n",
              "      <td>0</td>\n",
              "      <td>0</td>\n",
              "      <td>0</td>\n",
              "      <td>0</td>\n",
              "      <td>0</td>\n",
              "      <td>0</td>\n",
              "      <td>0</td>\n",
              "      <td>0</td>\n",
              "      <td>0</td>\n",
              "      <td>0</td>\n",
              "      <td>0</td>\n",
              "      <td>0</td>\n",
              "      <td>0</td>\n",
              "      <td>0</td>\n",
              "      <td>0</td>\n",
              "      <td>0</td>\n",
              "      <td>0</td>\n",
              "      <td>0</td>\n",
              "      <td>0</td>\n",
              "      <td>0</td>\n",
              "    </tr>\n",
              "  </tbody>\n",
              "</table>\n",
              "<p>5 rows × 169 columns</p>\n",
              "</div>"
            ],
            "text/plain": [
              "   category_num_1  category_num_2  ...  dt_hour_22.0  dt_hour_23.0\n",
              "0               1               0  ...             0             0\n",
              "1               0               1  ...             0             0\n",
              "2               0               0  ...             0             0\n",
              "3               0               0  ...             0             0\n",
              "4               0               0  ...             0             0\n",
              "\n",
              "[5 rows x 169 columns]"
            ]
          },
          "metadata": {
            "tags": []
          },
          "execution_count": 30
        }
      ]
    },
    {
      "cell_type": "code",
      "metadata": {
        "id": "7p67stlt1W8Z"
      },
      "source": [
        "category_one_hot_train = pd.get_dummies(df_train['category_num'])\n",
        "category_one_hot_train.columns = category_one_hot_train.columns.astype(str)\n",
        "dt_hour_one_hot_train = pd.get_dummies(df_train['dt_hour'])\n",
        "dt_hour_one_hot_train.columns = dt_hour_one_hot_train.columns.astype(str)\n",
        "\n",
        "category_one_hot_val = pd.get_dummies(df_val['category_num'])\n",
        "category_one_hot_val.columns = category_one_hot_val.columns.astype(str)\n",
        "dt_hour_one_hot_val = pd.get_dummies(df_val['dt_hour'])\n",
        "dt_hour_one_hot_val.columns = dt_hour_one_hot_val.columns.astype(str)"
      ],
      "execution_count": 31,
      "outputs": []
    },
    {
      "cell_type": "code",
      "metadata": {
        "id": "PH0GlXreBZA_"
      },
      "source": [
        "categories = ['1', '2', '3', '4', '5', '6', '7', '8', '9', '10']\n",
        "diff = np.setdiff1d(categories, category_one_hot_val.columns)\n",
        "if len(diff) >0 :\n",
        "  for column in diff:\n",
        "    category_one_hot_val[column] = 0\n",
        "category_one_hot_val = category_one_hot_val[categories]"
      ],
      "execution_count": 32,
      "outputs": []
    },
    {
      "cell_type": "code",
      "metadata": {
        "id": "gIOH4kxMH7hz"
      },
      "source": [
        "hours = ['0.0', '1.0', '2.0', '3.0', '4.0', '5.0', '6.0', '7.0', '8.0', '9.0',\n",
        "       '10.0', '11.0', '12.0', '13.0', '14.0', '15.0', '16.0', '17.0', '18.0',\n",
        "       '19.0', '20.0', '21.0', '22.0', '23.0']\n",
        "diff = np.setdiff1d(hours,\n",
        "        dt_hour_one_hot_val.columns)\n",
        "if len(diff) >0 :\n",
        "  for column in diff:\n",
        "    dt_hour_one_hot_val[column] = 0\n",
        "dt_hour_one_hot_val = dt_hour_one_hot_val[hours]"
      ],
      "execution_count": 33,
      "outputs": []
    },
    {
      "cell_type": "code",
      "metadata": {
        "id": "fE2s5KDU2Hbc"
      },
      "source": [
        "from scipy.sparse import coo_matrix, hstack\n",
        "\n",
        "titles_for_train_vector = hstack([titles_for_train_vector, \n",
        "                                    category_one_hot_train.values, dt_hour_one_hot_train.values])\n",
        "titles_for_val_vector = hstack([titles_for_val_vector, \n",
        "                                  category_one_hot_val.values, dt_hour_one_hot_val.values])"
      ],
      "execution_count": 25,
      "outputs": []
    },
    {
      "cell_type": "markdown",
      "metadata": {
        "id": "EH2Sj3oR5UcH"
      },
      "source": [
        "## Logistic Regression for titles"
      ]
    },
    {
      "cell_type": "code",
      "metadata": {
        "id": "U8ABQ0ex2Kcj",
        "outputId": "031f6dbe-8dd4-4314-d0b9-fa79b05b81da",
        "colab": {
          "base_uri": "https://localhost:8080/"
        }
      },
      "source": [
        "clf_logit = LogisticRegression(max_iter=1000, C=1).fit(titles_for_train_vector, df_train.is_bad)\n",
        "\n",
        "predicts = clf_logit.predict(titles_for_train_vector)\n",
        "print(classification_report(df_train.is_bad, predicts))\n",
        "\n",
        "predicts = clf_logit.predict(titles_for_val_vector)\n",
        "print(classification_report(df_val.is_bad, predicts))\n",
        "\n",
        "print('ROC_AUC Train')\n",
        "print(roc_auc_score(df_train.is_bad, clf_logit.predict_proba(titles_for_train_vector)[:, 1]))\n",
        "print('\\n')\n",
        "print('ROC_AUC Val')\n",
        "print(roc_auc_score(df_val.is_bad, clf_logit.predict_proba(titles_for_val_vector)[:, 1]))"
      ],
      "execution_count": 26,
      "outputs": [
        {
          "output_type": "stream",
          "text": [
            "              precision    recall  f1-score   support\n",
            "\n",
            "           0       0.83      0.96      0.89    746221\n",
            "           1       0.75      0.39      0.51    238266\n",
            "\n",
            "    accuracy                           0.82    984487\n",
            "   macro avg       0.79      0.67      0.70    984487\n",
            "weighted avg       0.81      0.82      0.80    984487\n",
            "\n",
            "              precision    recall  f1-score   support\n",
            "\n",
            "           0       0.81      0.96      0.88     12256\n",
            "           1       0.73      0.32      0.44      3981\n",
            "\n",
            "    accuracy                           0.80     16237\n",
            "   macro avg       0.77      0.64      0.66     16237\n",
            "weighted avg       0.79      0.80      0.77     16237\n",
            "\n",
            "ROC_AUC Train\n",
            "0.8611965925680851\n",
            "\n",
            "\n",
            "ROC_AUC Val\n",
            "0.8397961055877035\n"
          ],
          "name": "stdout"
        }
      ]
    },
    {
      "cell_type": "code",
      "metadata": {
        "id": "kSnamMYIpLyd"
      },
      "source": [
        "with open('titles_model_lr.pkl', 'wb') as file:  \n",
        "    pickle.dump(clf_logit, file)"
      ],
      "execution_count": 27,
      "outputs": []
    },
    {
      "cell_type": "code",
      "metadata": {
        "id": "HU8vv5Y-pqqY"
      },
      "source": [
        "with open('titles_model_lr.pkl', 'rb') as file:  \n",
        "    pickled_title_model = pickle.load(file)"
      ],
      "execution_count": 28,
      "outputs": []
    },
    {
      "cell_type": "code",
      "metadata": {
        "id": "OjOlnawJp8du",
        "outputId": "86ffd23d-675b-450a-ab00-2caa84d24462",
        "colab": {
          "base_uri": "https://localhost:8080/"
        }
      },
      "source": [
        "print('ROC_AUC Val')\n",
        "print(roc_auc_score(df_val.is_bad, pickled_title_model.predict_proba(titles_for_val_vector)[:, 1]))"
      ],
      "execution_count": 29,
      "outputs": [
        {
          "output_type": "stream",
          "text": [
            "ROC_AUC Val\n",
            "0.8397961055877035\n"
          ],
          "name": "stdout"
        }
      ]
    },
    {
      "cell_type": "markdown",
      "metadata": {
        "id": "a0-SE54M8U44"
      },
      "source": [
        "## Some other classification models for titles\n",
        "As I am going to implement *stacking ensemble* at the penultimate step of the entire model\n",
        "\n"
      ]
    },
    {
      "cell_type": "markdown",
      "metadata": {
        "id": "Pyb97w9Z6Fk1"
      },
      "source": [
        "### K-Neighbors"
      ]
    },
    {
      "cell_type": "code",
      "metadata": {
        "id": "SRfnCC6K8TpE"
      },
      "source": [
        "from sklearn.neighbors import KNeighborsClassifier\n",
        "\n",
        "title_model_knn = KNeighborsClassifier(n_neighbors=100).fit(titles_for_train_vector, df_train.is_bad)\n",
        "title_model_knn_proba = title_model_knn.predict_proba(titles_for_val_vector)[:, 1]"
      ],
      "execution_count": 30,
      "outputs": []
    },
    {
      "cell_type": "code",
      "metadata": {
        "id": "iYsAZRid81GA",
        "outputId": "8c6fe61d-0e96-498f-a94a-d6ea67b49d77",
        "colab": {
          "base_uri": "https://localhost:8080/"
        }
      },
      "source": [
        "print('ROC_AUC Val')\n",
        "print(roc_auc_score(df_val.is_bad, title_model_knn_proba))"
      ],
      "execution_count": 31,
      "outputs": [
        {
          "output_type": "stream",
          "text": [
            "ROC_AUC Val\n",
            "0.7802404826155308\n"
          ],
          "name": "stdout"
        }
      ]
    },
    {
      "cell_type": "markdown",
      "metadata": {
        "id": "f4jORJIz6LM8"
      },
      "source": [
        "### Naive Bayes"
      ]
    },
    {
      "cell_type": "code",
      "metadata": {
        "id": "2u10uRaa9kXr"
      },
      "source": [
        "from sklearn.naive_bayes import MultinomialNB\n",
        "\n",
        "title_model_NB = MultinomialNB(alpha=0.6).fit(titles_for_train_vector, df_train.is_bad)"
      ],
      "execution_count": 32,
      "outputs": []
    },
    {
      "cell_type": "code",
      "metadata": {
        "id": "_sf1JjPg9yYA",
        "outputId": "59412723-f492-4de6-b1c8-4cc16ef311ef",
        "colab": {
          "base_uri": "https://localhost:8080/"
        }
      },
      "source": [
        "print('ROC_AUC Val')\n",
        "print(roc_auc_score(df_val.is_bad, title_model_NB.predict_proba(titles_for_val_vector)[:, 1]))"
      ],
      "execution_count": 33,
      "outputs": [
        {
          "output_type": "stream",
          "text": [
            "ROC_AUC Val\n",
            "0.8360956793463469\n"
          ],
          "name": "stdout"
        }
      ]
    },
    {
      "cell_type": "markdown",
      "metadata": {
        "id": "8x3_plJ9jY8_"
      },
      "source": [
        "###  XGBoost\n"
      ]
    },
    {
      "cell_type": "code",
      "metadata": {
        "id": "RSCVU9xFZagY"
      },
      "source": [
        "import xgboost as xgb"
      ],
      "execution_count": 34,
      "outputs": []
    },
    {
      "cell_type": "code",
      "metadata": {
        "id": "qbPyb94deMWs"
      },
      "source": [
        "xgb_title_train = xgb.DMatrix(titles_for_train_vector, label=df_train.is_bad)\n",
        "xgb_title_val = xgb.DMatrix(titles_for_val_vector)"
      ],
      "execution_count": 35,
      "outputs": []
    },
    {
      "cell_type": "code",
      "metadata": {
        "id": "JuBAV45X6_3P"
      },
      "source": [
        "param = {'max_depth':10, 'eta':0.029, 'silent':1, 'objective':'binary:logistic' }\n",
        "param['nthread'] = 4\n",
        "param['eval_metric'] = 'auc'\n",
        "param['subsample'] = 0.8\n",
        "param['colsample_bytree']= 1\n",
        "param['min_child_weight'] = 100\n",
        "param['max_bin']=1000#25,30,40,60,80,100, 200, 256, 300, 500, 1000\n",
        "#param['min_child_weight']=200#1,5,7,10,15,50,75,100,130,160,200\n",
        "#param['lambda']=5#0.01,0.1,1,3,5\n",
        "param['booster'] = \"gblinear\""
      ],
      "execution_count": 36,
      "outputs": []
    },
    {
      "cell_type": "code",
      "metadata": {
        "id": "N6Q7jsqHehSs"
      },
      "source": [
        "xgb_title_model = xgb.train(params=param, dtrain=xgb_title_train)"
      ],
      "execution_count": 37,
      "outputs": []
    },
    {
      "cell_type": "code",
      "metadata": {
        "id": "8T_LqtdbevLU",
        "outputId": "d2240b8a-554d-4d77-d8a7-46187f8572e1",
        "colab": {
          "base_uri": "https://localhost:8080/"
        }
      },
      "source": [
        "print('ROC_AUC Val')\n",
        "print(roc_auc_score(df_val.is_bad, xgb_title_model.predict(xgb_title_val)))"
      ],
      "execution_count": 38,
      "outputs": [
        {
          "output_type": "stream",
          "text": [
            "ROC_AUC Val\n",
            "0.8277471854723776\n"
          ],
          "name": "stdout"
        }
      ]
    },
    {
      "cell_type": "markdown",
      "metadata": {
        "id": "R2Yp4O30LV1o"
      },
      "source": [
        "# Categorical features model\n",
        "For categorical features I will try to use Yandex's catboost algorithm"
      ]
    },
    {
      "cell_type": "code",
      "metadata": {
        "id": "Wm2dgJEbLdVu",
        "outputId": "ec4888a2-a098-4c56-e9d8-1aa1d8099f8b",
        "colab": {
          "base_uri": "https://localhost:8080/"
        }
      },
      "source": [
        "pip install catboost"
      ],
      "execution_count": 39,
      "outputs": [
        {
          "output_type": "stream",
          "text": [
            "Collecting catboost\n",
            "\u001b[?25l  Downloading https://files.pythonhosted.org/packages/52/39/128fff65072c8327371e3c594f3c826d29c85b21cb6485980353b168e0e4/catboost-0.24.2-cp36-none-manylinux1_x86_64.whl (66.1MB)\n",
            "\u001b[K     |████████████████████████████████| 66.2MB 131kB/s \n",
            "\u001b[?25hRequirement already satisfied: plotly in /usr/local/lib/python3.6/dist-packages (from catboost) (4.4.1)\n",
            "Requirement already satisfied: matplotlib in /usr/local/lib/python3.6/dist-packages (from catboost) (3.2.2)\n",
            "Requirement already satisfied: six in /usr/local/lib/python3.6/dist-packages (from catboost) (1.15.0)\n",
            "Requirement already satisfied: graphviz in /usr/local/lib/python3.6/dist-packages (from catboost) (0.10.1)\n",
            "Requirement already satisfied: pandas>=0.24.0 in /usr/local/lib/python3.6/dist-packages (from catboost) (1.1.4)\n",
            "Requirement already satisfied: scipy in /usr/local/lib/python3.6/dist-packages (from catboost) (1.4.1)\n",
            "Requirement already satisfied: numpy>=1.16.0 in /usr/local/lib/python3.6/dist-packages (from catboost) (1.18.5)\n",
            "Requirement already satisfied: retrying>=1.3.3 in /usr/local/lib/python3.6/dist-packages (from plotly->catboost) (1.3.3)\n",
            "Requirement already satisfied: kiwisolver>=1.0.1 in /usr/local/lib/python3.6/dist-packages (from matplotlib->catboost) (1.3.1)\n",
            "Requirement already satisfied: cycler>=0.10 in /usr/local/lib/python3.6/dist-packages (from matplotlib->catboost) (0.10.0)\n",
            "Requirement already satisfied: python-dateutil>=2.1 in /usr/local/lib/python3.6/dist-packages (from matplotlib->catboost) (2.8.1)\n",
            "Requirement already satisfied: pyparsing!=2.0.4,!=2.1.2,!=2.1.6,>=2.0.1 in /usr/local/lib/python3.6/dist-packages (from matplotlib->catboost) (2.4.7)\n",
            "Requirement already satisfied: pytz>=2017.2 in /usr/local/lib/python3.6/dist-packages (from pandas>=0.24.0->catboost) (2018.9)\n",
            "Installing collected packages: catboost\n",
            "Successfully installed catboost-0.24.2\n"
          ],
          "name": "stdout"
        }
      ]
    },
    {
      "cell_type": "code",
      "metadata": {
        "id": "fCnOUp7yLPT7"
      },
      "source": [
        "from catboost import CatBoostClassifier, Pool\n",
        "from catboost import cv"
      ],
      "execution_count": 40,
      "outputs": []
    },
    {
      "cell_type": "code",
      "metadata": {
        "id": "2ES8MybgZUBx",
        "outputId": "14b48751-b48f-41a8-a0a9-e808fd195c60",
        "colab": {
          "base_uri": "https://localhost:8080/"
        }
      },
      "source": [
        "column_to_numbers_names"
      ],
      "execution_count": 41,
      "outputs": [
        {
          "output_type": "execute_result",
          "data": {
            "text/plain": [
              "['category', 'city', 'region', 'subcategory']"
            ]
          },
          "metadata": {
            "tags": []
          },
          "execution_count": 41
        }
      ]
    },
    {
      "cell_type": "code",
      "metadata": {
        "id": "xH73bu8hLh6v"
      },
      "source": [
        "#делаем датасеты с категориальными переменными\n",
        "column_to_numbers_names = [k+'_num' for k in column_to_numbers_names]\n",
        "column_to_numbers_names.append('dt_hour')"
      ],
      "execution_count": 42,
      "outputs": []
    },
    {
      "cell_type": "code",
      "metadata": {
        "id": "eq_2VPrcRedx",
        "outputId": "42615808-fe17-4c58-c859-ffecf1cc5777",
        "colab": {
          "base_uri": "https://localhost:8080/"
        }
      },
      "source": [
        "column_to_numbers_names"
      ],
      "execution_count": 43,
      "outputs": [
        {
          "output_type": "execute_result",
          "data": {
            "text/plain": [
              "['category_num', 'city_num', 'region_num', 'subcategory_num', 'dt_hour']"
            ]
          },
          "metadata": {
            "tags": []
          },
          "execution_count": 43
        }
      ]
    },
    {
      "cell_type": "markdown",
      "metadata": {
        "id": "KP-A0Emw66Vv"
      },
      "source": [
        "## Catboost for categorical features only"
      ]
    },
    {
      "cell_type": "code",
      "metadata": {
        "id": "FwmHN1GTLjhb",
        "outputId": "ec90c251-3462-4bf9-f659-1bac405098a3",
        "colab": {
          "base_uri": "https://localhost:8080/"
        }
      },
      "source": [
        "cat_clf = CatBoostClassifier()\n",
        "\n",
        "cat_clf.fit(df_train[column_to_numbers_names].values, df_train.is_bad)"
      ],
      "execution_count": 44,
      "outputs": [
        {
          "output_type": "stream",
          "text": [
            "Learning rate set to 0.19545\n",
            "0:\tlearn: 0.6206115\ttotal: 383ms\tremaining: 6m 22s\n",
            "1:\tlearn: 0.5742043\ttotal: 688ms\tremaining: 5m 43s\n",
            "2:\tlearn: 0.5462667\ttotal: 997ms\tremaining: 5m 31s\n",
            "3:\tlearn: 0.5271839\ttotal: 1.3s\tremaining: 5m 24s\n",
            "4:\tlearn: 0.5161890\ttotal: 1.6s\tremaining: 5m 18s\n",
            "5:\tlearn: 0.5086170\ttotal: 1.91s\tremaining: 5m 16s\n",
            "6:\tlearn: 0.5016578\ttotal: 2.22s\tremaining: 5m 15s\n",
            "7:\tlearn: 0.4979285\ttotal: 2.52s\tremaining: 5m 11s\n",
            "8:\tlearn: 0.4955942\ttotal: 2.84s\tremaining: 5m 12s\n",
            "9:\tlearn: 0.4926588\ttotal: 3.16s\tremaining: 5m 12s\n",
            "10:\tlearn: 0.4908619\ttotal: 3.46s\tremaining: 5m 11s\n",
            "11:\tlearn: 0.4894524\ttotal: 3.77s\tremaining: 5m 10s\n",
            "12:\tlearn: 0.4882043\ttotal: 4.11s\tremaining: 5m 11s\n",
            "13:\tlearn: 0.4863950\ttotal: 4.42s\tremaining: 5m 11s\n",
            "14:\tlearn: 0.4855586\ttotal: 4.7s\tremaining: 5m 8s\n",
            "15:\tlearn: 0.4848550\ttotal: 4.99s\tremaining: 5m 7s\n",
            "16:\tlearn: 0.4843500\ttotal: 5.3s\tremaining: 5m 6s\n",
            "17:\tlearn: 0.4838862\ttotal: 5.64s\tremaining: 5m 7s\n",
            "18:\tlearn: 0.4830344\ttotal: 5.93s\tremaining: 5m 6s\n",
            "19:\tlearn: 0.4818288\ttotal: 6.24s\tremaining: 5m 5s\n",
            "20:\tlearn: 0.4811650\ttotal: 6.54s\tremaining: 5m 5s\n",
            "21:\tlearn: 0.4804596\ttotal: 6.85s\tremaining: 5m 4s\n",
            "22:\tlearn: 0.4800045\ttotal: 7.13s\tremaining: 5m 2s\n",
            "23:\tlearn: 0.4790732\ttotal: 7.43s\tremaining: 5m 2s\n",
            "24:\tlearn: 0.4783795\ttotal: 7.73s\tremaining: 5m 1s\n",
            "25:\tlearn: 0.4779222\ttotal: 8.04s\tremaining: 5m 1s\n",
            "26:\tlearn: 0.4775700\ttotal: 8.34s\tremaining: 5m\n",
            "27:\tlearn: 0.4772356\ttotal: 8.62s\tremaining: 4m 59s\n",
            "28:\tlearn: 0.4767710\ttotal: 8.91s\tremaining: 4m 58s\n",
            "29:\tlearn: 0.4761784\ttotal: 9.25s\tremaining: 4m 59s\n",
            "30:\tlearn: 0.4759254\ttotal: 9.55s\tremaining: 4m 58s\n",
            "31:\tlearn: 0.4754218\ttotal: 9.86s\tremaining: 4m 58s\n",
            "32:\tlearn: 0.4750566\ttotal: 10.1s\tremaining: 4m 57s\n",
            "33:\tlearn: 0.4747776\ttotal: 10.5s\tremaining: 4m 57s\n",
            "34:\tlearn: 0.4744747\ttotal: 10.8s\tremaining: 4m 56s\n",
            "35:\tlearn: 0.4743189\ttotal: 11.1s\tremaining: 4m 56s\n",
            "36:\tlearn: 0.4741888\ttotal: 11.4s\tremaining: 4m 56s\n",
            "37:\tlearn: 0.4740214\ttotal: 11.7s\tremaining: 4m 56s\n",
            "38:\tlearn: 0.4738924\ttotal: 12s\tremaining: 4m 56s\n",
            "39:\tlearn: 0.4737053\ttotal: 12.3s\tremaining: 4m 55s\n",
            "40:\tlearn: 0.4735549\ttotal: 12.6s\tremaining: 4m 54s\n",
            "41:\tlearn: 0.4732508\ttotal: 12.9s\tremaining: 4m 55s\n",
            "42:\tlearn: 0.4731047\ttotal: 13.3s\tremaining: 4m 55s\n",
            "43:\tlearn: 0.4729118\ttotal: 13.6s\tremaining: 4m 56s\n",
            "44:\tlearn: 0.4726766\ttotal: 14s\tremaining: 4m 56s\n",
            "45:\tlearn: 0.4725013\ttotal: 14.3s\tremaining: 4m 55s\n",
            "46:\tlearn: 0.4722927\ttotal: 14.6s\tremaining: 4m 55s\n",
            "47:\tlearn: 0.4721290\ttotal: 14.9s\tremaining: 4m 55s\n",
            "48:\tlearn: 0.4719801\ttotal: 15.2s\tremaining: 4m 54s\n",
            "49:\tlearn: 0.4715424\ttotal: 15.5s\tremaining: 4m 54s\n",
            "50:\tlearn: 0.4713902\ttotal: 15.8s\tremaining: 4m 54s\n",
            "51:\tlearn: 0.4711163\ttotal: 16.1s\tremaining: 4m 53s\n",
            "52:\tlearn: 0.4708787\ttotal: 16.4s\tremaining: 4m 53s\n",
            "53:\tlearn: 0.4706693\ttotal: 16.8s\tremaining: 4m 54s\n",
            "54:\tlearn: 0.4704237\ttotal: 17.1s\tremaining: 4m 53s\n",
            "55:\tlearn: 0.4702112\ttotal: 17.4s\tremaining: 4m 52s\n",
            "56:\tlearn: 0.4701030\ttotal: 17.7s\tremaining: 4m 52s\n",
            "57:\tlearn: 0.4699105\ttotal: 18s\tremaining: 4m 52s\n",
            "58:\tlearn: 0.4698149\ttotal: 18.3s\tremaining: 4m 52s\n",
            "59:\tlearn: 0.4697266\ttotal: 18.6s\tremaining: 4m 51s\n",
            "60:\tlearn: 0.4695515\ttotal: 18.9s\tremaining: 4m 51s\n",
            "61:\tlearn: 0.4694251\ttotal: 19.2s\tremaining: 4m 50s\n",
            "62:\tlearn: 0.4692506\ttotal: 19.5s\tremaining: 4m 50s\n",
            "63:\tlearn: 0.4691823\ttotal: 19.8s\tremaining: 4m 50s\n",
            "64:\tlearn: 0.4689541\ttotal: 20.1s\tremaining: 4m 49s\n",
            "65:\tlearn: 0.4688482\ttotal: 20.4s\tremaining: 4m 49s\n",
            "66:\tlearn: 0.4687332\ttotal: 20.7s\tremaining: 4m 48s\n",
            "67:\tlearn: 0.4685409\ttotal: 21s\tremaining: 4m 48s\n",
            "68:\tlearn: 0.4683664\ttotal: 21.4s\tremaining: 4m 48s\n",
            "69:\tlearn: 0.4682319\ttotal: 21.7s\tremaining: 4m 48s\n",
            "70:\tlearn: 0.4681498\ttotal: 22s\tremaining: 4m 47s\n",
            "71:\tlearn: 0.4680425\ttotal: 22.3s\tremaining: 4m 47s\n",
            "72:\tlearn: 0.4677623\ttotal: 22.6s\tremaining: 4m 47s\n",
            "73:\tlearn: 0.4676739\ttotal: 23s\tremaining: 4m 47s\n",
            "74:\tlearn: 0.4675961\ttotal: 23.3s\tremaining: 4m 47s\n",
            "75:\tlearn: 0.4674857\ttotal: 23.6s\tremaining: 4m 47s\n",
            "76:\tlearn: 0.4673379\ttotal: 23.9s\tremaining: 4m 46s\n",
            "77:\tlearn: 0.4672701\ttotal: 24.3s\tremaining: 4m 46s\n",
            "78:\tlearn: 0.4671731\ttotal: 24.6s\tremaining: 4m 46s\n",
            "79:\tlearn: 0.4670947\ttotal: 24.9s\tremaining: 4m 46s\n",
            "80:\tlearn: 0.4669820\ttotal: 25.2s\tremaining: 4m 45s\n",
            "81:\tlearn: 0.4668903\ttotal: 25.5s\tremaining: 4m 45s\n",
            "82:\tlearn: 0.4666127\ttotal: 25.8s\tremaining: 4m 44s\n",
            "83:\tlearn: 0.4665669\ttotal: 26.1s\tremaining: 4m 44s\n",
            "84:\tlearn: 0.4664735\ttotal: 26.5s\tremaining: 4m 44s\n",
            "85:\tlearn: 0.4663292\ttotal: 26.8s\tremaining: 4m 44s\n",
            "86:\tlearn: 0.4662254\ttotal: 27.1s\tremaining: 4m 44s\n",
            "87:\tlearn: 0.4661228\ttotal: 27.5s\tremaining: 4m 44s\n",
            "88:\tlearn: 0.4659429\ttotal: 27.8s\tremaining: 4m 44s\n",
            "89:\tlearn: 0.4658539\ttotal: 28.1s\tremaining: 4m 44s\n",
            "90:\tlearn: 0.4657541\ttotal: 28.5s\tremaining: 4m 44s\n",
            "91:\tlearn: 0.4656437\ttotal: 28.8s\tremaining: 4m 44s\n",
            "92:\tlearn: 0.4655789\ttotal: 29.2s\tremaining: 4m 44s\n",
            "93:\tlearn: 0.4654580\ttotal: 29.5s\tremaining: 4m 44s\n",
            "94:\tlearn: 0.4653398\ttotal: 29.8s\tremaining: 4m 44s\n",
            "95:\tlearn: 0.4652475\ttotal: 30.1s\tremaining: 4m 43s\n",
            "96:\tlearn: 0.4651926\ttotal: 30.5s\tremaining: 4m 43s\n",
            "97:\tlearn: 0.4650877\ttotal: 30.8s\tremaining: 4m 43s\n",
            "98:\tlearn: 0.4649756\ttotal: 31s\tremaining: 4m 42s\n",
            "99:\tlearn: 0.4648951\ttotal: 31.3s\tremaining: 4m 41s\n",
            "100:\tlearn: 0.4648157\ttotal: 31.7s\tremaining: 4m 41s\n",
            "101:\tlearn: 0.4647173\ttotal: 32s\tremaining: 4m 41s\n",
            "102:\tlearn: 0.4646524\ttotal: 32.3s\tremaining: 4m 41s\n",
            "103:\tlearn: 0.4646195\ttotal: 32.7s\tremaining: 4m 41s\n",
            "104:\tlearn: 0.4644852\ttotal: 33s\tremaining: 4m 41s\n",
            "105:\tlearn: 0.4643846\ttotal: 33.3s\tremaining: 4m 41s\n",
            "106:\tlearn: 0.4643286\ttotal: 33.6s\tremaining: 4m 40s\n",
            "107:\tlearn: 0.4642694\ttotal: 33.9s\tremaining: 4m 40s\n",
            "108:\tlearn: 0.4642180\ttotal: 34.2s\tremaining: 4m 39s\n",
            "109:\tlearn: 0.4641359\ttotal: 34.5s\tremaining: 4m 39s\n",
            "110:\tlearn: 0.4640773\ttotal: 34.9s\tremaining: 4m 39s\n",
            "111:\tlearn: 0.4640431\ttotal: 35.2s\tremaining: 4m 38s\n",
            "112:\tlearn: 0.4639180\ttotal: 35.5s\tremaining: 4m 38s\n",
            "113:\tlearn: 0.4638457\ttotal: 35.8s\tremaining: 4m 38s\n",
            "114:\tlearn: 0.4637801\ttotal: 36.1s\tremaining: 4m 37s\n",
            "115:\tlearn: 0.4637265\ttotal: 36.4s\tremaining: 4m 37s\n",
            "116:\tlearn: 0.4636777\ttotal: 36.7s\tremaining: 4m 37s\n",
            "117:\tlearn: 0.4633833\ttotal: 37s\tremaining: 4m 36s\n",
            "118:\tlearn: 0.4633522\ttotal: 37.3s\tremaining: 4m 36s\n",
            "119:\tlearn: 0.4633202\ttotal: 37.7s\tremaining: 4m 36s\n",
            "120:\tlearn: 0.4632684\ttotal: 38s\tremaining: 4m 35s\n",
            "121:\tlearn: 0.4631939\ttotal: 38.3s\tremaining: 4m 35s\n",
            "122:\tlearn: 0.4631072\ttotal: 38.6s\tremaining: 4m 34s\n",
            "123:\tlearn: 0.4630320\ttotal: 38.9s\tremaining: 4m 34s\n",
            "124:\tlearn: 0.4629530\ttotal: 39.2s\tremaining: 4m 34s\n",
            "125:\tlearn: 0.4629069\ttotal: 39.5s\tremaining: 4m 33s\n",
            "126:\tlearn: 0.4628527\ttotal: 39.8s\tremaining: 4m 33s\n",
            "127:\tlearn: 0.4627641\ttotal: 40.1s\tremaining: 4m 32s\n",
            "128:\tlearn: 0.4627184\ttotal: 40.4s\tremaining: 4m 32s\n",
            "129:\tlearn: 0.4626620\ttotal: 40.7s\tremaining: 4m 32s\n",
            "130:\tlearn: 0.4626421\ttotal: 41s\tremaining: 4m 32s\n",
            "131:\tlearn: 0.4626063\ttotal: 41.4s\tremaining: 4m 32s\n",
            "132:\tlearn: 0.4625665\ttotal: 41.7s\tremaining: 4m 31s\n",
            "133:\tlearn: 0.4625272\ttotal: 42s\tremaining: 4m 31s\n",
            "134:\tlearn: 0.4624700\ttotal: 42.3s\tremaining: 4m 31s\n",
            "135:\tlearn: 0.4624032\ttotal: 42.6s\tremaining: 4m 30s\n",
            "136:\tlearn: 0.4623410\ttotal: 42.9s\tremaining: 4m 30s\n",
            "137:\tlearn: 0.4623051\ttotal: 43.2s\tremaining: 4m 29s\n",
            "138:\tlearn: 0.4621949\ttotal: 43.5s\tremaining: 4m 29s\n",
            "139:\tlearn: 0.4620618\ttotal: 43.9s\tremaining: 4m 29s\n",
            "140:\tlearn: 0.4620013\ttotal: 44.2s\tremaining: 4m 29s\n",
            "141:\tlearn: 0.4619203\ttotal: 44.5s\tremaining: 4m 29s\n",
            "142:\tlearn: 0.4618692\ttotal: 44.8s\tremaining: 4m 28s\n",
            "143:\tlearn: 0.4618208\ttotal: 45.1s\tremaining: 4m 28s\n",
            "144:\tlearn: 0.4617776\ttotal: 45.4s\tremaining: 4m 27s\n",
            "145:\tlearn: 0.4617405\ttotal: 45.7s\tremaining: 4m 27s\n",
            "146:\tlearn: 0.4616414\ttotal: 46s\tremaining: 4m 27s\n",
            "147:\tlearn: 0.4615839\ttotal: 46.4s\tremaining: 4m 26s\n",
            "148:\tlearn: 0.4615139\ttotal: 46.7s\tremaining: 4m 26s\n",
            "149:\tlearn: 0.4614732\ttotal: 47s\tremaining: 4m 26s\n",
            "150:\tlearn: 0.4614332\ttotal: 47.4s\tremaining: 4m 26s\n",
            "151:\tlearn: 0.4613787\ttotal: 47.7s\tremaining: 4m 26s\n",
            "152:\tlearn: 0.4613145\ttotal: 48s\tremaining: 4m 25s\n",
            "153:\tlearn: 0.4612514\ttotal: 48.3s\tremaining: 4m 25s\n",
            "154:\tlearn: 0.4612295\ttotal: 48.6s\tremaining: 4m 25s\n",
            "155:\tlearn: 0.4611968\ttotal: 49s\tremaining: 4m 24s\n",
            "156:\tlearn: 0.4611385\ttotal: 49.3s\tremaining: 4m 24s\n",
            "157:\tlearn: 0.4611075\ttotal: 49.6s\tremaining: 4m 24s\n",
            "158:\tlearn: 0.4610859\ttotal: 49.9s\tremaining: 4m 24s\n",
            "159:\tlearn: 0.4610631\ttotal: 50.2s\tremaining: 4m 23s\n",
            "160:\tlearn: 0.4610063\ttotal: 50.5s\tremaining: 4m 23s\n",
            "161:\tlearn: 0.4609605\ttotal: 50.9s\tremaining: 4m 23s\n",
            "162:\tlearn: 0.4608869\ttotal: 51.2s\tremaining: 4m 22s\n",
            "163:\tlearn: 0.4608683\ttotal: 51.5s\tremaining: 4m 22s\n",
            "164:\tlearn: 0.4608119\ttotal: 51.8s\tremaining: 4m 22s\n",
            "165:\tlearn: 0.4607839\ttotal: 52.1s\tremaining: 4m 21s\n",
            "166:\tlearn: 0.4607100\ttotal: 52.5s\tremaining: 4m 21s\n",
            "167:\tlearn: 0.4606619\ttotal: 52.7s\tremaining: 4m 21s\n",
            "168:\tlearn: 0.4606215\ttotal: 53s\tremaining: 4m 20s\n",
            "169:\tlearn: 0.4606013\ttotal: 53.4s\tremaining: 4m 20s\n",
            "170:\tlearn: 0.4605849\ttotal: 53.7s\tremaining: 4m 20s\n",
            "171:\tlearn: 0.4605507\ttotal: 54s\tremaining: 4m 20s\n",
            "172:\tlearn: 0.4605225\ttotal: 54.4s\tremaining: 4m 20s\n",
            "173:\tlearn: 0.4604995\ttotal: 54.7s\tremaining: 4m 19s\n",
            "174:\tlearn: 0.4604422\ttotal: 55.1s\tremaining: 4m 19s\n",
            "175:\tlearn: 0.4604026\ttotal: 55.4s\tremaining: 4m 19s\n",
            "176:\tlearn: 0.4603719\ttotal: 55.7s\tremaining: 4m 19s\n",
            "177:\tlearn: 0.4602857\ttotal: 56s\tremaining: 4m 18s\n",
            "178:\tlearn: 0.4602662\ttotal: 56.4s\tremaining: 4m 18s\n",
            "179:\tlearn: 0.4602412\ttotal: 56.7s\tremaining: 4m 18s\n",
            "180:\tlearn: 0.4602087\ttotal: 57s\tremaining: 4m 17s\n",
            "181:\tlearn: 0.4601753\ttotal: 57.3s\tremaining: 4m 17s\n",
            "182:\tlearn: 0.4601484\ttotal: 57.6s\tremaining: 4m 17s\n",
            "183:\tlearn: 0.4601275\ttotal: 57.9s\tremaining: 4m 16s\n",
            "184:\tlearn: 0.4600905\ttotal: 58.2s\tremaining: 4m 16s\n",
            "185:\tlearn: 0.4600651\ttotal: 58.5s\tremaining: 4m 16s\n",
            "186:\tlearn: 0.4600332\ttotal: 58.8s\tremaining: 4m 15s\n",
            "187:\tlearn: 0.4599901\ttotal: 59.2s\tremaining: 4m 15s\n",
            "188:\tlearn: 0.4599680\ttotal: 59.5s\tremaining: 4m 15s\n",
            "189:\tlearn: 0.4599218\ttotal: 59.8s\tremaining: 4m 15s\n",
            "190:\tlearn: 0.4598868\ttotal: 1m\tremaining: 4m 14s\n",
            "191:\tlearn: 0.4598635\ttotal: 1m\tremaining: 4m 14s\n",
            "192:\tlearn: 0.4598133\ttotal: 1m\tremaining: 4m 14s\n",
            "193:\tlearn: 0.4597863\ttotal: 1m 1s\tremaining: 4m 14s\n",
            "194:\tlearn: 0.4597632\ttotal: 1m 1s\tremaining: 4m 13s\n",
            "195:\tlearn: 0.4597149\ttotal: 1m 1s\tremaining: 4m 13s\n",
            "196:\tlearn: 0.4596883\ttotal: 1m 2s\tremaining: 4m 13s\n",
            "197:\tlearn: 0.4596389\ttotal: 1m 2s\tremaining: 4m 13s\n",
            "198:\tlearn: 0.4595889\ttotal: 1m 2s\tremaining: 4m 12s\n",
            "199:\tlearn: 0.4595362\ttotal: 1m 3s\tremaining: 4m 12s\n",
            "200:\tlearn: 0.4595170\ttotal: 1m 3s\tremaining: 4m 12s\n",
            "201:\tlearn: 0.4594813\ttotal: 1m 3s\tremaining: 4m 12s\n",
            "202:\tlearn: 0.4594512\ttotal: 1m 4s\tremaining: 4m 11s\n",
            "203:\tlearn: 0.4594388\ttotal: 1m 4s\tremaining: 4m 11s\n",
            "204:\tlearn: 0.4594065\ttotal: 1m 4s\tremaining: 4m 11s\n",
            "205:\tlearn: 0.4593740\ttotal: 1m 5s\tremaining: 4m 10s\n",
            "206:\tlearn: 0.4593524\ttotal: 1m 5s\tremaining: 4m 10s\n",
            "207:\tlearn: 0.4592810\ttotal: 1m 5s\tremaining: 4m 10s\n",
            "208:\tlearn: 0.4592463\ttotal: 1m 5s\tremaining: 4m 9s\n",
            "209:\tlearn: 0.4591716\ttotal: 1m 6s\tremaining: 4m 9s\n",
            "210:\tlearn: 0.4591276\ttotal: 1m 6s\tremaining: 4m 9s\n",
            "211:\tlearn: 0.4590811\ttotal: 1m 6s\tremaining: 4m 8s\n",
            "212:\tlearn: 0.4590487\ttotal: 1m 7s\tremaining: 4m 8s\n",
            "213:\tlearn: 0.4590219\ttotal: 1m 7s\tremaining: 4m 8s\n",
            "214:\tlearn: 0.4589891\ttotal: 1m 7s\tremaining: 4m 8s\n",
            "215:\tlearn: 0.4589624\ttotal: 1m 8s\tremaining: 4m 7s\n",
            "216:\tlearn: 0.4589243\ttotal: 1m 8s\tremaining: 4m 7s\n",
            "217:\tlearn: 0.4588955\ttotal: 1m 8s\tremaining: 4m 7s\n",
            "218:\tlearn: 0.4588739\ttotal: 1m 9s\tremaining: 4m 6s\n",
            "219:\tlearn: 0.4588525\ttotal: 1m 9s\tremaining: 4m 6s\n",
            "220:\tlearn: 0.4588253\ttotal: 1m 9s\tremaining: 4m 6s\n",
            "221:\tlearn: 0.4588088\ttotal: 1m 10s\tremaining: 4m 5s\n",
            "222:\tlearn: 0.4587792\ttotal: 1m 10s\tremaining: 4m 5s\n",
            "223:\tlearn: 0.4587517\ttotal: 1m 10s\tremaining: 4m 5s\n",
            "224:\tlearn: 0.4587316\ttotal: 1m 11s\tremaining: 4m 5s\n",
            "225:\tlearn: 0.4587042\ttotal: 1m 11s\tremaining: 4m 4s\n",
            "226:\tlearn: 0.4586775\ttotal: 1m 11s\tremaining: 4m 4s\n",
            "227:\tlearn: 0.4586335\ttotal: 1m 12s\tremaining: 4m 4s\n",
            "228:\tlearn: 0.4586140\ttotal: 1m 12s\tremaining: 4m 4s\n",
            "229:\tlearn: 0.4585749\ttotal: 1m 12s\tremaining: 4m 3s\n",
            "230:\tlearn: 0.4585489\ttotal: 1m 13s\tremaining: 4m 3s\n",
            "231:\tlearn: 0.4585175\ttotal: 1m 13s\tremaining: 4m 3s\n",
            "232:\tlearn: 0.4584884\ttotal: 1m 13s\tremaining: 4m 3s\n",
            "233:\tlearn: 0.4584647\ttotal: 1m 14s\tremaining: 4m 2s\n",
            "234:\tlearn: 0.4584343\ttotal: 1m 14s\tremaining: 4m 2s\n",
            "235:\tlearn: 0.4584175\ttotal: 1m 14s\tremaining: 4m 2s\n",
            "236:\tlearn: 0.4583744\ttotal: 1m 15s\tremaining: 4m 2s\n",
            "237:\tlearn: 0.4583570\ttotal: 1m 15s\tremaining: 4m 2s\n",
            "238:\tlearn: 0.4583155\ttotal: 1m 15s\tremaining: 4m 1s\n",
            "239:\tlearn: 0.4582769\ttotal: 1m 16s\tremaining: 4m 1s\n",
            "240:\tlearn: 0.4582525\ttotal: 1m 16s\tremaining: 4m\n",
            "241:\tlearn: 0.4582274\ttotal: 1m 16s\tremaining: 4m\n",
            "242:\tlearn: 0.4582056\ttotal: 1m 17s\tremaining: 4m\n",
            "243:\tlearn: 0.4581860\ttotal: 1m 17s\tremaining: 3m 59s\n",
            "244:\tlearn: 0.4581711\ttotal: 1m 17s\tremaining: 3m 59s\n",
            "245:\tlearn: 0.4581334\ttotal: 1m 18s\tremaining: 3m 59s\n",
            "246:\tlearn: 0.4581053\ttotal: 1m 18s\tremaining: 3m 58s\n",
            "247:\tlearn: 0.4580834\ttotal: 1m 18s\tremaining: 3m 58s\n",
            "248:\tlearn: 0.4580530\ttotal: 1m 19s\tremaining: 3m 58s\n",
            "249:\tlearn: 0.4580283\ttotal: 1m 19s\tremaining: 3m 57s\n",
            "250:\tlearn: 0.4580034\ttotal: 1m 19s\tremaining: 3m 57s\n",
            "251:\tlearn: 0.4579822\ttotal: 1m 19s\tremaining: 3m 57s\n",
            "252:\tlearn: 0.4579026\ttotal: 1m 20s\tremaining: 3m 56s\n",
            "253:\tlearn: 0.4578581\ttotal: 1m 20s\tremaining: 3m 56s\n",
            "254:\tlearn: 0.4578197\ttotal: 1m 20s\tremaining: 3m 56s\n",
            "255:\tlearn: 0.4578032\ttotal: 1m 21s\tremaining: 3m 55s\n",
            "256:\tlearn: 0.4577783\ttotal: 1m 21s\tremaining: 3m 55s\n",
            "257:\tlearn: 0.4577620\ttotal: 1m 21s\tremaining: 3m 55s\n",
            "258:\tlearn: 0.4577466\ttotal: 1m 22s\tremaining: 3m 54s\n",
            "259:\tlearn: 0.4577254\ttotal: 1m 22s\tremaining: 3m 54s\n",
            "260:\tlearn: 0.4577065\ttotal: 1m 22s\tremaining: 3m 54s\n",
            "261:\tlearn: 0.4576916\ttotal: 1m 23s\tremaining: 3m 54s\n",
            "262:\tlearn: 0.4576706\ttotal: 1m 23s\tremaining: 3m 53s\n",
            "263:\tlearn: 0.4576308\ttotal: 1m 23s\tremaining: 3m 53s\n",
            "264:\tlearn: 0.4576011\ttotal: 1m 24s\tremaining: 3m 53s\n",
            "265:\tlearn: 0.4575763\ttotal: 1m 24s\tremaining: 3m 53s\n",
            "266:\tlearn: 0.4575354\ttotal: 1m 24s\tremaining: 3m 52s\n",
            "267:\tlearn: 0.4575236\ttotal: 1m 25s\tremaining: 3m 52s\n",
            "268:\tlearn: 0.4575065\ttotal: 1m 25s\tremaining: 3m 52s\n",
            "269:\tlearn: 0.4574856\ttotal: 1m 25s\tremaining: 3m 51s\n",
            "270:\tlearn: 0.4574651\ttotal: 1m 26s\tremaining: 3m 51s\n",
            "271:\tlearn: 0.4574453\ttotal: 1m 26s\tremaining: 3m 51s\n",
            "272:\tlearn: 0.4574274\ttotal: 1m 26s\tremaining: 3m 50s\n",
            "273:\tlearn: 0.4574083\ttotal: 1m 26s\tremaining: 3m 50s\n",
            "274:\tlearn: 0.4573722\ttotal: 1m 27s\tremaining: 3m 50s\n",
            "275:\tlearn: 0.4573360\ttotal: 1m 27s\tremaining: 3m 49s\n",
            "276:\tlearn: 0.4573220\ttotal: 1m 27s\tremaining: 3m 49s\n",
            "277:\tlearn: 0.4572842\ttotal: 1m 28s\tremaining: 3m 49s\n",
            "278:\tlearn: 0.4572664\ttotal: 1m 28s\tremaining: 3m 48s\n",
            "279:\tlearn: 0.4572421\ttotal: 1m 28s\tremaining: 3m 48s\n",
            "280:\tlearn: 0.4571660\ttotal: 1m 29s\tremaining: 3m 48s\n",
            "281:\tlearn: 0.4571469\ttotal: 1m 29s\tremaining: 3m 47s\n",
            "282:\tlearn: 0.4571150\ttotal: 1m 29s\tremaining: 3m 47s\n",
            "283:\tlearn: 0.4570998\ttotal: 1m 30s\tremaining: 3m 47s\n",
            "284:\tlearn: 0.4570668\ttotal: 1m 30s\tremaining: 3m 46s\n",
            "285:\tlearn: 0.4570505\ttotal: 1m 30s\tremaining: 3m 46s\n",
            "286:\tlearn: 0.4570395\ttotal: 1m 31s\tremaining: 3m 46s\n",
            "287:\tlearn: 0.4570131\ttotal: 1m 31s\tremaining: 3m 45s\n",
            "288:\tlearn: 0.4569754\ttotal: 1m 31s\tremaining: 3m 45s\n",
            "289:\tlearn: 0.4569507\ttotal: 1m 31s\tremaining: 3m 45s\n",
            "290:\tlearn: 0.4569373\ttotal: 1m 32s\tremaining: 3m 44s\n",
            "291:\tlearn: 0.4569215\ttotal: 1m 32s\tremaining: 3m 44s\n",
            "292:\tlearn: 0.4569026\ttotal: 1m 32s\tremaining: 3m 44s\n",
            "293:\tlearn: 0.4568839\ttotal: 1m 33s\tremaining: 3m 43s\n",
            "294:\tlearn: 0.4568646\ttotal: 1m 33s\tremaining: 3m 43s\n",
            "295:\tlearn: 0.4568422\ttotal: 1m 33s\tremaining: 3m 43s\n",
            "296:\tlearn: 0.4568242\ttotal: 1m 34s\tremaining: 3m 42s\n",
            "297:\tlearn: 0.4567902\ttotal: 1m 34s\tremaining: 3m 42s\n",
            "298:\tlearn: 0.4567748\ttotal: 1m 34s\tremaining: 3m 42s\n",
            "299:\tlearn: 0.4567552\ttotal: 1m 35s\tremaining: 3m 42s\n",
            "300:\tlearn: 0.4567161\ttotal: 1m 35s\tremaining: 3m 41s\n",
            "301:\tlearn: 0.4566763\ttotal: 1m 35s\tremaining: 3m 41s\n",
            "302:\tlearn: 0.4566585\ttotal: 1m 36s\tremaining: 3m 41s\n",
            "303:\tlearn: 0.4566193\ttotal: 1m 36s\tremaining: 3m 40s\n",
            "304:\tlearn: 0.4565985\ttotal: 1m 36s\tremaining: 3m 40s\n",
            "305:\tlearn: 0.4565718\ttotal: 1m 37s\tremaining: 3m 40s\n",
            "306:\tlearn: 0.4565574\ttotal: 1m 37s\tremaining: 3m 39s\n",
            "307:\tlearn: 0.4565460\ttotal: 1m 37s\tremaining: 3m 39s\n",
            "308:\tlearn: 0.4565362\ttotal: 1m 38s\tremaining: 3m 39s\n",
            "309:\tlearn: 0.4565169\ttotal: 1m 38s\tremaining: 3m 38s\n",
            "310:\tlearn: 0.4564943\ttotal: 1m 38s\tremaining: 3m 38s\n",
            "311:\tlearn: 0.4564814\ttotal: 1m 39s\tremaining: 3m 38s\n",
            "312:\tlearn: 0.4564561\ttotal: 1m 39s\tremaining: 3m 38s\n",
            "313:\tlearn: 0.4564425\ttotal: 1m 39s\tremaining: 3m 37s\n",
            "314:\tlearn: 0.4564135\ttotal: 1m 40s\tremaining: 3m 37s\n",
            "315:\tlearn: 0.4563870\ttotal: 1m 40s\tremaining: 3m 37s\n",
            "316:\tlearn: 0.4563507\ttotal: 1m 40s\tremaining: 3m 36s\n",
            "317:\tlearn: 0.4563332\ttotal: 1m 40s\tremaining: 3m 36s\n",
            "318:\tlearn: 0.4563148\ttotal: 1m 41s\tremaining: 3m 36s\n",
            "319:\tlearn: 0.4562959\ttotal: 1m 41s\tremaining: 3m 35s\n",
            "320:\tlearn: 0.4562615\ttotal: 1m 41s\tremaining: 3m 35s\n",
            "321:\tlearn: 0.4562488\ttotal: 1m 42s\tremaining: 3m 35s\n",
            "322:\tlearn: 0.4562348\ttotal: 1m 42s\tremaining: 3m 34s\n",
            "323:\tlearn: 0.4562060\ttotal: 1m 42s\tremaining: 3m 34s\n",
            "324:\tlearn: 0.4561913\ttotal: 1m 43s\tremaining: 3m 34s\n",
            "325:\tlearn: 0.4561623\ttotal: 1m 43s\tremaining: 3m 34s\n",
            "326:\tlearn: 0.4561514\ttotal: 1m 43s\tremaining: 3m 33s\n",
            "327:\tlearn: 0.4561249\ttotal: 1m 44s\tremaining: 3m 33s\n",
            "328:\tlearn: 0.4560954\ttotal: 1m 44s\tremaining: 3m 33s\n",
            "329:\tlearn: 0.4560772\ttotal: 1m 44s\tremaining: 3m 33s\n",
            "330:\tlearn: 0.4560610\ttotal: 1m 45s\tremaining: 3m 32s\n",
            "331:\tlearn: 0.4560484\ttotal: 1m 45s\tremaining: 3m 32s\n",
            "332:\tlearn: 0.4560297\ttotal: 1m 45s\tremaining: 3m 32s\n",
            "333:\tlearn: 0.4560088\ttotal: 1m 46s\tremaining: 3m 31s\n",
            "334:\tlearn: 0.4559762\ttotal: 1m 46s\tremaining: 3m 31s\n",
            "335:\tlearn: 0.4559570\ttotal: 1m 46s\tremaining: 3m 31s\n",
            "336:\tlearn: 0.4559368\ttotal: 1m 47s\tremaining: 3m 30s\n",
            "337:\tlearn: 0.4559112\ttotal: 1m 47s\tremaining: 3m 30s\n",
            "338:\tlearn: 0.4558986\ttotal: 1m 47s\tremaining: 3m 30s\n",
            "339:\tlearn: 0.4558806\ttotal: 1m 48s\tremaining: 3m 30s\n",
            "340:\tlearn: 0.4558666\ttotal: 1m 48s\tremaining: 3m 29s\n",
            "341:\tlearn: 0.4558494\ttotal: 1m 48s\tremaining: 3m 29s\n",
            "342:\tlearn: 0.4558368\ttotal: 1m 49s\tremaining: 3m 29s\n",
            "343:\tlearn: 0.4558282\ttotal: 1m 49s\tremaining: 3m 28s\n",
            "344:\tlearn: 0.4558036\ttotal: 1m 49s\tremaining: 3m 28s\n",
            "345:\tlearn: 0.4557853\ttotal: 1m 50s\tremaining: 3m 28s\n",
            "346:\tlearn: 0.4557563\ttotal: 1m 50s\tremaining: 3m 28s\n",
            "347:\tlearn: 0.4557451\ttotal: 1m 50s\tremaining: 3m 27s\n",
            "348:\tlearn: 0.4557294\ttotal: 1m 51s\tremaining: 3m 27s\n",
            "349:\tlearn: 0.4557129\ttotal: 1m 51s\tremaining: 3m 27s\n",
            "350:\tlearn: 0.4556973\ttotal: 1m 51s\tremaining: 3m 26s\n",
            "351:\tlearn: 0.4556868\ttotal: 1m 52s\tremaining: 3m 26s\n",
            "352:\tlearn: 0.4556684\ttotal: 1m 52s\tremaining: 3m 26s\n",
            "353:\tlearn: 0.4556458\ttotal: 1m 52s\tremaining: 3m 25s\n",
            "354:\tlearn: 0.4556368\ttotal: 1m 53s\tremaining: 3m 25s\n",
            "355:\tlearn: 0.4556265\ttotal: 1m 53s\tremaining: 3m 25s\n",
            "356:\tlearn: 0.4555675\ttotal: 1m 53s\tremaining: 3m 24s\n",
            "357:\tlearn: 0.4555495\ttotal: 1m 54s\tremaining: 3m 24s\n",
            "358:\tlearn: 0.4555225\ttotal: 1m 54s\tremaining: 3m 24s\n",
            "359:\tlearn: 0.4555096\ttotal: 1m 54s\tremaining: 3m 24s\n",
            "360:\tlearn: 0.4554807\ttotal: 1m 55s\tremaining: 3m 23s\n",
            "361:\tlearn: 0.4554635\ttotal: 1m 55s\tremaining: 3m 23s\n",
            "362:\tlearn: 0.4554504\ttotal: 1m 55s\tremaining: 3m 23s\n",
            "363:\tlearn: 0.4554298\ttotal: 1m 56s\tremaining: 3m 22s\n",
            "364:\tlearn: 0.4554240\ttotal: 1m 56s\tremaining: 3m 22s\n",
            "365:\tlearn: 0.4554133\ttotal: 1m 56s\tremaining: 3m 22s\n",
            "366:\tlearn: 0.4553923\ttotal: 1m 57s\tremaining: 3m 21s\n",
            "367:\tlearn: 0.4553794\ttotal: 1m 57s\tremaining: 3m 21s\n",
            "368:\tlearn: 0.4553597\ttotal: 1m 57s\tremaining: 3m 21s\n",
            "369:\tlearn: 0.4553517\ttotal: 1m 58s\tremaining: 3m 21s\n",
            "370:\tlearn: 0.4553385\ttotal: 1m 58s\tremaining: 3m 20s\n",
            "371:\tlearn: 0.4553223\ttotal: 1m 58s\tremaining: 3m 20s\n",
            "372:\tlearn: 0.4553114\ttotal: 1m 59s\tremaining: 3m 20s\n",
            "373:\tlearn: 0.4552933\ttotal: 1m 59s\tremaining: 3m 19s\n",
            "374:\tlearn: 0.4552660\ttotal: 1m 59s\tremaining: 3m 19s\n",
            "375:\tlearn: 0.4552530\ttotal: 2m\tremaining: 3m 19s\n",
            "376:\tlearn: 0.4552271\ttotal: 2m\tremaining: 3m 18s\n",
            "377:\tlearn: 0.4552163\ttotal: 2m\tremaining: 3m 18s\n",
            "378:\tlearn: 0.4552031\ttotal: 2m 1s\tremaining: 3m 18s\n",
            "379:\tlearn: 0.4551901\ttotal: 2m 1s\tremaining: 3m 18s\n",
            "380:\tlearn: 0.4551795\ttotal: 2m 1s\tremaining: 3m 17s\n",
            "381:\tlearn: 0.4551623\ttotal: 2m 2s\tremaining: 3m 17s\n",
            "382:\tlearn: 0.4551074\ttotal: 2m 2s\tremaining: 3m 17s\n",
            "383:\tlearn: 0.4550956\ttotal: 2m 2s\tremaining: 3m 16s\n",
            "384:\tlearn: 0.4550752\ttotal: 2m 3s\tremaining: 3m 16s\n",
            "385:\tlearn: 0.4550629\ttotal: 2m 3s\tremaining: 3m 16s\n",
            "386:\tlearn: 0.4550551\ttotal: 2m 3s\tremaining: 3m 15s\n",
            "387:\tlearn: 0.4550382\ttotal: 2m 4s\tremaining: 3m 15s\n",
            "388:\tlearn: 0.4550203\ttotal: 2m 4s\tremaining: 3m 15s\n",
            "389:\tlearn: 0.4550093\ttotal: 2m 4s\tremaining: 3m 14s\n",
            "390:\tlearn: 0.4549944\ttotal: 2m 4s\tremaining: 3m 14s\n",
            "391:\tlearn: 0.4549800\ttotal: 2m 5s\tremaining: 3m 14s\n",
            "392:\tlearn: 0.4549701\ttotal: 2m 5s\tremaining: 3m 14s\n",
            "393:\tlearn: 0.4549438\ttotal: 2m 5s\tremaining: 3m 13s\n",
            "394:\tlearn: 0.4549281\ttotal: 2m 6s\tremaining: 3m 13s\n",
            "395:\tlearn: 0.4549198\ttotal: 2m 6s\tremaining: 3m 13s\n",
            "396:\tlearn: 0.4549034\ttotal: 2m 6s\tremaining: 3m 12s\n",
            "397:\tlearn: 0.4548907\ttotal: 2m 7s\tremaining: 3m 12s\n",
            "398:\tlearn: 0.4548816\ttotal: 2m 7s\tremaining: 3m 12s\n",
            "399:\tlearn: 0.4548611\ttotal: 2m 8s\tremaining: 3m 12s\n",
            "400:\tlearn: 0.4548485\ttotal: 2m 8s\tremaining: 3m 11s\n",
            "401:\tlearn: 0.4548266\ttotal: 2m 8s\tremaining: 3m 11s\n",
            "402:\tlearn: 0.4548178\ttotal: 2m 9s\tremaining: 3m 11s\n",
            "403:\tlearn: 0.4548075\ttotal: 2m 9s\tremaining: 3m 10s\n",
            "404:\tlearn: 0.4547803\ttotal: 2m 9s\tremaining: 3m 10s\n",
            "405:\tlearn: 0.4547474\ttotal: 2m 10s\tremaining: 3m 10s\n",
            "406:\tlearn: 0.4547321\ttotal: 2m 10s\tremaining: 3m 9s\n",
            "407:\tlearn: 0.4547150\ttotal: 2m 10s\tremaining: 3m 9s\n",
            "408:\tlearn: 0.4547073\ttotal: 2m 11s\tremaining: 3m 9s\n",
            "409:\tlearn: 0.4546939\ttotal: 2m 11s\tremaining: 3m 9s\n",
            "410:\tlearn: 0.4546875\ttotal: 2m 11s\tremaining: 3m 8s\n",
            "411:\tlearn: 0.4546665\ttotal: 2m 12s\tremaining: 3m 8s\n",
            "412:\tlearn: 0.4546520\ttotal: 2m 12s\tremaining: 3m 8s\n",
            "413:\tlearn: 0.4546382\ttotal: 2m 12s\tremaining: 3m 7s\n",
            "414:\tlearn: 0.4546287\ttotal: 2m 12s\tremaining: 3m 7s\n",
            "415:\tlearn: 0.4545705\ttotal: 2m 13s\tremaining: 3m 7s\n",
            "416:\tlearn: 0.4545556\ttotal: 2m 13s\tremaining: 3m 6s\n",
            "417:\tlearn: 0.4545296\ttotal: 2m 13s\tremaining: 3m 6s\n",
            "418:\tlearn: 0.4545086\ttotal: 2m 14s\tremaining: 3m 6s\n",
            "419:\tlearn: 0.4544819\ttotal: 2m 14s\tremaining: 3m 5s\n",
            "420:\tlearn: 0.4544726\ttotal: 2m 14s\tremaining: 3m 5s\n",
            "421:\tlearn: 0.4544613\ttotal: 2m 15s\tremaining: 3m 5s\n",
            "422:\tlearn: 0.4544461\ttotal: 2m 15s\tremaining: 3m 4s\n",
            "423:\tlearn: 0.4544180\ttotal: 2m 15s\tremaining: 3m 4s\n",
            "424:\tlearn: 0.4543968\ttotal: 2m 16s\tremaining: 3m 4s\n",
            "425:\tlearn: 0.4543834\ttotal: 2m 16s\tremaining: 3m 3s\n",
            "426:\tlearn: 0.4543756\ttotal: 2m 16s\tremaining: 3m 3s\n",
            "427:\tlearn: 0.4543649\ttotal: 2m 17s\tremaining: 3m 3s\n",
            "428:\tlearn: 0.4543498\ttotal: 2m 17s\tremaining: 3m 2s\n",
            "429:\tlearn: 0.4543405\ttotal: 2m 17s\tremaining: 3m 2s\n",
            "430:\tlearn: 0.4543283\ttotal: 2m 18s\tremaining: 3m 2s\n",
            "431:\tlearn: 0.4543168\ttotal: 2m 18s\tremaining: 3m 2s\n",
            "432:\tlearn: 0.4543096\ttotal: 2m 18s\tremaining: 3m 1s\n",
            "433:\tlearn: 0.4542878\ttotal: 2m 19s\tremaining: 3m 1s\n",
            "434:\tlearn: 0.4542605\ttotal: 2m 19s\tremaining: 3m 1s\n",
            "435:\tlearn: 0.4542463\ttotal: 2m 19s\tremaining: 3m\n",
            "436:\tlearn: 0.4542340\ttotal: 2m 20s\tremaining: 3m\n",
            "437:\tlearn: 0.4542240\ttotal: 2m 20s\tremaining: 3m\n",
            "438:\tlearn: 0.4542125\ttotal: 2m 20s\tremaining: 3m\n",
            "439:\tlearn: 0.4541961\ttotal: 2m 21s\tremaining: 2m 59s\n",
            "440:\tlearn: 0.4541764\ttotal: 2m 21s\tremaining: 2m 59s\n",
            "441:\tlearn: 0.4541624\ttotal: 2m 21s\tremaining: 2m 59s\n",
            "442:\tlearn: 0.4541449\ttotal: 2m 22s\tremaining: 2m 58s\n",
            "443:\tlearn: 0.4541307\ttotal: 2m 22s\tremaining: 2m 58s\n",
            "444:\tlearn: 0.4541187\ttotal: 2m 22s\tremaining: 2m 58s\n",
            "445:\tlearn: 0.4541082\ttotal: 2m 23s\tremaining: 2m 57s\n",
            "446:\tlearn: 0.4540914\ttotal: 2m 23s\tremaining: 2m 57s\n",
            "447:\tlearn: 0.4540761\ttotal: 2m 23s\tremaining: 2m 57s\n",
            "448:\tlearn: 0.4540528\ttotal: 2m 24s\tremaining: 2m 57s\n",
            "449:\tlearn: 0.4540360\ttotal: 2m 24s\tremaining: 2m 56s\n",
            "450:\tlearn: 0.4540092\ttotal: 2m 24s\tremaining: 2m 56s\n",
            "451:\tlearn: 0.4539881\ttotal: 2m 25s\tremaining: 2m 56s\n",
            "452:\tlearn: 0.4539759\ttotal: 2m 25s\tremaining: 2m 55s\n",
            "453:\tlearn: 0.4539569\ttotal: 2m 25s\tremaining: 2m 55s\n",
            "454:\tlearn: 0.4539430\ttotal: 2m 26s\tremaining: 2m 55s\n",
            "455:\tlearn: 0.4539267\ttotal: 2m 26s\tremaining: 2m 54s\n",
            "456:\tlearn: 0.4539104\ttotal: 2m 26s\tremaining: 2m 54s\n",
            "457:\tlearn: 0.4538872\ttotal: 2m 27s\tremaining: 2m 54s\n",
            "458:\tlearn: 0.4538803\ttotal: 2m 27s\tremaining: 2m 54s\n",
            "459:\tlearn: 0.4538634\ttotal: 2m 28s\tremaining: 2m 53s\n",
            "460:\tlearn: 0.4538342\ttotal: 2m 28s\tremaining: 2m 53s\n",
            "461:\tlearn: 0.4538223\ttotal: 2m 28s\tremaining: 2m 53s\n",
            "462:\tlearn: 0.4538126\ttotal: 2m 29s\tremaining: 2m 52s\n",
            "463:\tlearn: 0.4537935\ttotal: 2m 29s\tremaining: 2m 52s\n",
            "464:\tlearn: 0.4537844\ttotal: 2m 29s\tremaining: 2m 52s\n",
            "465:\tlearn: 0.4537601\ttotal: 2m 30s\tremaining: 2m 51s\n",
            "466:\tlearn: 0.4537432\ttotal: 2m 30s\tremaining: 2m 51s\n",
            "467:\tlearn: 0.4537261\ttotal: 2m 30s\tremaining: 2m 51s\n",
            "468:\tlearn: 0.4537086\ttotal: 2m 31s\tremaining: 2m 51s\n",
            "469:\tlearn: 0.4536926\ttotal: 2m 31s\tremaining: 2m 50s\n",
            "470:\tlearn: 0.4536761\ttotal: 2m 31s\tremaining: 2m 50s\n",
            "471:\tlearn: 0.4536667\ttotal: 2m 32s\tremaining: 2m 50s\n",
            "472:\tlearn: 0.4536609\ttotal: 2m 32s\tremaining: 2m 49s\n",
            "473:\tlearn: 0.4536495\ttotal: 2m 32s\tremaining: 2m 49s\n",
            "474:\tlearn: 0.4536373\ttotal: 2m 33s\tremaining: 2m 49s\n",
            "475:\tlearn: 0.4536262\ttotal: 2m 33s\tremaining: 2m 48s\n",
            "476:\tlearn: 0.4536122\ttotal: 2m 33s\tremaining: 2m 48s\n",
            "477:\tlearn: 0.4535913\ttotal: 2m 33s\tremaining: 2m 48s\n",
            "478:\tlearn: 0.4535799\ttotal: 2m 34s\tremaining: 2m 47s\n",
            "479:\tlearn: 0.4535715\ttotal: 2m 34s\tremaining: 2m 47s\n",
            "480:\tlearn: 0.4535634\ttotal: 2m 35s\tremaining: 2m 47s\n",
            "481:\tlearn: 0.4535444\ttotal: 2m 35s\tremaining: 2m 46s\n",
            "482:\tlearn: 0.4535312\ttotal: 2m 35s\tremaining: 2m 46s\n",
            "483:\tlearn: 0.4535199\ttotal: 2m 35s\tremaining: 2m 46s\n",
            "484:\tlearn: 0.4535064\ttotal: 2m 36s\tremaining: 2m 46s\n",
            "485:\tlearn: 0.4534971\ttotal: 2m 36s\tremaining: 2m 45s\n",
            "486:\tlearn: 0.4534883\ttotal: 2m 36s\tremaining: 2m 45s\n",
            "487:\tlearn: 0.4534752\ttotal: 2m 37s\tremaining: 2m 45s\n",
            "488:\tlearn: 0.4534631\ttotal: 2m 37s\tremaining: 2m 44s\n",
            "489:\tlearn: 0.4534568\ttotal: 2m 37s\tremaining: 2m 44s\n",
            "490:\tlearn: 0.4534487\ttotal: 2m 38s\tremaining: 2m 44s\n",
            "491:\tlearn: 0.4534392\ttotal: 2m 38s\tremaining: 2m 43s\n",
            "492:\tlearn: 0.4534285\ttotal: 2m 38s\tremaining: 2m 43s\n",
            "493:\tlearn: 0.4534212\ttotal: 2m 39s\tremaining: 2m 43s\n",
            "494:\tlearn: 0.4534106\ttotal: 2m 39s\tremaining: 2m 42s\n",
            "495:\tlearn: 0.4534012\ttotal: 2m 39s\tremaining: 2m 42s\n",
            "496:\tlearn: 0.4533910\ttotal: 2m 40s\tremaining: 2m 42s\n",
            "497:\tlearn: 0.4533836\ttotal: 2m 40s\tremaining: 2m 41s\n",
            "498:\tlearn: 0.4533751\ttotal: 2m 40s\tremaining: 2m 41s\n",
            "499:\tlearn: 0.4533653\ttotal: 2m 41s\tremaining: 2m 41s\n",
            "500:\tlearn: 0.4533561\ttotal: 2m 41s\tremaining: 2m 41s\n",
            "501:\tlearn: 0.4533449\ttotal: 2m 42s\tremaining: 2m 40s\n",
            "502:\tlearn: 0.4533319\ttotal: 2m 42s\tremaining: 2m 40s\n",
            "503:\tlearn: 0.4533215\ttotal: 2m 42s\tremaining: 2m 40s\n",
            "504:\tlearn: 0.4533058\ttotal: 2m 43s\tremaining: 2m 39s\n",
            "505:\tlearn: 0.4532935\ttotal: 2m 43s\tremaining: 2m 39s\n",
            "506:\tlearn: 0.4532823\ttotal: 2m 43s\tremaining: 2m 39s\n",
            "507:\tlearn: 0.4532668\ttotal: 2m 44s\tremaining: 2m 38s\n",
            "508:\tlearn: 0.4532602\ttotal: 2m 44s\tremaining: 2m 38s\n",
            "509:\tlearn: 0.4532430\ttotal: 2m 44s\tremaining: 2m 38s\n",
            "510:\tlearn: 0.4532282\ttotal: 2m 45s\tremaining: 2m 37s\n",
            "511:\tlearn: 0.4532113\ttotal: 2m 45s\tremaining: 2m 37s\n",
            "512:\tlearn: 0.4531976\ttotal: 2m 45s\tremaining: 2m 37s\n",
            "513:\tlearn: 0.4531865\ttotal: 2m 45s\tremaining: 2m 36s\n",
            "514:\tlearn: 0.4531624\ttotal: 2m 46s\tremaining: 2m 36s\n",
            "515:\tlearn: 0.4531500\ttotal: 2m 46s\tremaining: 2m 36s\n",
            "516:\tlearn: 0.4531400\ttotal: 2m 46s\tremaining: 2m 35s\n",
            "517:\tlearn: 0.4531277\ttotal: 2m 47s\tremaining: 2m 35s\n",
            "518:\tlearn: 0.4531179\ttotal: 2m 47s\tremaining: 2m 35s\n",
            "519:\tlearn: 0.4530985\ttotal: 2m 47s\tremaining: 2m 34s\n",
            "520:\tlearn: 0.4530834\ttotal: 2m 48s\tremaining: 2m 34s\n",
            "521:\tlearn: 0.4530726\ttotal: 2m 48s\tremaining: 2m 34s\n",
            "522:\tlearn: 0.4530577\ttotal: 2m 48s\tremaining: 2m 33s\n",
            "523:\tlearn: 0.4530418\ttotal: 2m 49s\tremaining: 2m 33s\n",
            "524:\tlearn: 0.4530347\ttotal: 2m 49s\tremaining: 2m 33s\n",
            "525:\tlearn: 0.4530228\ttotal: 2m 49s\tremaining: 2m 33s\n",
            "526:\tlearn: 0.4530152\ttotal: 2m 50s\tremaining: 2m 32s\n",
            "527:\tlearn: 0.4529989\ttotal: 2m 50s\tremaining: 2m 32s\n",
            "528:\tlearn: 0.4529925\ttotal: 2m 50s\tremaining: 2m 32s\n",
            "529:\tlearn: 0.4529768\ttotal: 2m 51s\tremaining: 2m 31s\n",
            "530:\tlearn: 0.4529690\ttotal: 2m 51s\tremaining: 2m 31s\n",
            "531:\tlearn: 0.4529594\ttotal: 2m 51s\tremaining: 2m 31s\n",
            "532:\tlearn: 0.4529460\ttotal: 2m 52s\tremaining: 2m 30s\n",
            "533:\tlearn: 0.4529274\ttotal: 2m 52s\tremaining: 2m 30s\n",
            "534:\tlearn: 0.4529168\ttotal: 2m 52s\tremaining: 2m 30s\n",
            "535:\tlearn: 0.4529085\ttotal: 2m 53s\tremaining: 2m 29s\n",
            "536:\tlearn: 0.4529005\ttotal: 2m 53s\tremaining: 2m 29s\n",
            "537:\tlearn: 0.4528870\ttotal: 2m 53s\tremaining: 2m 29s\n",
            "538:\tlearn: 0.4528750\ttotal: 2m 54s\tremaining: 2m 29s\n",
            "539:\tlearn: 0.4528626\ttotal: 2m 54s\tremaining: 2m 28s\n",
            "540:\tlearn: 0.4528565\ttotal: 2m 54s\tremaining: 2m 28s\n",
            "541:\tlearn: 0.4528422\ttotal: 2m 55s\tremaining: 2m 28s\n",
            "542:\tlearn: 0.4528339\ttotal: 2m 55s\tremaining: 2m 27s\n",
            "543:\tlearn: 0.4528179\ttotal: 2m 55s\tremaining: 2m 27s\n",
            "544:\tlearn: 0.4528088\ttotal: 2m 56s\tremaining: 2m 27s\n",
            "545:\tlearn: 0.4527965\ttotal: 2m 56s\tremaining: 2m 26s\n",
            "546:\tlearn: 0.4527892\ttotal: 2m 56s\tremaining: 2m 26s\n",
            "547:\tlearn: 0.4527797\ttotal: 2m 57s\tremaining: 2m 26s\n",
            "548:\tlearn: 0.4527694\ttotal: 2m 57s\tremaining: 2m 25s\n",
            "549:\tlearn: 0.4527592\ttotal: 2m 57s\tremaining: 2m 25s\n",
            "550:\tlearn: 0.4527493\ttotal: 2m 58s\tremaining: 2m 25s\n",
            "551:\tlearn: 0.4527416\ttotal: 2m 58s\tremaining: 2m 24s\n",
            "552:\tlearn: 0.4527293\ttotal: 2m 58s\tremaining: 2m 24s\n",
            "553:\tlearn: 0.4527195\ttotal: 2m 59s\tremaining: 2m 24s\n",
            "554:\tlearn: 0.4527107\ttotal: 2m 59s\tremaining: 2m 23s\n",
            "555:\tlearn: 0.4526996\ttotal: 2m 59s\tremaining: 2m 23s\n",
            "556:\tlearn: 0.4526903\ttotal: 3m\tremaining: 2m 23s\n",
            "557:\tlearn: 0.4526800\ttotal: 3m\tremaining: 2m 23s\n",
            "558:\tlearn: 0.4526701\ttotal: 3m\tremaining: 2m 22s\n",
            "559:\tlearn: 0.4526589\ttotal: 3m 1s\tremaining: 2m 22s\n",
            "560:\tlearn: 0.4526515\ttotal: 3m 1s\tremaining: 2m 22s\n",
            "561:\tlearn: 0.4526380\ttotal: 3m 1s\tremaining: 2m 21s\n",
            "562:\tlearn: 0.4526165\ttotal: 3m 2s\tremaining: 2m 21s\n",
            "563:\tlearn: 0.4526026\ttotal: 3m 2s\tremaining: 2m 21s\n",
            "564:\tlearn: 0.4525877\ttotal: 3m 2s\tremaining: 2m 20s\n",
            "565:\tlearn: 0.4525766\ttotal: 3m 3s\tremaining: 2m 20s\n",
            "566:\tlearn: 0.4525692\ttotal: 3m 3s\tremaining: 2m 20s\n",
            "567:\tlearn: 0.4525467\ttotal: 3m 3s\tremaining: 2m 19s\n",
            "568:\tlearn: 0.4525333\ttotal: 3m 4s\tremaining: 2m 19s\n",
            "569:\tlearn: 0.4525245\ttotal: 3m 4s\tremaining: 2m 19s\n",
            "570:\tlearn: 0.4525111\ttotal: 3m 4s\tremaining: 2m 18s\n",
            "571:\tlearn: 0.4524921\ttotal: 3m 5s\tremaining: 2m 18s\n",
            "572:\tlearn: 0.4524783\ttotal: 3m 5s\tremaining: 2m 18s\n",
            "573:\tlearn: 0.4524677\ttotal: 3m 5s\tremaining: 2m 17s\n",
            "574:\tlearn: 0.4524602\ttotal: 3m 6s\tremaining: 2m 17s\n",
            "575:\tlearn: 0.4524545\ttotal: 3m 6s\tremaining: 2m 17s\n",
            "576:\tlearn: 0.4524432\ttotal: 3m 6s\tremaining: 2m 16s\n",
            "577:\tlearn: 0.4524254\ttotal: 3m 7s\tremaining: 2m 16s\n",
            "578:\tlearn: 0.4524152\ttotal: 3m 7s\tremaining: 2m 16s\n",
            "579:\tlearn: 0.4524042\ttotal: 3m 7s\tremaining: 2m 15s\n",
            "580:\tlearn: 0.4523963\ttotal: 3m 8s\tremaining: 2m 15s\n",
            "581:\tlearn: 0.4523884\ttotal: 3m 8s\tremaining: 2m 15s\n",
            "582:\tlearn: 0.4523788\ttotal: 3m 8s\tremaining: 2m 15s\n",
            "583:\tlearn: 0.4523636\ttotal: 3m 9s\tremaining: 2m 14s\n",
            "584:\tlearn: 0.4523573\ttotal: 3m 9s\tremaining: 2m 14s\n",
            "585:\tlearn: 0.4523439\ttotal: 3m 9s\tremaining: 2m 14s\n",
            "586:\tlearn: 0.4523309\ttotal: 3m 10s\tremaining: 2m 13s\n",
            "587:\tlearn: 0.4523226\ttotal: 3m 10s\tremaining: 2m 13s\n",
            "588:\tlearn: 0.4523115\ttotal: 3m 10s\tremaining: 2m 13s\n",
            "589:\tlearn: 0.4522950\ttotal: 3m 11s\tremaining: 2m 12s\n",
            "590:\tlearn: 0.4522854\ttotal: 3m 11s\tremaining: 2m 12s\n",
            "591:\tlearn: 0.4522699\ttotal: 3m 11s\tremaining: 2m 12s\n",
            "592:\tlearn: 0.4522553\ttotal: 3m 12s\tremaining: 2m 11s\n",
            "593:\tlearn: 0.4522408\ttotal: 3m 12s\tremaining: 2m 11s\n",
            "594:\tlearn: 0.4522276\ttotal: 3m 12s\tremaining: 2m 11s\n",
            "595:\tlearn: 0.4522213\ttotal: 3m 13s\tremaining: 2m 11s\n",
            "596:\tlearn: 0.4522102\ttotal: 3m 13s\tremaining: 2m 10s\n",
            "597:\tlearn: 0.4522000\ttotal: 3m 13s\tremaining: 2m 10s\n",
            "598:\tlearn: 0.4521891\ttotal: 3m 14s\tremaining: 2m 10s\n",
            "599:\tlearn: 0.4521803\ttotal: 3m 14s\tremaining: 2m 9s\n",
            "600:\tlearn: 0.4521702\ttotal: 3m 15s\tremaining: 2m 9s\n",
            "601:\tlearn: 0.4521570\ttotal: 3m 15s\tremaining: 2m 9s\n",
            "602:\tlearn: 0.4521453\ttotal: 3m 15s\tremaining: 2m 8s\n",
            "603:\tlearn: 0.4521366\ttotal: 3m 15s\tremaining: 2m 8s\n",
            "604:\tlearn: 0.4521273\ttotal: 3m 16s\tremaining: 2m 8s\n",
            "605:\tlearn: 0.4521165\ttotal: 3m 16s\tremaining: 2m 7s\n",
            "606:\tlearn: 0.4521073\ttotal: 3m 16s\tremaining: 2m 7s\n",
            "607:\tlearn: 0.4520949\ttotal: 3m 17s\tremaining: 2m 7s\n",
            "608:\tlearn: 0.4520880\ttotal: 3m 17s\tremaining: 2m 6s\n",
            "609:\tlearn: 0.4520798\ttotal: 3m 18s\tremaining: 2m 6s\n",
            "610:\tlearn: 0.4520704\ttotal: 3m 18s\tremaining: 2m 6s\n",
            "611:\tlearn: 0.4520597\ttotal: 3m 18s\tremaining: 2m 5s\n",
            "612:\tlearn: 0.4520361\ttotal: 3m 19s\tremaining: 2m 5s\n",
            "613:\tlearn: 0.4520276\ttotal: 3m 19s\tremaining: 2m 5s\n",
            "614:\tlearn: 0.4520072\ttotal: 3m 19s\tremaining: 2m 5s\n",
            "615:\tlearn: 0.4519972\ttotal: 3m 20s\tremaining: 2m 4s\n",
            "616:\tlearn: 0.4519841\ttotal: 3m 20s\tremaining: 2m 4s\n",
            "617:\tlearn: 0.4519698\ttotal: 3m 20s\tremaining: 2m 4s\n",
            "618:\tlearn: 0.4519577\ttotal: 3m 21s\tremaining: 2m 3s\n",
            "619:\tlearn: 0.4519480\ttotal: 3m 21s\tremaining: 2m 3s\n",
            "620:\tlearn: 0.4519367\ttotal: 3m 21s\tremaining: 2m 3s\n",
            "621:\tlearn: 0.4519281\ttotal: 3m 22s\tremaining: 2m 2s\n",
            "622:\tlearn: 0.4519175\ttotal: 3m 22s\tremaining: 2m 2s\n",
            "623:\tlearn: 0.4519097\ttotal: 3m 22s\tremaining: 2m 2s\n",
            "624:\tlearn: 0.4518951\ttotal: 3m 23s\tremaining: 2m 1s\n",
            "625:\tlearn: 0.4518789\ttotal: 3m 23s\tremaining: 2m 1s\n",
            "626:\tlearn: 0.4518670\ttotal: 3m 23s\tremaining: 2m 1s\n",
            "627:\tlearn: 0.4518590\ttotal: 3m 23s\tremaining: 2m\n",
            "628:\tlearn: 0.4518528\ttotal: 3m 24s\tremaining: 2m\n",
            "629:\tlearn: 0.4518437\ttotal: 3m 24s\tremaining: 2m\n",
            "630:\tlearn: 0.4518354\ttotal: 3m 24s\tremaining: 1m 59s\n",
            "631:\tlearn: 0.4518258\ttotal: 3m 25s\tremaining: 1m 59s\n",
            "632:\tlearn: 0.4518139\ttotal: 3m 25s\tremaining: 1m 59s\n",
            "633:\tlearn: 0.4518021\ttotal: 3m 25s\tremaining: 1m 58s\n",
            "634:\tlearn: 0.4517933\ttotal: 3m 26s\tremaining: 1m 58s\n",
            "635:\tlearn: 0.4517848\ttotal: 3m 26s\tremaining: 1m 58s\n",
            "636:\tlearn: 0.4517754\ttotal: 3m 26s\tremaining: 1m 57s\n",
            "637:\tlearn: 0.4517657\ttotal: 3m 27s\tremaining: 1m 57s\n",
            "638:\tlearn: 0.4517579\ttotal: 3m 27s\tremaining: 1m 57s\n",
            "639:\tlearn: 0.4517527\ttotal: 3m 27s\tremaining: 1m 56s\n",
            "640:\tlearn: 0.4517353\ttotal: 3m 28s\tremaining: 1m 56s\n",
            "641:\tlearn: 0.4517256\ttotal: 3m 28s\tremaining: 1m 56s\n",
            "642:\tlearn: 0.4517166\ttotal: 3m 28s\tremaining: 1m 55s\n",
            "643:\tlearn: 0.4517078\ttotal: 3m 29s\tremaining: 1m 55s\n",
            "644:\tlearn: 0.4516921\ttotal: 3m 29s\tremaining: 1m 55s\n",
            "645:\tlearn: 0.4516823\ttotal: 3m 29s\tremaining: 1m 55s\n",
            "646:\tlearn: 0.4516671\ttotal: 3m 30s\tremaining: 1m 54s\n",
            "647:\tlearn: 0.4516581\ttotal: 3m 30s\tremaining: 1m 54s\n",
            "648:\tlearn: 0.4516503\ttotal: 3m 30s\tremaining: 1m 54s\n",
            "649:\tlearn: 0.4516395\ttotal: 3m 31s\tremaining: 1m 53s\n",
            "650:\tlearn: 0.4516277\ttotal: 3m 31s\tremaining: 1m 53s\n",
            "651:\tlearn: 0.4516153\ttotal: 3m 31s\tremaining: 1m 53s\n",
            "652:\tlearn: 0.4516023\ttotal: 3m 32s\tremaining: 1m 52s\n",
            "653:\tlearn: 0.4515920\ttotal: 3m 32s\tremaining: 1m 52s\n",
            "654:\tlearn: 0.4515811\ttotal: 3m 32s\tremaining: 1m 52s\n",
            "655:\tlearn: 0.4515686\ttotal: 3m 33s\tremaining: 1m 51s\n",
            "656:\tlearn: 0.4515548\ttotal: 3m 33s\tremaining: 1m 51s\n",
            "657:\tlearn: 0.4515435\ttotal: 3m 33s\tremaining: 1m 51s\n",
            "658:\tlearn: 0.4515334\ttotal: 3m 34s\tremaining: 1m 50s\n",
            "659:\tlearn: 0.4515270\ttotal: 3m 34s\tremaining: 1m 50s\n",
            "660:\tlearn: 0.4515201\ttotal: 3m 34s\tremaining: 1m 50s\n",
            "661:\tlearn: 0.4515092\ttotal: 3m 35s\tremaining: 1m 49s\n",
            "662:\tlearn: 0.4514995\ttotal: 3m 35s\tremaining: 1m 49s\n",
            "663:\tlearn: 0.4514894\ttotal: 3m 35s\tremaining: 1m 49s\n",
            "664:\tlearn: 0.4514818\ttotal: 3m 35s\tremaining: 1m 48s\n",
            "665:\tlearn: 0.4514666\ttotal: 3m 36s\tremaining: 1m 48s\n",
            "666:\tlearn: 0.4514564\ttotal: 3m 36s\tremaining: 1m 48s\n",
            "667:\tlearn: 0.4514487\ttotal: 3m 36s\tremaining: 1m 47s\n",
            "668:\tlearn: 0.4514378\ttotal: 3m 37s\tremaining: 1m 47s\n",
            "669:\tlearn: 0.4514265\ttotal: 3m 37s\tremaining: 1m 47s\n",
            "670:\tlearn: 0.4514144\ttotal: 3m 37s\tremaining: 1m 46s\n",
            "671:\tlearn: 0.4514042\ttotal: 3m 38s\tremaining: 1m 46s\n",
            "672:\tlearn: 0.4513952\ttotal: 3m 38s\tremaining: 1m 46s\n",
            "673:\tlearn: 0.4513856\ttotal: 3m 38s\tremaining: 1m 45s\n",
            "674:\tlearn: 0.4513797\ttotal: 3m 39s\tremaining: 1m 45s\n",
            "675:\tlearn: 0.4513749\ttotal: 3m 39s\tremaining: 1m 45s\n",
            "676:\tlearn: 0.4513665\ttotal: 3m 39s\tremaining: 1m 44s\n",
            "677:\tlearn: 0.4513536\ttotal: 3m 40s\tremaining: 1m 44s\n",
            "678:\tlearn: 0.4513393\ttotal: 3m 40s\tremaining: 1m 44s\n",
            "679:\tlearn: 0.4513306\ttotal: 3m 40s\tremaining: 1m 43s\n",
            "680:\tlearn: 0.4513222\ttotal: 3m 40s\tremaining: 1m 43s\n",
            "681:\tlearn: 0.4513144\ttotal: 3m 41s\tremaining: 1m 43s\n",
            "682:\tlearn: 0.4513070\ttotal: 3m 41s\tremaining: 1m 42s\n",
            "683:\tlearn: 0.4513014\ttotal: 3m 41s\tremaining: 1m 42s\n",
            "684:\tlearn: 0.4512936\ttotal: 3m 42s\tremaining: 1m 42s\n",
            "685:\tlearn: 0.4512820\ttotal: 3m 42s\tremaining: 1m 41s\n",
            "686:\tlearn: 0.4512772\ttotal: 3m 42s\tremaining: 1m 41s\n",
            "687:\tlearn: 0.4512675\ttotal: 3m 43s\tremaining: 1m 41s\n",
            "688:\tlearn: 0.4512517\ttotal: 3m 43s\tremaining: 1m 40s\n",
            "689:\tlearn: 0.4512413\ttotal: 3m 43s\tremaining: 1m 40s\n",
            "690:\tlearn: 0.4512328\ttotal: 3m 44s\tremaining: 1m 40s\n",
            "691:\tlearn: 0.4512273\ttotal: 3m 44s\tremaining: 1m 39s\n",
            "692:\tlearn: 0.4512221\ttotal: 3m 44s\tremaining: 1m 39s\n",
            "693:\tlearn: 0.4512155\ttotal: 3m 45s\tremaining: 1m 39s\n",
            "694:\tlearn: 0.4512074\ttotal: 3m 45s\tremaining: 1m 38s\n",
            "695:\tlearn: 0.4511999\ttotal: 3m 45s\tremaining: 1m 38s\n",
            "696:\tlearn: 0.4511902\ttotal: 3m 46s\tremaining: 1m 38s\n",
            "697:\tlearn: 0.4511784\ttotal: 3m 46s\tremaining: 1m 37s\n",
            "698:\tlearn: 0.4511628\ttotal: 3m 46s\tremaining: 1m 37s\n",
            "699:\tlearn: 0.4511502\ttotal: 3m 47s\tremaining: 1m 37s\n",
            "700:\tlearn: 0.4511379\ttotal: 3m 47s\tremaining: 1m 36s\n",
            "701:\tlearn: 0.4511330\ttotal: 3m 47s\tremaining: 1m 36s\n",
            "702:\tlearn: 0.4511238\ttotal: 3m 48s\tremaining: 1m 36s\n",
            "703:\tlearn: 0.4511153\ttotal: 3m 48s\tremaining: 1m 36s\n",
            "704:\tlearn: 0.4511057\ttotal: 3m 48s\tremaining: 1m 35s\n",
            "705:\tlearn: 0.4510999\ttotal: 3m 49s\tremaining: 1m 35s\n",
            "706:\tlearn: 0.4510919\ttotal: 3m 49s\tremaining: 1m 35s\n",
            "707:\tlearn: 0.4510867\ttotal: 3m 49s\tremaining: 1m 34s\n",
            "708:\tlearn: 0.4510795\ttotal: 3m 50s\tremaining: 1m 34s\n",
            "709:\tlearn: 0.4510696\ttotal: 3m 50s\tremaining: 1m 34s\n",
            "710:\tlearn: 0.4510614\ttotal: 3m 50s\tremaining: 1m 33s\n",
            "711:\tlearn: 0.4510549\ttotal: 3m 51s\tremaining: 1m 33s\n",
            "712:\tlearn: 0.4510455\ttotal: 3m 51s\tremaining: 1m 33s\n",
            "713:\tlearn: 0.4510346\ttotal: 3m 51s\tremaining: 1m 32s\n",
            "714:\tlearn: 0.4510263\ttotal: 3m 51s\tremaining: 1m 32s\n",
            "715:\tlearn: 0.4510186\ttotal: 3m 52s\tremaining: 1m 32s\n",
            "716:\tlearn: 0.4510113\ttotal: 3m 52s\tremaining: 1m 31s\n",
            "717:\tlearn: 0.4509964\ttotal: 3m 52s\tremaining: 1m 31s\n",
            "718:\tlearn: 0.4509824\ttotal: 3m 53s\tremaining: 1m 31s\n",
            "719:\tlearn: 0.4509738\ttotal: 3m 53s\tremaining: 1m 30s\n",
            "720:\tlearn: 0.4509656\ttotal: 3m 53s\tremaining: 1m 30s\n",
            "721:\tlearn: 0.4509521\ttotal: 3m 54s\tremaining: 1m 30s\n",
            "722:\tlearn: 0.4509427\ttotal: 3m 54s\tremaining: 1m 29s\n",
            "723:\tlearn: 0.4509345\ttotal: 3m 54s\tremaining: 1m 29s\n",
            "724:\tlearn: 0.4509252\ttotal: 3m 55s\tremaining: 1m 29s\n",
            "725:\tlearn: 0.4509192\ttotal: 3m 55s\tremaining: 1m 28s\n",
            "726:\tlearn: 0.4508992\ttotal: 3m 55s\tremaining: 1m 28s\n",
            "727:\tlearn: 0.4508951\ttotal: 3m 56s\tremaining: 1m 28s\n",
            "728:\tlearn: 0.4508830\ttotal: 3m 56s\tremaining: 1m 27s\n",
            "729:\tlearn: 0.4508718\ttotal: 3m 56s\tremaining: 1m 27s\n",
            "730:\tlearn: 0.4508629\ttotal: 3m 57s\tremaining: 1m 27s\n",
            "731:\tlearn: 0.4508499\ttotal: 3m 57s\tremaining: 1m 26s\n",
            "732:\tlearn: 0.4508422\ttotal: 3m 57s\tremaining: 1m 26s\n",
            "733:\tlearn: 0.4508350\ttotal: 3m 58s\tremaining: 1m 26s\n",
            "734:\tlearn: 0.4508270\ttotal: 3m 58s\tremaining: 1m 25s\n",
            "735:\tlearn: 0.4508214\ttotal: 3m 58s\tremaining: 1m 25s\n",
            "736:\tlearn: 0.4508137\ttotal: 3m 59s\tremaining: 1m 25s\n",
            "737:\tlearn: 0.4508038\ttotal: 3m 59s\tremaining: 1m 24s\n",
            "738:\tlearn: 0.4507955\ttotal: 3m 59s\tremaining: 1m 24s\n",
            "739:\tlearn: 0.4507905\ttotal: 4m\tremaining: 1m 24s\n",
            "740:\tlearn: 0.4507820\ttotal: 4m\tremaining: 1m 24s\n",
            "741:\tlearn: 0.4507764\ttotal: 4m\tremaining: 1m 23s\n",
            "742:\tlearn: 0.4507677\ttotal: 4m 1s\tremaining: 1m 23s\n",
            "743:\tlearn: 0.4507601\ttotal: 4m 1s\tremaining: 1m 23s\n",
            "744:\tlearn: 0.4507493\ttotal: 4m 1s\tremaining: 1m 22s\n",
            "745:\tlearn: 0.4507363\ttotal: 4m 2s\tremaining: 1m 22s\n",
            "746:\tlearn: 0.4507145\ttotal: 4m 2s\tremaining: 1m 22s\n",
            "747:\tlearn: 0.4507075\ttotal: 4m 2s\tremaining: 1m 21s\n",
            "748:\tlearn: 0.4506990\ttotal: 4m 2s\tremaining: 1m 21s\n",
            "749:\tlearn: 0.4506931\ttotal: 4m 3s\tremaining: 1m 21s\n",
            "750:\tlearn: 0.4506841\ttotal: 4m 3s\tremaining: 1m 20s\n",
            "751:\tlearn: 0.4506612\ttotal: 4m 3s\tremaining: 1m 20s\n",
            "752:\tlearn: 0.4506570\ttotal: 4m 4s\tremaining: 1m 20s\n",
            "753:\tlearn: 0.4506479\ttotal: 4m 4s\tremaining: 1m 19s\n",
            "754:\tlearn: 0.4506377\ttotal: 4m 4s\tremaining: 1m 19s\n",
            "755:\tlearn: 0.4506261\ttotal: 4m 5s\tremaining: 1m 19s\n",
            "756:\tlearn: 0.4506202\ttotal: 4m 5s\tremaining: 1m 18s\n",
            "757:\tlearn: 0.4506116\ttotal: 4m 5s\tremaining: 1m 18s\n",
            "758:\tlearn: 0.4506010\ttotal: 4m 6s\tremaining: 1m 18s\n",
            "759:\tlearn: 0.4505897\ttotal: 4m 6s\tremaining: 1m 17s\n",
            "760:\tlearn: 0.4505797\ttotal: 4m 6s\tremaining: 1m 17s\n",
            "761:\tlearn: 0.4505727\ttotal: 4m 7s\tremaining: 1m 17s\n",
            "762:\tlearn: 0.4505634\ttotal: 4m 7s\tremaining: 1m 16s\n",
            "763:\tlearn: 0.4505581\ttotal: 4m 7s\tremaining: 1m 16s\n",
            "764:\tlearn: 0.4505490\ttotal: 4m 8s\tremaining: 1m 16s\n",
            "765:\tlearn: 0.4505398\ttotal: 4m 8s\tremaining: 1m 15s\n",
            "766:\tlearn: 0.4505328\ttotal: 4m 8s\tremaining: 1m 15s\n",
            "767:\tlearn: 0.4505264\ttotal: 4m 9s\tremaining: 1m 15s\n",
            "768:\tlearn: 0.4505188\ttotal: 4m 9s\tremaining: 1m 14s\n",
            "769:\tlearn: 0.4505109\ttotal: 4m 9s\tremaining: 1m 14s\n",
            "770:\tlearn: 0.4505048\ttotal: 4m 10s\tremaining: 1m 14s\n",
            "771:\tlearn: 0.4504958\ttotal: 4m 10s\tremaining: 1m 13s\n",
            "772:\tlearn: 0.4504907\ttotal: 4m 10s\tremaining: 1m 13s\n",
            "773:\tlearn: 0.4504841\ttotal: 4m 11s\tremaining: 1m 13s\n",
            "774:\tlearn: 0.4504797\ttotal: 4m 11s\tremaining: 1m 12s\n",
            "775:\tlearn: 0.4504722\ttotal: 4m 11s\tremaining: 1m 12s\n",
            "776:\tlearn: 0.4504617\ttotal: 4m 11s\tremaining: 1m 12s\n",
            "777:\tlearn: 0.4504564\ttotal: 4m 12s\tremaining: 1m 12s\n",
            "778:\tlearn: 0.4504472\ttotal: 4m 12s\tremaining: 1m 11s\n",
            "779:\tlearn: 0.4504402\ttotal: 4m 13s\tremaining: 1m 11s\n",
            "780:\tlearn: 0.4504302\ttotal: 4m 13s\tremaining: 1m 11s\n",
            "781:\tlearn: 0.4504229\ttotal: 4m 13s\tremaining: 1m 10s\n",
            "782:\tlearn: 0.4504127\ttotal: 4m 14s\tremaining: 1m 10s\n",
            "783:\tlearn: 0.4504051\ttotal: 4m 14s\tremaining: 1m 10s\n",
            "784:\tlearn: 0.4503965\ttotal: 4m 14s\tremaining: 1m 9s\n",
            "785:\tlearn: 0.4503823\ttotal: 4m 14s\tremaining: 1m 9s\n",
            "786:\tlearn: 0.4503743\ttotal: 4m 15s\tremaining: 1m 9s\n",
            "787:\tlearn: 0.4503695\ttotal: 4m 15s\tremaining: 1m 8s\n",
            "788:\tlearn: 0.4503546\ttotal: 4m 15s\tremaining: 1m 8s\n",
            "789:\tlearn: 0.4503460\ttotal: 4m 16s\tremaining: 1m 8s\n",
            "790:\tlearn: 0.4503379\ttotal: 4m 16s\tremaining: 1m 7s\n",
            "791:\tlearn: 0.4503267\ttotal: 4m 16s\tremaining: 1m 7s\n",
            "792:\tlearn: 0.4503161\ttotal: 4m 17s\tremaining: 1m 7s\n",
            "793:\tlearn: 0.4503058\ttotal: 4m 17s\tremaining: 1m 6s\n",
            "794:\tlearn: 0.4502958\ttotal: 4m 17s\tremaining: 1m 6s\n",
            "795:\tlearn: 0.4502871\ttotal: 4m 18s\tremaining: 1m 6s\n",
            "796:\tlearn: 0.4502814\ttotal: 4m 18s\tremaining: 1m 5s\n",
            "797:\tlearn: 0.4502752\ttotal: 4m 18s\tremaining: 1m 5s\n",
            "798:\tlearn: 0.4502653\ttotal: 4m 19s\tremaining: 1m 5s\n",
            "799:\tlearn: 0.4502570\ttotal: 4m 19s\tremaining: 1m 4s\n",
            "800:\tlearn: 0.4502516\ttotal: 4m 19s\tremaining: 1m 4s\n",
            "801:\tlearn: 0.4502452\ttotal: 4m 20s\tremaining: 1m 4s\n",
            "802:\tlearn: 0.4502394\ttotal: 4m 20s\tremaining: 1m 3s\n",
            "803:\tlearn: 0.4502253\ttotal: 4m 20s\tremaining: 1m 3s\n",
            "804:\tlearn: 0.4502149\ttotal: 4m 21s\tremaining: 1m 3s\n",
            "805:\tlearn: 0.4502085\ttotal: 4m 21s\tremaining: 1m 2s\n",
            "806:\tlearn: 0.4501918\ttotal: 4m 21s\tremaining: 1m 2s\n",
            "807:\tlearn: 0.4501831\ttotal: 4m 22s\tremaining: 1m 2s\n",
            "808:\tlearn: 0.4501778\ttotal: 4m 22s\tremaining: 1m 1s\n",
            "809:\tlearn: 0.4501695\ttotal: 4m 22s\tremaining: 1m 1s\n",
            "810:\tlearn: 0.4501558\ttotal: 4m 23s\tremaining: 1m 1s\n",
            "811:\tlearn: 0.4501501\ttotal: 4m 23s\tremaining: 1m\n",
            "812:\tlearn: 0.4501423\ttotal: 4m 23s\tremaining: 1m\n",
            "813:\tlearn: 0.4501384\ttotal: 4m 24s\tremaining: 1m\n",
            "814:\tlearn: 0.4501319\ttotal: 4m 24s\tremaining: 1m\n",
            "815:\tlearn: 0.4501242\ttotal: 4m 24s\tremaining: 59.7s\n",
            "816:\tlearn: 0.4501191\ttotal: 4m 25s\tremaining: 59.4s\n",
            "817:\tlearn: 0.4501148\ttotal: 4m 25s\tremaining: 59s\n",
            "818:\tlearn: 0.4501063\ttotal: 4m 25s\tremaining: 58.7s\n",
            "819:\tlearn: 0.4500987\ttotal: 4m 25s\tremaining: 58.4s\n",
            "820:\tlearn: 0.4500901\ttotal: 4m 26s\tremaining: 58.1s\n",
            "821:\tlearn: 0.4500562\ttotal: 4m 26s\tremaining: 57.7s\n",
            "822:\tlearn: 0.4500407\ttotal: 4m 26s\tremaining: 57.4s\n",
            "823:\tlearn: 0.4500304\ttotal: 4m 27s\tremaining: 57.1s\n",
            "824:\tlearn: 0.4500222\ttotal: 4m 27s\tremaining: 56.8s\n",
            "825:\tlearn: 0.4500121\ttotal: 4m 27s\tremaining: 56.4s\n",
            "826:\tlearn: 0.4500037\ttotal: 4m 28s\tremaining: 56.1s\n",
            "827:\tlearn: 0.4500002\ttotal: 4m 28s\tremaining: 55.8s\n",
            "828:\tlearn: 0.4499942\ttotal: 4m 28s\tremaining: 55.5s\n",
            "829:\tlearn: 0.4499878\ttotal: 4m 29s\tremaining: 55.2s\n",
            "830:\tlearn: 0.4499805\ttotal: 4m 29s\tremaining: 54.8s\n",
            "831:\tlearn: 0.4499714\ttotal: 4m 29s\tremaining: 54.5s\n",
            "832:\tlearn: 0.4499607\ttotal: 4m 30s\tremaining: 54.2s\n",
            "833:\tlearn: 0.4499543\ttotal: 4m 30s\tremaining: 53.9s\n",
            "834:\tlearn: 0.4499487\ttotal: 4m 30s\tremaining: 53.5s\n",
            "835:\tlearn: 0.4499425\ttotal: 4m 31s\tremaining: 53.2s\n",
            "836:\tlearn: 0.4499373\ttotal: 4m 31s\tremaining: 52.9s\n",
            "837:\tlearn: 0.4499331\ttotal: 4m 32s\tremaining: 52.6s\n",
            "838:\tlearn: 0.4499251\ttotal: 4m 32s\tremaining: 52.3s\n",
            "839:\tlearn: 0.4499110\ttotal: 4m 32s\tremaining: 51.9s\n",
            "840:\tlearn: 0.4499025\ttotal: 4m 33s\tremaining: 51.6s\n",
            "841:\tlearn: 0.4498836\ttotal: 4m 33s\tremaining: 51.3s\n",
            "842:\tlearn: 0.4498760\ttotal: 4m 33s\tremaining: 51s\n",
            "843:\tlearn: 0.4498687\ttotal: 4m 33s\tremaining: 50.6s\n",
            "844:\tlearn: 0.4498622\ttotal: 4m 34s\tremaining: 50.3s\n",
            "845:\tlearn: 0.4498537\ttotal: 4m 34s\tremaining: 50s\n",
            "846:\tlearn: 0.4498448\ttotal: 4m 34s\tremaining: 49.7s\n",
            "847:\tlearn: 0.4498403\ttotal: 4m 35s\tremaining: 49.3s\n",
            "848:\tlearn: 0.4498279\ttotal: 4m 35s\tremaining: 49s\n",
            "849:\tlearn: 0.4498187\ttotal: 4m 35s\tremaining: 48.7s\n",
            "850:\tlearn: 0.4498128\ttotal: 4m 36s\tremaining: 48.4s\n",
            "851:\tlearn: 0.4498010\ttotal: 4m 36s\tremaining: 48s\n",
            "852:\tlearn: 0.4497918\ttotal: 4m 36s\tremaining: 47.7s\n",
            "853:\tlearn: 0.4497879\ttotal: 4m 37s\tremaining: 47.4s\n",
            "854:\tlearn: 0.4497797\ttotal: 4m 37s\tremaining: 47.1s\n",
            "855:\tlearn: 0.4497726\ttotal: 4m 37s\tremaining: 46.8s\n",
            "856:\tlearn: 0.4497645\ttotal: 4m 38s\tremaining: 46.4s\n",
            "857:\tlearn: 0.4497568\ttotal: 4m 38s\tremaining: 46.1s\n",
            "858:\tlearn: 0.4497502\ttotal: 4m 38s\tremaining: 45.8s\n",
            "859:\tlearn: 0.4497382\ttotal: 4m 39s\tremaining: 45.5s\n",
            "860:\tlearn: 0.4497262\ttotal: 4m 39s\tremaining: 45.1s\n",
            "861:\tlearn: 0.4497167\ttotal: 4m 39s\tremaining: 44.8s\n",
            "862:\tlearn: 0.4497128\ttotal: 4m 40s\tremaining: 44.5s\n",
            "863:\tlearn: 0.4497046\ttotal: 4m 40s\tremaining: 44.2s\n",
            "864:\tlearn: 0.4496946\ttotal: 4m 40s\tremaining: 43.9s\n",
            "865:\tlearn: 0.4496859\ttotal: 4m 41s\tremaining: 43.5s\n",
            "866:\tlearn: 0.4496776\ttotal: 4m 41s\tremaining: 43.2s\n",
            "867:\tlearn: 0.4496686\ttotal: 4m 42s\tremaining: 42.9s\n",
            "868:\tlearn: 0.4496612\ttotal: 4m 42s\tremaining: 42.6s\n",
            "869:\tlearn: 0.4496533\ttotal: 4m 42s\tremaining: 42.2s\n",
            "870:\tlearn: 0.4496456\ttotal: 4m 42s\tremaining: 41.9s\n",
            "871:\tlearn: 0.4496378\ttotal: 4m 43s\tremaining: 41.6s\n",
            "872:\tlearn: 0.4496306\ttotal: 4m 43s\tremaining: 41.3s\n",
            "873:\tlearn: 0.4496226\ttotal: 4m 43s\tremaining: 40.9s\n",
            "874:\tlearn: 0.4496142\ttotal: 4m 44s\tremaining: 40.6s\n",
            "875:\tlearn: 0.4496061\ttotal: 4m 44s\tremaining: 40.3s\n",
            "876:\tlearn: 0.4496001\ttotal: 4m 44s\tremaining: 40s\n",
            "877:\tlearn: 0.4495927\ttotal: 4m 45s\tremaining: 39.6s\n",
            "878:\tlearn: 0.4495801\ttotal: 4m 45s\tremaining: 39.3s\n",
            "879:\tlearn: 0.4495703\ttotal: 4m 45s\tremaining: 39s\n",
            "880:\tlearn: 0.4495642\ttotal: 4m 46s\tremaining: 38.7s\n",
            "881:\tlearn: 0.4495594\ttotal: 4m 46s\tremaining: 38.3s\n",
            "882:\tlearn: 0.4495570\ttotal: 4m 46s\tremaining: 38s\n",
            "883:\tlearn: 0.4495486\ttotal: 4m 47s\tremaining: 37.7s\n",
            "884:\tlearn: 0.4495419\ttotal: 4m 47s\tremaining: 37.4s\n",
            "885:\tlearn: 0.4495314\ttotal: 4m 47s\tremaining: 37.1s\n",
            "886:\tlearn: 0.4495257\ttotal: 4m 48s\tremaining: 36.7s\n",
            "887:\tlearn: 0.4495194\ttotal: 4m 48s\tremaining: 36.4s\n",
            "888:\tlearn: 0.4495113\ttotal: 4m 49s\tremaining: 36.1s\n",
            "889:\tlearn: 0.4495037\ttotal: 4m 49s\tremaining: 35.8s\n",
            "890:\tlearn: 0.4494950\ttotal: 4m 49s\tremaining: 35.4s\n",
            "891:\tlearn: 0.4494883\ttotal: 4m 49s\tremaining: 35.1s\n",
            "892:\tlearn: 0.4494770\ttotal: 4m 50s\tremaining: 34.8s\n",
            "893:\tlearn: 0.4494634\ttotal: 4m 50s\tremaining: 34.5s\n",
            "894:\tlearn: 0.4494568\ttotal: 4m 50s\tremaining: 34.1s\n",
            "895:\tlearn: 0.4494469\ttotal: 4m 51s\tremaining: 33.8s\n",
            "896:\tlearn: 0.4494376\ttotal: 4m 51s\tremaining: 33.5s\n",
            "897:\tlearn: 0.4494316\ttotal: 4m 52s\tremaining: 33.2s\n",
            "898:\tlearn: 0.4494264\ttotal: 4m 52s\tremaining: 32.8s\n",
            "899:\tlearn: 0.4494009\ttotal: 4m 52s\tremaining: 32.5s\n",
            "900:\tlearn: 0.4493903\ttotal: 4m 53s\tremaining: 32.2s\n",
            "901:\tlearn: 0.4493836\ttotal: 4m 53s\tremaining: 31.9s\n",
            "902:\tlearn: 0.4493761\ttotal: 4m 53s\tremaining: 31.5s\n",
            "903:\tlearn: 0.4493692\ttotal: 4m 54s\tremaining: 31.2s\n",
            "904:\tlearn: 0.4493622\ttotal: 4m 54s\tremaining: 30.9s\n",
            "905:\tlearn: 0.4493564\ttotal: 4m 54s\tremaining: 30.6s\n",
            "906:\tlearn: 0.4493503\ttotal: 4m 55s\tremaining: 30.3s\n",
            "907:\tlearn: 0.4493437\ttotal: 4m 55s\tremaining: 29.9s\n",
            "908:\tlearn: 0.4493368\ttotal: 4m 55s\tremaining: 29.6s\n",
            "909:\tlearn: 0.4493230\ttotal: 4m 55s\tremaining: 29.3s\n",
            "910:\tlearn: 0.4493119\ttotal: 4m 56s\tremaining: 28.9s\n",
            "911:\tlearn: 0.4493038\ttotal: 4m 56s\tremaining: 28.6s\n",
            "912:\tlearn: 0.4492989\ttotal: 4m 57s\tremaining: 28.3s\n",
            "913:\tlearn: 0.4492915\ttotal: 4m 57s\tremaining: 28s\n",
            "914:\tlearn: 0.4492762\ttotal: 4m 57s\tremaining: 27.7s\n",
            "915:\tlearn: 0.4492673\ttotal: 4m 58s\tremaining: 27.3s\n",
            "916:\tlearn: 0.4492629\ttotal: 4m 58s\tremaining: 27s\n",
            "917:\tlearn: 0.4492483\ttotal: 4m 58s\tremaining: 26.7s\n",
            "918:\tlearn: 0.4492420\ttotal: 4m 59s\tremaining: 26.4s\n",
            "919:\tlearn: 0.4492389\ttotal: 4m 59s\tremaining: 26s\n",
            "920:\tlearn: 0.4492311\ttotal: 4m 59s\tremaining: 25.7s\n",
            "921:\tlearn: 0.4492267\ttotal: 5m\tremaining: 25.4s\n",
            "922:\tlearn: 0.4492156\ttotal: 5m\tremaining: 25.1s\n",
            "923:\tlearn: 0.4492109\ttotal: 5m\tremaining: 24.7s\n",
            "924:\tlearn: 0.4492022\ttotal: 5m 1s\tremaining: 24.4s\n",
            "925:\tlearn: 0.4491974\ttotal: 5m 1s\tremaining: 24.1s\n",
            "926:\tlearn: 0.4491882\ttotal: 5m 1s\tremaining: 23.8s\n",
            "927:\tlearn: 0.4491799\ttotal: 5m 2s\tremaining: 23.4s\n",
            "928:\tlearn: 0.4491679\ttotal: 5m 2s\tremaining: 23.1s\n",
            "929:\tlearn: 0.4491619\ttotal: 5m 2s\tremaining: 22.8s\n",
            "930:\tlearn: 0.4491561\ttotal: 5m 3s\tremaining: 22.5s\n",
            "931:\tlearn: 0.4491478\ttotal: 5m 3s\tremaining: 22.1s\n",
            "932:\tlearn: 0.4491449\ttotal: 5m 3s\tremaining: 21.8s\n",
            "933:\tlearn: 0.4491359\ttotal: 5m 4s\tremaining: 21.5s\n",
            "934:\tlearn: 0.4491309\ttotal: 5m 4s\tremaining: 21.2s\n",
            "935:\tlearn: 0.4491241\ttotal: 5m 4s\tremaining: 20.8s\n",
            "936:\tlearn: 0.4491184\ttotal: 5m 5s\tremaining: 20.5s\n",
            "937:\tlearn: 0.4491106\ttotal: 5m 5s\tremaining: 20.2s\n",
            "938:\tlearn: 0.4491025\ttotal: 5m 5s\tremaining: 19.9s\n",
            "939:\tlearn: 0.4490969\ttotal: 5m 6s\tremaining: 19.5s\n",
            "940:\tlearn: 0.4490897\ttotal: 5m 6s\tremaining: 19.2s\n",
            "941:\tlearn: 0.4490817\ttotal: 5m 6s\tremaining: 18.9s\n",
            "942:\tlearn: 0.4490751\ttotal: 5m 7s\tremaining: 18.6s\n",
            "943:\tlearn: 0.4490679\ttotal: 5m 7s\tremaining: 18.2s\n",
            "944:\tlearn: 0.4490598\ttotal: 5m 7s\tremaining: 17.9s\n",
            "945:\tlearn: 0.4490536\ttotal: 5m 8s\tremaining: 17.6s\n",
            "946:\tlearn: 0.4490465\ttotal: 5m 8s\tremaining: 17.3s\n",
            "947:\tlearn: 0.4490387\ttotal: 5m 8s\tremaining: 16.9s\n",
            "948:\tlearn: 0.4490299\ttotal: 5m 9s\tremaining: 16.6s\n",
            "949:\tlearn: 0.4490235\ttotal: 5m 9s\tremaining: 16.3s\n",
            "950:\tlearn: 0.4490165\ttotal: 5m 9s\tremaining: 16s\n",
            "951:\tlearn: 0.4490066\ttotal: 5m 10s\tremaining: 15.6s\n",
            "952:\tlearn: 0.4489997\ttotal: 5m 10s\tremaining: 15.3s\n",
            "953:\tlearn: 0.4489910\ttotal: 5m 10s\tremaining: 15s\n",
            "954:\tlearn: 0.4489831\ttotal: 5m 11s\tremaining: 14.7s\n",
            "955:\tlearn: 0.4489723\ttotal: 5m 11s\tremaining: 14.3s\n",
            "956:\tlearn: 0.4489625\ttotal: 5m 11s\tremaining: 14s\n",
            "957:\tlearn: 0.4489566\ttotal: 5m 12s\tremaining: 13.7s\n",
            "958:\tlearn: 0.4489487\ttotal: 5m 12s\tremaining: 13.4s\n",
            "959:\tlearn: 0.4489433\ttotal: 5m 12s\tremaining: 13s\n",
            "960:\tlearn: 0.4489339\ttotal: 5m 13s\tremaining: 12.7s\n",
            "961:\tlearn: 0.4489285\ttotal: 5m 13s\tremaining: 12.4s\n",
            "962:\tlearn: 0.4489219\ttotal: 5m 13s\tremaining: 12.1s\n",
            "963:\tlearn: 0.4489143\ttotal: 5m 14s\tremaining: 11.7s\n",
            "964:\tlearn: 0.4489074\ttotal: 5m 14s\tremaining: 11.4s\n",
            "965:\tlearn: 0.4489012\ttotal: 5m 14s\tremaining: 11.1s\n",
            "966:\tlearn: 0.4488934\ttotal: 5m 15s\tremaining: 10.8s\n",
            "967:\tlearn: 0.4488869\ttotal: 5m 15s\tremaining: 10.4s\n",
            "968:\tlearn: 0.4488799\ttotal: 5m 15s\tremaining: 10.1s\n",
            "969:\tlearn: 0.4488674\ttotal: 5m 16s\tremaining: 9.78s\n",
            "970:\tlearn: 0.4488597\ttotal: 5m 16s\tremaining: 9.45s\n",
            "971:\tlearn: 0.4488482\ttotal: 5m 16s\tremaining: 9.13s\n",
            "972:\tlearn: 0.4488403\ttotal: 5m 17s\tremaining: 8.8s\n",
            "973:\tlearn: 0.4488319\ttotal: 5m 17s\tremaining: 8.48s\n",
            "974:\tlearn: 0.4488238\ttotal: 5m 17s\tremaining: 8.15s\n",
            "975:\tlearn: 0.4488211\ttotal: 5m 18s\tremaining: 7.83s\n",
            "976:\tlearn: 0.4488154\ttotal: 5m 18s\tremaining: 7.5s\n",
            "977:\tlearn: 0.4488087\ttotal: 5m 18s\tremaining: 7.17s\n",
            "978:\tlearn: 0.4488001\ttotal: 5m 19s\tremaining: 6.85s\n",
            "979:\tlearn: 0.4487914\ttotal: 5m 19s\tremaining: 6.52s\n",
            "980:\tlearn: 0.4487869\ttotal: 5m 19s\tremaining: 6.2s\n",
            "981:\tlearn: 0.4487770\ttotal: 5m 20s\tremaining: 5.87s\n",
            "982:\tlearn: 0.4487703\ttotal: 5m 20s\tremaining: 5.54s\n",
            "983:\tlearn: 0.4487547\ttotal: 5m 20s\tremaining: 5.22s\n",
            "984:\tlearn: 0.4487473\ttotal: 5m 21s\tremaining: 4.89s\n",
            "985:\tlearn: 0.4487426\ttotal: 5m 21s\tremaining: 4.57s\n",
            "986:\tlearn: 0.4487349\ttotal: 5m 21s\tremaining: 4.24s\n",
            "987:\tlearn: 0.4487302\ttotal: 5m 22s\tremaining: 3.91s\n",
            "988:\tlearn: 0.4487245\ttotal: 5m 22s\tremaining: 3.59s\n",
            "989:\tlearn: 0.4487122\ttotal: 5m 22s\tremaining: 3.26s\n",
            "990:\tlearn: 0.4487053\ttotal: 5m 23s\tremaining: 2.94s\n",
            "991:\tlearn: 0.4486932\ttotal: 5m 23s\tremaining: 2.61s\n",
            "992:\tlearn: 0.4486898\ttotal: 5m 24s\tremaining: 2.28s\n",
            "993:\tlearn: 0.4486869\ttotal: 5m 24s\tremaining: 1.96s\n",
            "994:\tlearn: 0.4486801\ttotal: 5m 24s\tremaining: 1.63s\n",
            "995:\tlearn: 0.4486723\ttotal: 5m 25s\tremaining: 1.3s\n",
            "996:\tlearn: 0.4486641\ttotal: 5m 25s\tremaining: 979ms\n",
            "997:\tlearn: 0.4486548\ttotal: 5m 25s\tremaining: 653ms\n",
            "998:\tlearn: 0.4486473\ttotal: 5m 26s\tremaining: 326ms\n",
            "999:\tlearn: 0.4486419\ttotal: 5m 26s\tremaining: 0us\n"
          ],
          "name": "stdout"
        },
        {
          "output_type": "execute_result",
          "data": {
            "text/plain": [
              "<catboost.core.CatBoostClassifier at 0x7fb1bdfcbcf8>"
            ]
          },
          "metadata": {
            "tags": []
          },
          "execution_count": 44
        }
      ]
    },
    {
      "cell_type": "code",
      "metadata": {
        "id": "FgnKiy5nLsBM",
        "outputId": "8f063dc0-af6b-45e8-ef9e-cbb3f6878e31",
        "colab": {
          "base_uri": "https://localhost:8080/"
        }
      },
      "source": [
        "predicts = cat_clf.predict(df_val[column_to_numbers_names].values)\n",
        "print(classification_report(df_val.is_bad, predicts))\n",
        "\n",
        "print('ROC_AUC Train')\n",
        "print(roc_auc_score(df_train.is_bad, cat_clf.predict_proba(df_train[column_to_numbers_names].values)[:, 1]))\n",
        "print('\\n')\n",
        "print('ROC_AUC Val')\n",
        "print(roc_auc_score(df_val.is_bad, cat_clf.predict_proba(df_val[column_to_numbers_names].values)[:, 1]))"
      ],
      "execution_count": 45,
      "outputs": [
        {
          "output_type": "stream",
          "text": [
            "              precision    recall  f1-score   support\n",
            "\n",
            "           0       0.80      0.95      0.87     12256\n",
            "           1       0.66      0.28      0.39      3981\n",
            "\n",
            "    accuracy                           0.79     16237\n",
            "   macro avg       0.73      0.62      0.63     16237\n",
            "weighted avg       0.77      0.79      0.75     16237\n",
            "\n",
            "ROC_AUC Train\n",
            "0.7837420782636997\n",
            "\n",
            "\n",
            "ROC_AUC Val\n",
            "0.7878770746391313\n"
          ],
          "name": "stdout"
        }
      ]
    },
    {
      "cell_type": "code",
      "metadata": {
        "id": "7M2Pho_Q4vrD"
      },
      "source": [
        "with open('cat_catboost.pkl', 'wb') as file:  \n",
        "    pickle.dump(cat_clf, file)"
      ],
      "execution_count": 46,
      "outputs": []
    },
    {
      "cell_type": "code",
      "metadata": {
        "id": "WZC5W9qo5QQC"
      },
      "source": [
        "with open('cat_catboost.pkl', 'rb') as file:  \n",
        "    pickled_cat_clf = pickle.load(file)"
      ],
      "execution_count": 47,
      "outputs": []
    },
    {
      "cell_type": "code",
      "metadata": {
        "id": "iQI6aTUG5YUr",
        "outputId": "47605d02-b516-4487-b8a6-0c838cd659bf",
        "colab": {
          "base_uri": "https://localhost:8080/"
        }
      },
      "source": [
        "print('ROC_AUC Val')\n",
        "print(roc_auc_score(df_val.is_bad, pickled_cat_clf.predict_proba(df_val[column_to_numbers_names].values)[:, 1]))"
      ],
      "execution_count": 48,
      "outputs": [
        {
          "output_type": "stream",
          "text": [
            "ROC_AUC Val\n",
            "0.7878770746391313\n"
          ],
          "name": "stdout"
        }
      ]
    },
    {
      "cell_type": "code",
      "metadata": {
        "id": "_6RLkcaPl9XX"
      },
      "source": [
        "cat_features=[column_to_numbers_names[i] for i in range(len(column_to_numbers_names)-1)]"
      ],
      "execution_count": 49,
      "outputs": []
    },
    {
      "cell_type": "markdown",
      "metadata": {
        "id": "1O1b9Y1zLzqe"
      },
      "source": [
        "## Catboost for both categorical features and titles\n"
      ]
    },
    {
      "cell_type": "code",
      "metadata": {
        "id": "wdg3ZIlSL8Fu"
      },
      "source": [
        "column_to_numbers_names.append('title')"
      ],
      "execution_count": 51,
      "outputs": []
    },
    {
      "cell_type": "code",
      "metadata": {
        "id": "byVz39LfL_BZ"
      },
      "source": [
        "df_train = df_train.astype({'dt_hour': int})\n",
        "df_val = df_val.astype({'dt_hour': int})"
      ],
      "execution_count": 52,
      "outputs": []
    },
    {
      "cell_type": "code",
      "metadata": {
        "id": "0sLefOnW4A3v"
      },
      "source": [
        "def catboost_tune_params(pool):\n",
        "    total_params =({'eval_metric': 'AUC',\n",
        "             'thread_count':8, \n",
        "             'random_seed':241,\n",
        "              'loss_function':'Logloss'\n",
        "             }) \n",
        "    \n",
        "    params_to_tune = [('learning_rate', [0.01, 0.03, 0.05, 0.07, 0.1]),\n",
        "                  ('depth', [2,3,4,6,8]),\n",
        "                  ('subsample', [0.8, 0.9, 1])\n",
        "                 ]\n",
        "    \n",
        "    max_auc = 0\n",
        "    for param_pair in params_to_tune:\n",
        "        param_name = param_pair[0] \n",
        "        param_auc_l = []\n",
        "        param_val_l = []\n",
        "        param_iter_n_l = []\n",
        "        for param_value in param_pair[1]:      \n",
        "            total_params[param_name] = param_value\n",
        "            result = []  \n",
        "\n",
        "            cross_val = cv(pool, total_params, early_stopping_rounds = 20, iterations=1000, fold_count=5,\n",
        "                           stratified=True, verbose=False) \n",
        "            best_iter_vec = np.array(cross_val[cross_val['test-AUC-mean']==cross_val['test-AUC-mean'].max()])[0]\n",
        "            \n",
        "            best_iter_n = best_iter_vec[0]\n",
        "            best_mean_auc = best_iter_vec[1]\n",
        "            best_std_auc = best_iter_vec[2]\n",
        "            \n",
        "            \n",
        "            param_auc_l.append(best_mean_auc)\n",
        "            param_val_l.append(param_value)\n",
        "            param_iter_n_l.append(best_iter_n)\n",
        "\n",
        "        best_auc = np.max(np.array(param_auc_l))\n",
        "        best_val = param_val_l[np.argmax(np.array(param_auc_l))]\n",
        "        best_iter = param_iter_n_l[np.argmax(np.array(param_auc_l))]\n",
        "        \n",
        "        total_params[param_name] = best_val\n",
        "        total_params['iterations'] = best_iter\n",
        "        \n",
        "        plt.plot(param_val_l, param_auc_l)\n",
        "        plt.legend(param_name)\n",
        "        plt.show()\n",
        "        print(\"AUC on tuned \", param_name, \" : \", best_auc)\n",
        "        \n",
        "        max_auc = max(max_auc, best_auc)\n",
        "        \n",
        "    return total_params, max_auc"
      ],
      "execution_count": 53,
      "outputs": []
    },
    {
      "cell_type": "code",
      "metadata": {
        "id": "qTP6qjqk4Hqj"
      },
      "source": [
        "pool = Pool(df_train[column_to_numbers_names], \n",
        "            df_train.is_bad, \n",
        "            cat_features=[column_to_numbers_names[i] for i in range(len(column_to_numbers_names)-1)],\n",
        "            text_features=['title'])\n",
        "params, max_auc = catboost_tune_params(pool)"
      ],
      "execution_count": null,
      "outputs": []
    },
    {
      "cell_type": "code",
      "metadata": {
        "id": "4vvMEZ_VMCs6",
        "outputId": "0590ae07-d588-47d6-a585-f601625aafdb",
        "colab": {
          "base_uri": "https://localhost:8080/"
        }
      },
      "source": [
        "cat_clf = CatBoostClassifier(text_features=['title'], \n",
        "                             cat_features=[column_to_numbers_names[i] for i in range(len(column_to_numbers_names)-1)])\n",
        "\n",
        "cat_clf.fit(df_train[column_to_numbers_names], df_train.is_bad)"
      ],
      "execution_count": 56,
      "outputs": [
        {
          "output_type": "stream",
          "text": [
            "Learning rate set to 0.19545\n",
            "0:\tlearn: 0.6117183\ttotal: 3.63s\tremaining: 1h 29s\n",
            "1:\tlearn: 0.5584240\ttotal: 7.29s\tremaining: 1h 38s\n",
            "2:\tlearn: 0.5257571\ttotal: 10.7s\tremaining: 59m 16s\n",
            "3:\tlearn: 0.5033055\ttotal: 14.4s\tremaining: 59m 50s\n",
            "4:\tlearn: 0.4891280\ttotal: 18.1s\tremaining: 59m 58s\n",
            "5:\tlearn: 0.4818006\ttotal: 21.1s\tremaining: 58m 12s\n",
            "6:\tlearn: 0.4775209\ttotal: 24s\tremaining: 56m 50s\n",
            "7:\tlearn: 0.4748664\ttotal: 26.7s\tremaining: 55m 8s\n",
            "8:\tlearn: 0.4725852\ttotal: 29.5s\tremaining: 54m 9s\n",
            "9:\tlearn: 0.4695588\ttotal: 33s\tremaining: 54m 22s\n",
            "10:\tlearn: 0.4665645\ttotal: 36.6s\tremaining: 54m 49s\n",
            "11:\tlearn: 0.4653953\ttotal: 39.6s\tremaining: 54m 21s\n",
            "12:\tlearn: 0.4642456\ttotal: 42.6s\tremaining: 53m 52s\n",
            "13:\tlearn: 0.4627107\ttotal: 44.8s\tremaining: 52m 36s\n",
            "14:\tlearn: 0.4623195\ttotal: 47.2s\tremaining: 51m 39s\n",
            "15:\tlearn: 0.4612406\ttotal: 49.8s\tremaining: 51m 4s\n",
            "16:\tlearn: 0.4609286\ttotal: 52.7s\tremaining: 50m 47s\n",
            "17:\tlearn: 0.4606352\ttotal: 55.9s\tremaining: 50m 50s\n",
            "18:\tlearn: 0.4600958\ttotal: 58.1s\tremaining: 50m 1s\n",
            "19:\tlearn: 0.4595639\ttotal: 1m\tremaining: 49m 42s\n",
            "20:\tlearn: 0.4593693\ttotal: 1m 2s\tremaining: 48m 56s\n",
            "21:\tlearn: 0.4589582\ttotal: 1m 4s\tremaining: 48m 5s\n",
            "22:\tlearn: 0.4588069\ttotal: 1m 7s\tremaining: 48m 5s\n",
            "23:\tlearn: 0.4584744\ttotal: 1m 9s\tremaining: 47m 17s\n",
            "24:\tlearn: 0.4579657\ttotal: 1m 11s\tremaining: 46m 35s\n",
            "25:\tlearn: 0.4575822\ttotal: 1m 13s\tremaining: 46m 9s\n",
            "26:\tlearn: 0.4571159\ttotal: 1m 16s\tremaining: 45m 41s\n",
            "27:\tlearn: 0.4564526\ttotal: 1m 18s\tremaining: 45m 25s\n",
            "28:\tlearn: 0.4561857\ttotal: 1m 20s\tremaining: 44m 47s\n",
            "29:\tlearn: 0.4559497\ttotal: 1m 22s\tremaining: 44m 14s\n",
            "30:\tlearn: 0.4557516\ttotal: 1m 23s\tremaining: 43m 41s\n",
            "31:\tlearn: 0.4554703\ttotal: 1m 25s\tremaining: 43m 12s\n",
            "32:\tlearn: 0.4553253\ttotal: 1m 27s\tremaining: 42m 48s\n",
            "33:\tlearn: 0.4549868\ttotal: 1m 29s\tremaining: 42m 23s\n",
            "34:\tlearn: 0.4544595\ttotal: 1m 31s\tremaining: 42m 16s\n",
            "35:\tlearn: 0.4543099\ttotal: 1m 33s\tremaining: 41m 49s\n",
            "36:\tlearn: 0.4541390\ttotal: 1m 35s\tremaining: 41m 26s\n",
            "37:\tlearn: 0.4539669\ttotal: 1m 37s\tremaining: 41m 13s\n",
            "38:\tlearn: 0.4536196\ttotal: 1m 39s\tremaining: 40m 59s\n",
            "39:\tlearn: 0.4532746\ttotal: 1m 42s\tremaining: 41m 9s\n",
            "40:\tlearn: 0.4531024\ttotal: 1m 44s\tremaining: 40m 48s\n",
            "41:\tlearn: 0.4529404\ttotal: 1m 46s\tremaining: 40m 28s\n",
            "42:\tlearn: 0.4526918\ttotal: 1m 48s\tremaining: 40m 9s\n",
            "43:\tlearn: 0.4524846\ttotal: 1m 50s\tremaining: 40m 2s\n",
            "44:\tlearn: 0.4522419\ttotal: 1m 53s\tremaining: 40m 1s\n",
            "45:\tlearn: 0.4521815\ttotal: 1m 55s\tremaining: 39m 45s\n",
            "46:\tlearn: 0.4519186\ttotal: 1m 57s\tremaining: 39m 35s\n",
            "47:\tlearn: 0.4518042\ttotal: 1m 58s\tremaining: 39m 19s\n",
            "48:\tlearn: 0.4516819\ttotal: 2m 1s\tremaining: 39m 16s\n",
            "49:\tlearn: 0.4512888\ttotal: 2m 3s\tremaining: 39m 12s\n",
            "50:\tlearn: 0.4509403\ttotal: 2m 6s\tremaining: 39m 19s\n",
            "51:\tlearn: 0.4508339\ttotal: 2m 9s\tremaining: 39m 20s\n",
            "52:\tlearn: 0.4507361\ttotal: 2m 11s\tremaining: 39m 4s\n",
            "53:\tlearn: 0.4506850\ttotal: 2m 12s\tremaining: 38m 49s\n",
            "54:\tlearn: 0.4506131\ttotal: 2m 15s\tremaining: 38m 43s\n",
            "55:\tlearn: 0.4505006\ttotal: 2m 17s\tremaining: 38m 29s\n",
            "56:\tlearn: 0.4503954\ttotal: 2m 18s\tremaining: 38m 16s\n",
            "57:\tlearn: 0.4501882\ttotal: 2m 20s\tremaining: 38m 7s\n",
            "58:\tlearn: 0.4500664\ttotal: 2m 22s\tremaining: 37m 53s\n",
            "59:\tlearn: 0.4499789\ttotal: 2m 24s\tremaining: 37m 46s\n",
            "60:\tlearn: 0.4498870\ttotal: 2m 26s\tremaining: 37m 34s\n",
            "61:\tlearn: 0.4497752\ttotal: 2m 28s\tremaining: 37m 22s\n",
            "62:\tlearn: 0.4496275\ttotal: 2m 30s\tremaining: 37m 22s\n",
            "63:\tlearn: 0.4495830\ttotal: 2m 32s\tremaining: 37m 10s\n",
            "64:\tlearn: 0.4494464\ttotal: 2m 34s\tremaining: 37m 1s\n",
            "65:\tlearn: 0.4492998\ttotal: 2m 37s\tremaining: 37m 4s\n",
            "66:\tlearn: 0.4489388\ttotal: 2m 40s\tremaining: 37m 11s\n",
            "67:\tlearn: 0.4489030\ttotal: 2m 42s\tremaining: 37m 1s\n",
            "68:\tlearn: 0.4487465\ttotal: 2m 44s\tremaining: 37m 5s\n",
            "69:\tlearn: 0.4486604\ttotal: 2m 47s\tremaining: 37m 2s\n",
            "70:\tlearn: 0.4485785\ttotal: 2m 50s\tremaining: 37m 4s\n",
            "71:\tlearn: 0.4484151\ttotal: 2m 53s\tremaining: 37m 12s\n",
            "72:\tlearn: 0.4482525\ttotal: 2m 55s\tremaining: 37m 11s\n",
            "73:\tlearn: 0.4481647\ttotal: 2m 57s\tremaining: 37m 2s\n",
            "74:\tlearn: 0.4481131\ttotal: 2m 59s\tremaining: 36m 55s\n",
            "75:\tlearn: 0.4479784\ttotal: 3m 2s\tremaining: 36m 55s\n",
            "76:\tlearn: 0.4478521\ttotal: 3m 4s\tremaining: 36m 50s\n",
            "77:\tlearn: 0.4477497\ttotal: 3m 6s\tremaining: 36m 47s\n",
            "78:\tlearn: 0.4475665\ttotal: 3m 9s\tremaining: 36m 53s\n",
            "79:\tlearn: 0.4474575\ttotal: 3m 11s\tremaining: 36m 47s\n",
            "80:\tlearn: 0.4473474\ttotal: 3m 14s\tremaining: 36m 42s\n",
            "81:\tlearn: 0.4472622\ttotal: 3m 15s\tremaining: 36m 32s\n",
            "82:\tlearn: 0.4471464\ttotal: 3m 17s\tremaining: 36m 25s\n",
            "83:\tlearn: 0.4469123\ttotal: 3m 20s\tremaining: 36m 26s\n",
            "84:\tlearn: 0.4468097\ttotal: 3m 22s\tremaining: 36m 23s\n",
            "85:\tlearn: 0.4467134\ttotal: 3m 25s\tremaining: 36m 22s\n",
            "86:\tlearn: 0.4466349\ttotal: 3m 27s\tremaining: 36m 17s\n",
            "87:\tlearn: 0.4465901\ttotal: 3m 29s\tremaining: 36m 14s\n",
            "88:\tlearn: 0.4465227\ttotal: 3m 31s\tremaining: 36m 7s\n",
            "89:\tlearn: 0.4464144\ttotal: 3m 33s\tremaining: 35m 59s\n",
            "90:\tlearn: 0.4463280\ttotal: 3m 35s\tremaining: 35m 52s\n",
            "91:\tlearn: 0.4462733\ttotal: 3m 37s\tremaining: 35m 46s\n",
            "92:\tlearn: 0.4462090\ttotal: 3m 39s\tremaining: 35m 39s\n",
            "93:\tlearn: 0.4461232\ttotal: 3m 41s\tremaining: 35m 35s\n",
            "94:\tlearn: 0.4460627\ttotal: 3m 43s\tremaining: 35m 31s\n",
            "95:\tlearn: 0.4459942\ttotal: 3m 45s\tremaining: 35m 25s\n",
            "96:\tlearn: 0.4458187\ttotal: 3m 48s\tremaining: 35m 25s\n",
            "97:\tlearn: 0.4457262\ttotal: 3m 51s\tremaining: 35m 28s\n",
            "98:\tlearn: 0.4456569\ttotal: 3m 53s\tremaining: 35m 23s\n",
            "99:\tlearn: 0.4455785\ttotal: 3m 55s\tremaining: 35m 17s\n",
            "100:\tlearn: 0.4455195\ttotal: 3m 57s\tremaining: 35m 14s\n",
            "101:\tlearn: 0.4454229\ttotal: 3m 59s\tremaining: 35m 7s\n",
            "102:\tlearn: 0.4452808\ttotal: 4m 2s\tremaining: 35m 10s\n",
            "103:\tlearn: 0.4451665\ttotal: 4m 4s\tremaining: 35m 6s\n",
            "104:\tlearn: 0.4451030\ttotal: 4m 7s\tremaining: 35m 8s\n",
            "105:\tlearn: 0.4450078\ttotal: 4m 9s\tremaining: 35m 4s\n",
            "106:\tlearn: 0.4449144\ttotal: 4m 11s\tremaining: 35m 2s\n",
            "107:\tlearn: 0.4448474\ttotal: 4m 14s\tremaining: 34m 58s\n",
            "108:\tlearn: 0.4447196\ttotal: 4m 16s\tremaining: 34m 54s\n",
            "109:\tlearn: 0.4446687\ttotal: 4m 18s\tremaining: 34m 48s\n",
            "110:\tlearn: 0.4445710\ttotal: 4m 20s\tremaining: 34m 44s\n",
            "111:\tlearn: 0.4444903\ttotal: 4m 22s\tremaining: 34m 38s\n",
            "112:\tlearn: 0.4444428\ttotal: 4m 24s\tremaining: 34m 33s\n",
            "113:\tlearn: 0.4443641\ttotal: 4m 27s\tremaining: 34m 36s\n",
            "114:\tlearn: 0.4442771\ttotal: 4m 29s\tremaining: 34m 35s\n",
            "115:\tlearn: 0.4442584\ttotal: 4m 31s\tremaining: 34m 29s\n",
            "116:\tlearn: 0.4442307\ttotal: 4m 33s\tremaining: 34m 25s\n",
            "117:\tlearn: 0.4441493\ttotal: 4m 36s\tremaining: 34m 25s\n",
            "118:\tlearn: 0.4440897\ttotal: 4m 38s\tremaining: 34m 19s\n",
            "119:\tlearn: 0.4440436\ttotal: 4m 40s\tremaining: 34m 20s\n",
            "120:\tlearn: 0.4439954\ttotal: 4m 43s\tremaining: 34m 19s\n",
            "121:\tlearn: 0.4439243\ttotal: 4m 45s\tremaining: 34m 15s\n",
            "122:\tlearn: 0.4438955\ttotal: 4m 47s\tremaining: 34m 11s\n",
            "123:\tlearn: 0.4438350\ttotal: 4m 49s\tremaining: 34m 5s\n",
            "124:\tlearn: 0.4438025\ttotal: 4m 51s\tremaining: 34m\n",
            "125:\tlearn: 0.4437274\ttotal: 4m 53s\tremaining: 33m 57s\n",
            "126:\tlearn: 0.4436778\ttotal: 4m 55s\tremaining: 33m 52s\n",
            "127:\tlearn: 0.4436186\ttotal: 4m 57s\tremaining: 33m 50s\n",
            "128:\tlearn: 0.4435681\ttotal: 4m 59s\tremaining: 33m 44s\n",
            "129:\tlearn: 0.4435110\ttotal: 5m 1s\tremaining: 33m 38s\n",
            "130:\tlearn: 0.4434737\ttotal: 5m 4s\tremaining: 33m 38s\n",
            "131:\tlearn: 0.4434274\ttotal: 5m 6s\tremaining: 33m 32s\n",
            "132:\tlearn: 0.4433763\ttotal: 5m 7s\tremaining: 33m 27s\n",
            "133:\tlearn: 0.4432859\ttotal: 5m 10s\tremaining: 33m 24s\n",
            "134:\tlearn: 0.4432061\ttotal: 5m 12s\tremaining: 33m 21s\n",
            "135:\tlearn: 0.4431875\ttotal: 5m 14s\tremaining: 33m 18s\n",
            "136:\tlearn: 0.4430524\ttotal: 5m 16s\tremaining: 33m 16s\n",
            "137:\tlearn: 0.4430065\ttotal: 5m 18s\tremaining: 33m 11s\n",
            "138:\tlearn: 0.4429603\ttotal: 5m 20s\tremaining: 33m 6s\n",
            "139:\tlearn: 0.4429133\ttotal: 5m 22s\tremaining: 33m 3s\n",
            "140:\tlearn: 0.4428371\ttotal: 5m 25s\tremaining: 33m 2s\n",
            "141:\tlearn: 0.4427614\ttotal: 5m 28s\tremaining: 33m 2s\n",
            "142:\tlearn: 0.4427355\ttotal: 5m 30s\tremaining: 32m 59s\n",
            "143:\tlearn: 0.4426724\ttotal: 5m 32s\tremaining: 32m 55s\n",
            "144:\tlearn: 0.4426105\ttotal: 5m 34s\tremaining: 32m 49s\n",
            "145:\tlearn: 0.4425585\ttotal: 5m 35s\tremaining: 32m 44s\n",
            "146:\tlearn: 0.4425051\ttotal: 5m 38s\tremaining: 32m 41s\n",
            "147:\tlearn: 0.4424569\ttotal: 5m 39s\tremaining: 32m 36s\n",
            "148:\tlearn: 0.4423791\ttotal: 5m 41s\tremaining: 32m 33s\n",
            "149:\tlearn: 0.4422349\ttotal: 5m 44s\tremaining: 32m 33s\n",
            "150:\tlearn: 0.4421967\ttotal: 5m 47s\tremaining: 32m 31s\n",
            "151:\tlearn: 0.4421463\ttotal: 5m 48s\tremaining: 32m 25s\n",
            "152:\tlearn: 0.4421072\ttotal: 5m 50s\tremaining: 32m 22s\n",
            "153:\tlearn: 0.4420435\ttotal: 5m 53s\tremaining: 32m 19s\n",
            "154:\tlearn: 0.4420200\ttotal: 5m 54s\tremaining: 32m 14s\n",
            "155:\tlearn: 0.4419846\ttotal: 5m 56s\tremaining: 32m 9s\n",
            "156:\tlearn: 0.4419337\ttotal: 5m 58s\tremaining: 32m 4s\n",
            "157:\tlearn: 0.4418852\ttotal: 6m\tremaining: 32m 2s\n",
            "158:\tlearn: 0.4418203\ttotal: 6m 3s\tremaining: 32m\n",
            "159:\tlearn: 0.4417976\ttotal: 6m 4s\tremaining: 31m 55s\n",
            "160:\tlearn: 0.4417612\ttotal: 6m 7s\tremaining: 31m 52s\n",
            "161:\tlearn: 0.4417272\ttotal: 6m 8s\tremaining: 31m 48s\n",
            "162:\tlearn: 0.4416941\ttotal: 6m 11s\tremaining: 31m 46s\n",
            "163:\tlearn: 0.4416473\ttotal: 6m 13s\tremaining: 31m 43s\n",
            "164:\tlearn: 0.4415681\ttotal: 6m 16s\tremaining: 31m 43s\n",
            "165:\tlearn: 0.4415218\ttotal: 6m 17s\tremaining: 31m 39s\n",
            "166:\tlearn: 0.4414610\ttotal: 6m 19s\tremaining: 31m 34s\n",
            "167:\tlearn: 0.4414067\ttotal: 6m 22s\tremaining: 31m 32s\n",
            "168:\tlearn: 0.4413421\ttotal: 6m 24s\tremaining: 31m 30s\n",
            "169:\tlearn: 0.4413089\ttotal: 6m 26s\tremaining: 31m 26s\n",
            "170:\tlearn: 0.4412647\ttotal: 6m 28s\tremaining: 31m 22s\n",
            "171:\tlearn: 0.4412072\ttotal: 6m 30s\tremaining: 31m 21s\n",
            "172:\tlearn: 0.4411753\ttotal: 6m 32s\tremaining: 31m 16s\n",
            "173:\tlearn: 0.4411246\ttotal: 6m 34s\tremaining: 31m 14s\n",
            "174:\tlearn: 0.4410343\ttotal: 6m 37s\tremaining: 31m 15s\n",
            "175:\tlearn: 0.4409740\ttotal: 6m 40s\tremaining: 31m 13s\n",
            "176:\tlearn: 0.4409495\ttotal: 6m 42s\tremaining: 31m 10s\n",
            "177:\tlearn: 0.4409024\ttotal: 6m 44s\tremaining: 31m 9s\n",
            "178:\tlearn: 0.4408391\ttotal: 6m 47s\tremaining: 31m 8s\n",
            "179:\tlearn: 0.4408012\ttotal: 6m 49s\tremaining: 31m 5s\n",
            "180:\tlearn: 0.4407713\ttotal: 6m 51s\tremaining: 31m 3s\n",
            "181:\tlearn: 0.4407236\ttotal: 6m 53s\tremaining: 31m\n",
            "182:\tlearn: 0.4406766\ttotal: 6m 56s\tremaining: 30m 57s\n",
            "183:\tlearn: 0.4406184\ttotal: 6m 58s\tremaining: 30m 56s\n",
            "184:\tlearn: 0.4405751\ttotal: 7m\tremaining: 30m 53s\n",
            "185:\tlearn: 0.4405377\ttotal: 7m 2s\tremaining: 30m 50s\n",
            "186:\tlearn: 0.4404923\ttotal: 7m 4s\tremaining: 30m 46s\n",
            "187:\tlearn: 0.4404614\ttotal: 7m 6s\tremaining: 30m 41s\n",
            "188:\tlearn: 0.4404095\ttotal: 7m 8s\tremaining: 30m 39s\n",
            "189:\tlearn: 0.4403381\ttotal: 7m 10s\tremaining: 30m 35s\n",
            "190:\tlearn: 0.4403088\ttotal: 7m 12s\tremaining: 30m 31s\n",
            "191:\tlearn: 0.4402700\ttotal: 7m 14s\tremaining: 30m 27s\n",
            "192:\tlearn: 0.4402304\ttotal: 7m 16s\tremaining: 30m 24s\n",
            "193:\tlearn: 0.4401852\ttotal: 7m 18s\tremaining: 30m 21s\n",
            "194:\tlearn: 0.4401581\ttotal: 7m 20s\tremaining: 30m 17s\n",
            "195:\tlearn: 0.4401213\ttotal: 7m 22s\tremaining: 30m 16s\n",
            "196:\tlearn: 0.4401000\ttotal: 7m 24s\tremaining: 30m 13s\n",
            "197:\tlearn: 0.4400761\ttotal: 7m 27s\tremaining: 30m 10s\n",
            "198:\tlearn: 0.4399961\ttotal: 7m 29s\tremaining: 30m 9s\n",
            "199:\tlearn: 0.4399619\ttotal: 7m 31s\tremaining: 30m 7s\n",
            "200:\tlearn: 0.4399375\ttotal: 7m 33s\tremaining: 30m 4s\n",
            "201:\tlearn: 0.4398926\ttotal: 7m 36s\tremaining: 30m 1s\n",
            "202:\tlearn: 0.4398475\ttotal: 7m 38s\tremaining: 29m 58s\n",
            "203:\tlearn: 0.4397973\ttotal: 7m 40s\tremaining: 29m 55s\n",
            "204:\tlearn: 0.4397260\ttotal: 7m 42s\tremaining: 29m 54s\n",
            "205:\tlearn: 0.4396831\ttotal: 7m 44s\tremaining: 29m 51s\n",
            "206:\tlearn: 0.4396512\ttotal: 7m 46s\tremaining: 29m 48s\n",
            "207:\tlearn: 0.4395984\ttotal: 7m 49s\tremaining: 29m 46s\n",
            "208:\tlearn: 0.4395304\ttotal: 7m 51s\tremaining: 29m 44s\n",
            "209:\tlearn: 0.4394934\ttotal: 7m 53s\tremaining: 29m 41s\n",
            "210:\tlearn: 0.4394630\ttotal: 7m 55s\tremaining: 29m 38s\n",
            "211:\tlearn: 0.4394195\ttotal: 7m 57s\tremaining: 29m 36s\n",
            "212:\tlearn: 0.4393064\ttotal: 8m\tremaining: 29m 36s\n",
            "213:\tlearn: 0.4392750\ttotal: 8m 3s\tremaining: 29m 34s\n",
            "214:\tlearn: 0.4392363\ttotal: 8m 4s\tremaining: 29m 30s\n",
            "215:\tlearn: 0.4392057\ttotal: 8m 6s\tremaining: 29m 27s\n",
            "216:\tlearn: 0.4391749\ttotal: 8m 8s\tremaining: 29m 23s\n",
            "217:\tlearn: 0.4391384\ttotal: 8m 11s\tremaining: 29m 21s\n",
            "218:\tlearn: 0.4391130\ttotal: 8m 12s\tremaining: 29m 17s\n",
            "219:\tlearn: 0.4390818\ttotal: 8m 14s\tremaining: 29m 14s\n",
            "220:\tlearn: 0.4390403\ttotal: 8m 17s\tremaining: 29m 13s\n",
            "221:\tlearn: 0.4389940\ttotal: 8m 19s\tremaining: 29m 11s\n",
            "222:\tlearn: 0.4389818\ttotal: 8m 21s\tremaining: 29m 8s\n",
            "223:\tlearn: 0.4389518\ttotal: 8m 23s\tremaining: 29m 4s\n",
            "224:\tlearn: 0.4389217\ttotal: 8m 25s\tremaining: 29m 2s\n",
            "225:\tlearn: 0.4388656\ttotal: 8m 28s\tremaining: 29m 1s\n",
            "226:\tlearn: 0.4388384\ttotal: 8m 30s\tremaining: 28m 57s\n",
            "227:\tlearn: 0.4387803\ttotal: 8m 32s\tremaining: 28m 56s\n",
            "228:\tlearn: 0.4387521\ttotal: 8m 35s\tremaining: 28m 53s\n",
            "229:\tlearn: 0.4387116\ttotal: 8m 37s\tremaining: 28m 51s\n",
            "230:\tlearn: 0.4386641\ttotal: 8m 39s\tremaining: 28m 49s\n",
            "231:\tlearn: 0.4386199\ttotal: 8m 41s\tremaining: 28m 46s\n",
            "232:\tlearn: 0.4385717\ttotal: 8m 43s\tremaining: 28m 42s\n",
            "233:\tlearn: 0.4385643\ttotal: 8m 45s\tremaining: 28m 39s\n",
            "234:\tlearn: 0.4384987\ttotal: 8m 47s\tremaining: 28m 37s\n",
            "235:\tlearn: 0.4384801\ttotal: 8m 49s\tremaining: 28m 33s\n",
            "236:\tlearn: 0.4384445\ttotal: 8m 51s\tremaining: 28m 30s\n",
            "237:\tlearn: 0.4384105\ttotal: 8m 53s\tremaining: 28m 28s\n",
            "238:\tlearn: 0.4383787\ttotal: 8m 55s\tremaining: 28m 26s\n",
            "239:\tlearn: 0.4383358\ttotal: 8m 58s\tremaining: 28m 23s\n",
            "240:\tlearn: 0.4382949\ttotal: 8m 59s\tremaining: 28m 20s\n",
            "241:\tlearn: 0.4382530\ttotal: 9m 1s\tremaining: 28m 16s\n",
            "242:\tlearn: 0.4382328\ttotal: 9m 3s\tremaining: 28m 13s\n",
            "243:\tlearn: 0.4381893\ttotal: 9m 5s\tremaining: 28m 11s\n",
            "244:\tlearn: 0.4381576\ttotal: 9m 8s\tremaining: 28m 9s\n",
            "245:\tlearn: 0.4381203\ttotal: 9m 10s\tremaining: 28m 5s\n",
            "246:\tlearn: 0.4380929\ttotal: 9m 11s\tremaining: 28m 2s\n",
            "247:\tlearn: 0.4380796\ttotal: 9m 13s\tremaining: 27m 59s\n",
            "248:\tlearn: 0.4380334\ttotal: 9m 15s\tremaining: 27m 56s\n",
            "249:\tlearn: 0.4380124\ttotal: 9m 17s\tremaining: 27m 53s\n",
            "250:\tlearn: 0.4380000\ttotal: 9m 19s\tremaining: 27m 50s\n",
            "251:\tlearn: 0.4379527\ttotal: 9m 22s\tremaining: 27m 49s\n",
            "252:\tlearn: 0.4379351\ttotal: 9m 24s\tremaining: 27m 47s\n",
            "253:\tlearn: 0.4379030\ttotal: 9m 26s\tremaining: 27m 45s\n",
            "254:\tlearn: 0.4378806\ttotal: 9m 29s\tremaining: 27m 43s\n",
            "255:\tlearn: 0.4378647\ttotal: 9m 31s\tremaining: 27m 39s\n",
            "256:\tlearn: 0.4378233\ttotal: 9m 32s\tremaining: 27m 36s\n",
            "257:\tlearn: 0.4377815\ttotal: 9m 35s\tremaining: 27m 34s\n",
            "258:\tlearn: 0.4377493\ttotal: 9m 37s\tremaining: 27m 31s\n",
            "259:\tlearn: 0.4377173\ttotal: 9m 39s\tremaining: 27m 29s\n",
            "260:\tlearn: 0.4376585\ttotal: 9m 41s\tremaining: 27m 26s\n",
            "261:\tlearn: 0.4376255\ttotal: 9m 43s\tremaining: 27m 23s\n",
            "262:\tlearn: 0.4376019\ttotal: 9m 45s\tremaining: 27m 20s\n",
            "263:\tlearn: 0.4375704\ttotal: 9m 48s\tremaining: 27m 19s\n",
            "264:\tlearn: 0.4375371\ttotal: 9m 50s\tremaining: 27m 18s\n",
            "265:\tlearn: 0.4375098\ttotal: 9m 53s\tremaining: 27m 16s\n",
            "266:\tlearn: 0.4374776\ttotal: 9m 54s\tremaining: 27m 13s\n",
            "267:\tlearn: 0.4374342\ttotal: 9m 56s\tremaining: 27m 9s\n",
            "268:\tlearn: 0.4373859\ttotal: 9m 59s\tremaining: 27m 8s\n",
            "269:\tlearn: 0.4373401\ttotal: 10m 1s\tremaining: 27m 6s\n",
            "270:\tlearn: 0.4373165\ttotal: 10m 3s\tremaining: 27m 3s\n",
            "271:\tlearn: 0.4372794\ttotal: 10m 6s\tremaining: 27m 2s\n",
            "272:\tlearn: 0.4372546\ttotal: 10m 7s\tremaining: 26m 59s\n",
            "273:\tlearn: 0.4372020\ttotal: 10m 10s\tremaining: 26m 57s\n",
            "274:\tlearn: 0.4371822\ttotal: 10m 12s\tremaining: 26m 54s\n",
            "275:\tlearn: 0.4371474\ttotal: 10m 14s\tremaining: 26m 51s\n",
            "276:\tlearn: 0.4371252\ttotal: 10m 16s\tremaining: 26m 48s\n",
            "277:\tlearn: 0.4370975\ttotal: 10m 18s\tremaining: 26m 45s\n",
            "278:\tlearn: 0.4370690\ttotal: 10m 20s\tremaining: 26m 42s\n",
            "279:\tlearn: 0.4370520\ttotal: 10m 22s\tremaining: 26m 40s\n",
            "280:\tlearn: 0.4370352\ttotal: 10m 24s\tremaining: 26m 37s\n",
            "281:\tlearn: 0.4369934\ttotal: 10m 26s\tremaining: 26m 34s\n",
            "282:\tlearn: 0.4369563\ttotal: 10m 28s\tremaining: 26m 31s\n",
            "283:\tlearn: 0.4369474\ttotal: 10m 30s\tremaining: 26m 28s\n",
            "284:\tlearn: 0.4369361\ttotal: 10m 32s\tremaining: 26m 26s\n",
            "285:\tlearn: 0.4369004\ttotal: 10m 34s\tremaining: 26m 24s\n",
            "286:\tlearn: 0.4368616\ttotal: 10m 37s\tremaining: 26m 23s\n",
            "287:\tlearn: 0.4368357\ttotal: 10m 39s\tremaining: 26m 21s\n",
            "288:\tlearn: 0.4368124\ttotal: 10m 41s\tremaining: 26m 19s\n",
            "289:\tlearn: 0.4367553\ttotal: 10m 45s\tremaining: 26m 19s\n",
            "290:\tlearn: 0.4367267\ttotal: 10m 47s\tremaining: 26m 17s\n",
            "291:\tlearn: 0.4367015\ttotal: 10m 50s\tremaining: 26m 16s\n",
            "292:\tlearn: 0.4366693\ttotal: 10m 51s\tremaining: 26m 13s\n",
            "293:\tlearn: 0.4366463\ttotal: 10m 53s\tremaining: 26m 10s\n",
            "294:\tlearn: 0.4366240\ttotal: 10m 56s\tremaining: 26m 7s\n",
            "295:\tlearn: 0.4365846\ttotal: 10m 58s\tremaining: 26m 6s\n",
            "296:\tlearn: 0.4365631\ttotal: 11m 1s\tremaining: 26m 4s\n",
            "297:\tlearn: 0.4365462\ttotal: 11m 2s\tremaining: 26m 1s\n",
            "298:\tlearn: 0.4365287\ttotal: 11m 5s\tremaining: 25m 59s\n",
            "299:\tlearn: 0.4365017\ttotal: 11m 7s\tremaining: 25m 57s\n",
            "300:\tlearn: 0.4364660\ttotal: 11m 9s\tremaining: 25m 55s\n",
            "301:\tlearn: 0.4364397\ttotal: 11m 12s\tremaining: 25m 53s\n",
            "302:\tlearn: 0.4364154\ttotal: 11m 14s\tremaining: 25m 51s\n",
            "303:\tlearn: 0.4363848\ttotal: 11m 17s\tremaining: 25m 50s\n",
            "304:\tlearn: 0.4363185\ttotal: 11m 19s\tremaining: 25m 48s\n",
            "305:\tlearn: 0.4362836\ttotal: 11m 21s\tremaining: 25m 46s\n",
            "306:\tlearn: 0.4362515\ttotal: 11m 23s\tremaining: 25m 43s\n",
            "307:\tlearn: 0.4362462\ttotal: 11m 26s\tremaining: 25m 41s\n",
            "308:\tlearn: 0.4362244\ttotal: 11m 28s\tremaining: 25m 38s\n",
            "309:\tlearn: 0.4361730\ttotal: 11m 30s\tremaining: 25m 37s\n",
            "310:\tlearn: 0.4361556\ttotal: 11m 32s\tremaining: 25m 33s\n",
            "311:\tlearn: 0.4361348\ttotal: 11m 34s\tremaining: 25m 30s\n",
            "312:\tlearn: 0.4360996\ttotal: 11m 36s\tremaining: 25m 27s\n",
            "313:\tlearn: 0.4360892\ttotal: 11m 38s\tremaining: 25m 25s\n",
            "314:\tlearn: 0.4360634\ttotal: 11m 40s\tremaining: 25m 23s\n",
            "315:\tlearn: 0.4360281\ttotal: 11m 42s\tremaining: 25m 21s\n",
            "316:\tlearn: 0.4360018\ttotal: 11m 44s\tremaining: 25m 18s\n",
            "317:\tlearn: 0.4359822\ttotal: 11m 46s\tremaining: 25m 16s\n",
            "318:\tlearn: 0.4359552\ttotal: 11m 48s\tremaining: 25m 12s\n",
            "319:\tlearn: 0.4359353\ttotal: 11m 50s\tremaining: 25m 9s\n",
            "320:\tlearn: 0.4359110\ttotal: 11m 52s\tremaining: 25m 7s\n",
            "321:\tlearn: 0.4358690\ttotal: 11m 54s\tremaining: 25m 4s\n",
            "322:\tlearn: 0.4358459\ttotal: 11m 56s\tremaining: 25m 2s\n",
            "323:\tlearn: 0.4358283\ttotal: 11m 59s\tremaining: 25m 1s\n",
            "324:\tlearn: 0.4358108\ttotal: 12m 1s\tremaining: 24m 58s\n",
            "325:\tlearn: 0.4357762\ttotal: 12m 3s\tremaining: 24m 55s\n",
            "326:\tlearn: 0.4357313\ttotal: 12m 5s\tremaining: 24m 53s\n",
            "327:\tlearn: 0.4356988\ttotal: 12m 7s\tremaining: 24m 51s\n",
            "328:\tlearn: 0.4356789\ttotal: 12m 9s\tremaining: 24m 48s\n",
            "329:\tlearn: 0.4356564\ttotal: 12m 11s\tremaining: 24m 45s\n",
            "330:\tlearn: 0.4356296\ttotal: 12m 13s\tremaining: 24m 41s\n",
            "331:\tlearn: 0.4355698\ttotal: 12m 15s\tremaining: 24m 39s\n",
            "332:\tlearn: 0.4355590\ttotal: 12m 17s\tremaining: 24m 36s\n",
            "333:\tlearn: 0.4354679\ttotal: 12m 18s\tremaining: 24m 33s\n",
            "334:\tlearn: 0.4354432\ttotal: 12m 21s\tremaining: 24m 30s\n",
            "335:\tlearn: 0.4354230\ttotal: 12m 23s\tremaining: 24m 28s\n",
            "336:\tlearn: 0.4353930\ttotal: 12m 24s\tremaining: 24m 25s\n",
            "337:\tlearn: 0.4353744\ttotal: 12m 27s\tremaining: 24m 23s\n",
            "338:\tlearn: 0.4353504\ttotal: 12m 29s\tremaining: 24m 21s\n",
            "339:\tlearn: 0.4353193\ttotal: 12m 31s\tremaining: 24m 18s\n",
            "340:\tlearn: 0.4352940\ttotal: 12m 33s\tremaining: 24m 16s\n",
            "341:\tlearn: 0.4352611\ttotal: 12m 35s\tremaining: 24m 14s\n",
            "342:\tlearn: 0.4352284\ttotal: 12m 38s\tremaining: 24m 13s\n",
            "343:\tlearn: 0.4352073\ttotal: 12m 41s\tremaining: 24m 11s\n",
            "344:\tlearn: 0.4351802\ttotal: 12m 43s\tremaining: 24m 8s\n",
            "345:\tlearn: 0.4351499\ttotal: 12m 45s\tremaining: 24m 7s\n",
            "346:\tlearn: 0.4351290\ttotal: 12m 47s\tremaining: 24m 4s\n",
            "347:\tlearn: 0.4351045\ttotal: 12m 49s\tremaining: 24m 2s\n",
            "348:\tlearn: 0.4350737\ttotal: 12m 52s\tremaining: 24m 1s\n",
            "349:\tlearn: 0.4350549\ttotal: 12m 54s\tremaining: 23m 58s\n",
            "350:\tlearn: 0.4350305\ttotal: 12m 56s\tremaining: 23m 56s\n",
            "351:\tlearn: 0.4350083\ttotal: 12m 59s\tremaining: 23m 54s\n",
            "352:\tlearn: 0.4349704\ttotal: 13m 1s\tremaining: 23m 51s\n",
            "353:\tlearn: 0.4349261\ttotal: 13m 3s\tremaining: 23m 49s\n",
            "354:\tlearn: 0.4349039\ttotal: 13m 5s\tremaining: 23m 47s\n",
            "355:\tlearn: 0.4348775\ttotal: 13m 7s\tremaining: 23m 44s\n",
            "356:\tlearn: 0.4348593\ttotal: 13m 9s\tremaining: 23m 42s\n",
            "357:\tlearn: 0.4348281\ttotal: 13m 11s\tremaining: 23m 39s\n",
            "358:\tlearn: 0.4348132\ttotal: 13m 13s\tremaining: 23m 37s\n",
            "359:\tlearn: 0.4347820\ttotal: 13m 15s\tremaining: 23m 34s\n",
            "360:\tlearn: 0.4347429\ttotal: 13m 17s\tremaining: 23m 32s\n",
            "361:\tlearn: 0.4347289\ttotal: 13m 20s\tremaining: 23m 30s\n",
            "362:\tlearn: 0.4347036\ttotal: 13m 22s\tremaining: 23m 28s\n",
            "363:\tlearn: 0.4346817\ttotal: 13m 24s\tremaining: 23m 25s\n",
            "364:\tlearn: 0.4346554\ttotal: 13m 26s\tremaining: 23m 23s\n",
            "365:\tlearn: 0.4346240\ttotal: 13m 28s\tremaining: 23m 20s\n",
            "366:\tlearn: 0.4346005\ttotal: 13m 30s\tremaining: 23m 18s\n",
            "367:\tlearn: 0.4345766\ttotal: 13m 32s\tremaining: 23m 15s\n",
            "368:\tlearn: 0.4345379\ttotal: 13m 34s\tremaining: 23m 13s\n",
            "369:\tlearn: 0.4345121\ttotal: 13m 36s\tremaining: 23m 10s\n",
            "370:\tlearn: 0.4344979\ttotal: 13m 39s\tremaining: 23m 8s\n",
            "371:\tlearn: 0.4344633\ttotal: 13m 41s\tremaining: 23m 6s\n",
            "372:\tlearn: 0.4344297\ttotal: 13m 43s\tremaining: 23m 3s\n",
            "373:\tlearn: 0.4343932\ttotal: 13m 45s\tremaining: 23m 2s\n",
            "374:\tlearn: 0.4343555\ttotal: 13m 48s\tremaining: 23m\n",
            "375:\tlearn: 0.4343365\ttotal: 13m 50s\tremaining: 22m 58s\n",
            "376:\tlearn: 0.4343214\ttotal: 13m 52s\tremaining: 22m 55s\n",
            "377:\tlearn: 0.4343026\ttotal: 13m 54s\tremaining: 22m 53s\n",
            "378:\tlearn: 0.4342783\ttotal: 13m 56s\tremaining: 22m 50s\n",
            "379:\tlearn: 0.4342448\ttotal: 13m 59s\tremaining: 22m 49s\n",
            "380:\tlearn: 0.4342218\ttotal: 14m 1s\tremaining: 22m 46s\n",
            "381:\tlearn: 0.4342049\ttotal: 14m 2s\tremaining: 22m 43s\n",
            "382:\tlearn: 0.4341743\ttotal: 14m 5s\tremaining: 22m 42s\n",
            "383:\tlearn: 0.4341325\ttotal: 14m 8s\tremaining: 22m 40s\n",
            "384:\tlearn: 0.4341069\ttotal: 14m 10s\tremaining: 22m 38s\n",
            "385:\tlearn: 0.4340755\ttotal: 14m 12s\tremaining: 22m 36s\n",
            "386:\tlearn: 0.4340506\ttotal: 14m 14s\tremaining: 22m 33s\n",
            "387:\tlearn: 0.4340220\ttotal: 14m 16s\tremaining: 22m 31s\n",
            "388:\tlearn: 0.4339973\ttotal: 14m 18s\tremaining: 22m 28s\n",
            "389:\tlearn: 0.4339662\ttotal: 14m 20s\tremaining: 22m 25s\n",
            "390:\tlearn: 0.4339362\ttotal: 14m 22s\tremaining: 22m 23s\n",
            "391:\tlearn: 0.4338997\ttotal: 14m 24s\tremaining: 22m 21s\n",
            "392:\tlearn: 0.4338698\ttotal: 14m 26s\tremaining: 22m 18s\n",
            "393:\tlearn: 0.4338489\ttotal: 14m 29s\tremaining: 22m 17s\n",
            "394:\tlearn: 0.4338081\ttotal: 14m 32s\tremaining: 22m 15s\n",
            "395:\tlearn: 0.4337793\ttotal: 14m 34s\tremaining: 22m 13s\n",
            "396:\tlearn: 0.4337456\ttotal: 14m 36s\tremaining: 22m 11s\n",
            "397:\tlearn: 0.4337089\ttotal: 14m 39s\tremaining: 22m 10s\n",
            "398:\tlearn: 0.4336997\ttotal: 14m 41s\tremaining: 22m 7s\n",
            "399:\tlearn: 0.4336805\ttotal: 14m 43s\tremaining: 22m 5s\n",
            "400:\tlearn: 0.4336541\ttotal: 14m 45s\tremaining: 22m 2s\n",
            "401:\tlearn: 0.4336260\ttotal: 14m 47s\tremaining: 22m\n",
            "402:\tlearn: 0.4336024\ttotal: 14m 49s\tremaining: 21m 57s\n",
            "403:\tlearn: 0.4335777\ttotal: 14m 51s\tremaining: 21m 55s\n",
            "404:\tlearn: 0.4335633\ttotal: 14m 53s\tremaining: 21m 53s\n",
            "405:\tlearn: 0.4335362\ttotal: 14m 55s\tremaining: 21m 50s\n",
            "406:\tlearn: 0.4335194\ttotal: 14m 57s\tremaining: 21m 47s\n",
            "407:\tlearn: 0.4334809\ttotal: 14m 59s\tremaining: 21m 45s\n",
            "408:\tlearn: 0.4334586\ttotal: 15m 1s\tremaining: 21m 42s\n",
            "409:\tlearn: 0.4334386\ttotal: 15m 4s\tremaining: 21m 40s\n",
            "410:\tlearn: 0.4334179\ttotal: 15m 6s\tremaining: 21m 38s\n",
            "411:\tlearn: 0.4333808\ttotal: 15m 8s\tremaining: 21m 36s\n",
            "412:\tlearn: 0.4333502\ttotal: 15m 11s\tremaining: 21m 35s\n",
            "413:\tlearn: 0.4333398\ttotal: 15m 13s\tremaining: 21m 32s\n",
            "414:\tlearn: 0.4332998\ttotal: 15m 16s\tremaining: 21m 31s\n",
            "415:\tlearn: 0.4332790\ttotal: 15m 18s\tremaining: 21m 28s\n",
            "416:\tlearn: 0.4332670\ttotal: 15m 20s\tremaining: 21m 26s\n",
            "417:\tlearn: 0.4332362\ttotal: 15m 22s\tremaining: 21m 24s\n",
            "418:\tlearn: 0.4332173\ttotal: 15m 25s\tremaining: 21m 22s\n",
            "419:\tlearn: 0.4331925\ttotal: 15m 27s\tremaining: 21m 20s\n",
            "420:\tlearn: 0.4331811\ttotal: 15m 29s\tremaining: 21m 18s\n",
            "421:\tlearn: 0.4331642\ttotal: 15m 31s\tremaining: 21m 15s\n",
            "422:\tlearn: 0.4331438\ttotal: 15m 33s\tremaining: 21m 13s\n",
            "423:\tlearn: 0.4331268\ttotal: 15m 36s\tremaining: 21m 11s\n",
            "424:\tlearn: 0.4331089\ttotal: 15m 38s\tremaining: 21m 10s\n",
            "425:\tlearn: 0.4330938\ttotal: 15m 41s\tremaining: 21m 8s\n",
            "426:\tlearn: 0.4330720\ttotal: 15m 43s\tremaining: 21m 5s\n",
            "427:\tlearn: 0.4330430\ttotal: 15m 45s\tremaining: 21m 3s\n",
            "428:\tlearn: 0.4330253\ttotal: 15m 47s\tremaining: 21m 1s\n",
            "429:\tlearn: 0.4330080\ttotal: 15m 49s\tremaining: 20m 58s\n",
            "430:\tlearn: 0.4329809\ttotal: 15m 52s\tremaining: 20m 57s\n",
            "431:\tlearn: 0.4329669\ttotal: 15m 54s\tremaining: 20m 54s\n",
            "432:\tlearn: 0.4329409\ttotal: 15m 56s\tremaining: 20m 51s\n",
            "433:\tlearn: 0.4329083\ttotal: 15m 58s\tremaining: 20m 50s\n",
            "434:\tlearn: 0.4328818\ttotal: 16m\tremaining: 20m 47s\n",
            "435:\tlearn: 0.4328630\ttotal: 16m 2s\tremaining: 20m 45s\n",
            "436:\tlearn: 0.4328416\ttotal: 16m 5s\tremaining: 20m 43s\n",
            "437:\tlearn: 0.4328179\ttotal: 16m 7s\tremaining: 20m 41s\n",
            "438:\tlearn: 0.4328004\ttotal: 16m 10s\tremaining: 20m 39s\n",
            "439:\tlearn: 0.4327919\ttotal: 16m 12s\tremaining: 20m 37s\n",
            "440:\tlearn: 0.4327693\ttotal: 16m 14s\tremaining: 20m 35s\n",
            "441:\tlearn: 0.4327569\ttotal: 16m 16s\tremaining: 20m 33s\n",
            "442:\tlearn: 0.4327265\ttotal: 16m 19s\tremaining: 20m 31s\n",
            "443:\tlearn: 0.4327160\ttotal: 16m 21s\tremaining: 20m 28s\n",
            "444:\tlearn: 0.4326988\ttotal: 16m 23s\tremaining: 20m 27s\n",
            "445:\tlearn: 0.4326825\ttotal: 16m 25s\tremaining: 20m 24s\n",
            "446:\tlearn: 0.4326654\ttotal: 16m 27s\tremaining: 20m 22s\n",
            "447:\tlearn: 0.4326487\ttotal: 16m 29s\tremaining: 20m 19s\n",
            "448:\tlearn: 0.4326325\ttotal: 16m 32s\tremaining: 20m 17s\n",
            "449:\tlearn: 0.4326007\ttotal: 16m 34s\tremaining: 20m 15s\n",
            "450:\tlearn: 0.4325723\ttotal: 16m 37s\tremaining: 20m 14s\n",
            "451:\tlearn: 0.4325444\ttotal: 16m 39s\tremaining: 20m 11s\n",
            "452:\tlearn: 0.4325315\ttotal: 16m 41s\tremaining: 20m 9s\n",
            "453:\tlearn: 0.4325158\ttotal: 16m 43s\tremaining: 20m 7s\n",
            "454:\tlearn: 0.4324912\ttotal: 16m 46s\tremaining: 20m 5s\n",
            "455:\tlearn: 0.4324764\ttotal: 16m 48s\tremaining: 20m 2s\n",
            "456:\tlearn: 0.4324553\ttotal: 16m 50s\tremaining: 20m\n",
            "457:\tlearn: 0.4324505\ttotal: 16m 53s\tremaining: 19m 58s\n",
            "458:\tlearn: 0.4324368\ttotal: 16m 55s\tremaining: 19m 56s\n",
            "459:\tlearn: 0.4324248\ttotal: 16m 57s\tremaining: 19m 54s\n",
            "460:\tlearn: 0.4324107\ttotal: 16m 59s\tremaining: 19m 51s\n",
            "461:\tlearn: 0.4323896\ttotal: 17m 1s\tremaining: 19m 49s\n",
            "462:\tlearn: 0.4323756\ttotal: 17m 3s\tremaining: 19m 46s\n",
            "463:\tlearn: 0.4323526\ttotal: 17m 5s\tremaining: 19m 44s\n",
            "464:\tlearn: 0.4323351\ttotal: 17m 7s\tremaining: 19m 42s\n",
            "465:\tlearn: 0.4323169\ttotal: 17m 9s\tremaining: 19m 40s\n",
            "466:\tlearn: 0.4322966\ttotal: 17m 12s\tremaining: 19m 38s\n",
            "467:\tlearn: 0.4322756\ttotal: 17m 14s\tremaining: 19m 35s\n",
            "468:\tlearn: 0.4322580\ttotal: 17m 17s\tremaining: 19m 34s\n",
            "469:\tlearn: 0.4322440\ttotal: 17m 19s\tremaining: 19m 31s\n",
            "470:\tlearn: 0.4322281\ttotal: 17m 21s\tremaining: 19m 29s\n",
            "471:\tlearn: 0.4322103\ttotal: 17m 23s\tremaining: 19m 27s\n",
            "472:\tlearn: 0.4321964\ttotal: 17m 25s\tremaining: 19m 25s\n",
            "473:\tlearn: 0.4321658\ttotal: 17m 28s\tremaining: 19m 23s\n",
            "474:\tlearn: 0.4321500\ttotal: 17m 30s\tremaining: 19m 21s\n",
            "475:\tlearn: 0.4321225\ttotal: 17m 33s\tremaining: 19m 19s\n",
            "476:\tlearn: 0.4320871\ttotal: 17m 36s\tremaining: 19m 18s\n",
            "477:\tlearn: 0.4320645\ttotal: 17m 38s\tremaining: 19m 16s\n",
            "478:\tlearn: 0.4320403\ttotal: 17m 40s\tremaining: 19m 13s\n",
            "479:\tlearn: 0.4320248\ttotal: 17m 43s\tremaining: 19m 11s\n",
            "480:\tlearn: 0.4320137\ttotal: 17m 45s\tremaining: 19m 9s\n",
            "481:\tlearn: 0.4319897\ttotal: 17m 47s\tremaining: 19m 7s\n",
            "482:\tlearn: 0.4319589\ttotal: 17m 50s\tremaining: 19m 5s\n",
            "483:\tlearn: 0.4319510\ttotal: 17m 51s\tremaining: 19m 2s\n",
            "484:\tlearn: 0.4319428\ttotal: 17m 54s\tremaining: 19m\n",
            "485:\tlearn: 0.4319124\ttotal: 17m 57s\tremaining: 18m 59s\n",
            "486:\tlearn: 0.4319066\ttotal: 17m 59s\tremaining: 18m 57s\n",
            "487:\tlearn: 0.4318864\ttotal: 18m 1s\tremaining: 18m 55s\n",
            "488:\tlearn: 0.4318572\ttotal: 18m 4s\tremaining: 18m 53s\n",
            "489:\tlearn: 0.4318411\ttotal: 18m 6s\tremaining: 18m 51s\n",
            "490:\tlearn: 0.4318157\ttotal: 18m 9s\tremaining: 18m 49s\n",
            "491:\tlearn: 0.4317980\ttotal: 18m 12s\tremaining: 18m 47s\n",
            "492:\tlearn: 0.4317695\ttotal: 18m 15s\tremaining: 18m 46s\n",
            "493:\tlearn: 0.4317519\ttotal: 18m 17s\tremaining: 18m 44s\n",
            "494:\tlearn: 0.4317237\ttotal: 18m 19s\tremaining: 18m 41s\n",
            "495:\tlearn: 0.4317004\ttotal: 18m 21s\tremaining: 18m 39s\n",
            "496:\tlearn: 0.4316872\ttotal: 18m 23s\tremaining: 18m 36s\n",
            "497:\tlearn: 0.4316736\ttotal: 18m 25s\tremaining: 18m 34s\n",
            "498:\tlearn: 0.4316540\ttotal: 18m 27s\tremaining: 18m 32s\n",
            "499:\tlearn: 0.4316404\ttotal: 18m 29s\tremaining: 18m 29s\n",
            "500:\tlearn: 0.4316228\ttotal: 18m 31s\tremaining: 18m 27s\n",
            "501:\tlearn: 0.4315919\ttotal: 18m 33s\tremaining: 18m 24s\n",
            "502:\tlearn: 0.4315677\ttotal: 18m 35s\tremaining: 18m 22s\n",
            "503:\tlearn: 0.4315407\ttotal: 18m 37s\tremaining: 18m 19s\n",
            "504:\tlearn: 0.4315150\ttotal: 18m 39s\tremaining: 18m 17s\n",
            "505:\tlearn: 0.4315032\ttotal: 18m 41s\tremaining: 18m 15s\n",
            "506:\tlearn: 0.4314918\ttotal: 18m 43s\tremaining: 18m 12s\n",
            "507:\tlearn: 0.4314731\ttotal: 18m 46s\tremaining: 18m 10s\n",
            "508:\tlearn: 0.4314313\ttotal: 18m 48s\tremaining: 18m 8s\n",
            "509:\tlearn: 0.4314222\ttotal: 18m 50s\tremaining: 18m 6s\n",
            "510:\tlearn: 0.4313956\ttotal: 18m 52s\tremaining: 18m 4s\n",
            "511:\tlearn: 0.4313614\ttotal: 18m 54s\tremaining: 18m 1s\n",
            "512:\tlearn: 0.4313326\ttotal: 18m 56s\tremaining: 17m 59s\n",
            "513:\tlearn: 0.4313231\ttotal: 18m 59s\tremaining: 17m 57s\n",
            "514:\tlearn: 0.4313079\ttotal: 19m 1s\tremaining: 17m 54s\n",
            "515:\tlearn: 0.4312746\ttotal: 19m 4s\tremaining: 17m 53s\n",
            "516:\tlearn: 0.4312484\ttotal: 19m 5s\tremaining: 17m 50s\n",
            "517:\tlearn: 0.4312142\ttotal: 19m 8s\tremaining: 17m 48s\n",
            "518:\tlearn: 0.4312047\ttotal: 19m 10s\tremaining: 17m 46s\n",
            "519:\tlearn: 0.4311883\ttotal: 19m 12s\tremaining: 17m 43s\n",
            "520:\tlearn: 0.4311727\ttotal: 19m 13s\tremaining: 17m 40s\n",
            "521:\tlearn: 0.4311574\ttotal: 19m 16s\tremaining: 17m 38s\n",
            "522:\tlearn: 0.4311366\ttotal: 19m 17s\tremaining: 17m 36s\n",
            "523:\tlearn: 0.4311078\ttotal: 19m 20s\tremaining: 17m 34s\n",
            "524:\tlearn: 0.4311008\ttotal: 19m 22s\tremaining: 17m 31s\n",
            "525:\tlearn: 0.4310848\ttotal: 19m 24s\tremaining: 17m 29s\n",
            "526:\tlearn: 0.4310632\ttotal: 19m 26s\tremaining: 17m 27s\n",
            "527:\tlearn: 0.4310503\ttotal: 19m 28s\tremaining: 17m 24s\n",
            "528:\tlearn: 0.4310386\ttotal: 19m 31s\tremaining: 17m 22s\n",
            "529:\tlearn: 0.4310212\ttotal: 19m 33s\tremaining: 17m 20s\n",
            "530:\tlearn: 0.4310038\ttotal: 19m 35s\tremaining: 17m 17s\n",
            "531:\tlearn: 0.4309828\ttotal: 19m 37s\tremaining: 17m 15s\n",
            "532:\tlearn: 0.4309684\ttotal: 19m 39s\tremaining: 17m 13s\n",
            "533:\tlearn: 0.4309493\ttotal: 19m 41s\tremaining: 17m 11s\n",
            "534:\tlearn: 0.4309392\ttotal: 19m 43s\tremaining: 17m 8s\n",
            "535:\tlearn: 0.4309335\ttotal: 19m 45s\tremaining: 17m 6s\n",
            "536:\tlearn: 0.4309099\ttotal: 19m 47s\tremaining: 17m 3s\n",
            "537:\tlearn: 0.4308945\ttotal: 19m 49s\tremaining: 17m 1s\n",
            "538:\tlearn: 0.4308813\ttotal: 19m 51s\tremaining: 16m 59s\n",
            "539:\tlearn: 0.4308674\ttotal: 19m 54s\tremaining: 16m 57s\n",
            "540:\tlearn: 0.4308552\ttotal: 19m 56s\tremaining: 16m 55s\n",
            "541:\tlearn: 0.4308422\ttotal: 19m 58s\tremaining: 16m 52s\n",
            "542:\tlearn: 0.4308243\ttotal: 20m\tremaining: 16m 50s\n",
            "543:\tlearn: 0.4308105\ttotal: 20m 3s\tremaining: 16m 48s\n",
            "544:\tlearn: 0.4307960\ttotal: 20m 5s\tremaining: 16m 46s\n",
            "545:\tlearn: 0.4307688\ttotal: 20m 7s\tremaining: 16m 44s\n",
            "546:\tlearn: 0.4307564\ttotal: 20m 9s\tremaining: 16m 42s\n",
            "547:\tlearn: 0.4307467\ttotal: 20m 12s\tremaining: 16m 39s\n",
            "548:\tlearn: 0.4307232\ttotal: 20m 14s\tremaining: 16m 37s\n",
            "549:\tlearn: 0.4307163\ttotal: 20m 16s\tremaining: 16m 35s\n",
            "550:\tlearn: 0.4306990\ttotal: 20m 18s\tremaining: 16m 33s\n",
            "551:\tlearn: 0.4306809\ttotal: 20m 20s\tremaining: 16m 30s\n",
            "552:\tlearn: 0.4306594\ttotal: 20m 22s\tremaining: 16m 28s\n",
            "553:\tlearn: 0.4306322\ttotal: 20m 24s\tremaining: 16m 25s\n",
            "554:\tlearn: 0.4306009\ttotal: 20m 27s\tremaining: 16m 23s\n",
            "555:\tlearn: 0.4305844\ttotal: 20m 28s\tremaining: 16m 21s\n",
            "556:\tlearn: 0.4305725\ttotal: 20m 30s\tremaining: 16m 18s\n",
            "557:\tlearn: 0.4305639\ttotal: 20m 32s\tremaining: 16m 16s\n",
            "558:\tlearn: 0.4305586\ttotal: 20m 34s\tremaining: 16m 14s\n",
            "559:\tlearn: 0.4305470\ttotal: 20m 36s\tremaining: 16m 11s\n",
            "560:\tlearn: 0.4305316\ttotal: 20m 39s\tremaining: 16m 9s\n",
            "561:\tlearn: 0.4305130\ttotal: 20m 41s\tremaining: 16m 7s\n",
            "562:\tlearn: 0.4304916\ttotal: 20m 43s\tremaining: 16m 4s\n",
            "563:\tlearn: 0.4304821\ttotal: 20m 45s\tremaining: 16m 2s\n",
            "564:\tlearn: 0.4304544\ttotal: 20m 47s\tremaining: 16m\n",
            "565:\tlearn: 0.4304339\ttotal: 20m 49s\tremaining: 15m 58s\n",
            "566:\tlearn: 0.4304186\ttotal: 20m 52s\tremaining: 15m 56s\n",
            "567:\tlearn: 0.4304081\ttotal: 20m 54s\tremaining: 15m 53s\n",
            "568:\tlearn: 0.4303928\ttotal: 20m 56s\tremaining: 15m 51s\n",
            "569:\tlearn: 0.4303822\ttotal: 20m 58s\tremaining: 15m 49s\n",
            "570:\tlearn: 0.4303612\ttotal: 21m\tremaining: 15m 46s\n",
            "571:\tlearn: 0.4303488\ttotal: 21m 2s\tremaining: 15m 44s\n",
            "572:\tlearn: 0.4303278\ttotal: 21m 3s\tremaining: 15m 41s\n",
            "573:\tlearn: 0.4303018\ttotal: 21m 6s\tremaining: 15m 39s\n",
            "574:\tlearn: 0.4302912\ttotal: 21m 7s\tremaining: 15m 37s\n",
            "575:\tlearn: 0.4302746\ttotal: 21m 9s\tremaining: 15m 34s\n",
            "576:\tlearn: 0.4302529\ttotal: 21m 11s\tremaining: 15m 32s\n",
            "577:\tlearn: 0.4302364\ttotal: 21m 14s\tremaining: 15m 30s\n",
            "578:\tlearn: 0.4302142\ttotal: 21m 16s\tremaining: 15m 28s\n",
            "579:\tlearn: 0.4301955\ttotal: 21m 19s\tremaining: 15m 26s\n",
            "580:\tlearn: 0.4301793\ttotal: 21m 21s\tremaining: 15m 23s\n",
            "581:\tlearn: 0.4301678\ttotal: 21m 23s\tremaining: 15m 21s\n",
            "582:\tlearn: 0.4301468\ttotal: 21m 26s\tremaining: 15m 20s\n",
            "583:\tlearn: 0.4301328\ttotal: 21m 28s\tremaining: 15m 17s\n",
            "584:\tlearn: 0.4301037\ttotal: 21m 30s\tremaining: 15m 15s\n",
            "585:\tlearn: 0.4300812\ttotal: 21m 33s\tremaining: 15m 13s\n",
            "586:\tlearn: 0.4300618\ttotal: 21m 35s\tremaining: 15m 11s\n",
            "587:\tlearn: 0.4300494\ttotal: 21m 38s\tremaining: 15m 9s\n",
            "588:\tlearn: 0.4300438\ttotal: 21m 40s\tremaining: 15m 7s\n",
            "589:\tlearn: 0.4300298\ttotal: 21m 42s\tremaining: 15m 5s\n",
            "590:\tlearn: 0.4300129\ttotal: 21m 45s\tremaining: 15m 3s\n",
            "591:\tlearn: 0.4299952\ttotal: 21m 47s\tremaining: 15m 1s\n",
            "592:\tlearn: 0.4299698\ttotal: 21m 49s\tremaining: 14m 59s\n",
            "593:\tlearn: 0.4299471\ttotal: 21m 51s\tremaining: 14m 56s\n",
            "594:\tlearn: 0.4299290\ttotal: 21m 54s\tremaining: 14m 54s\n",
            "595:\tlearn: 0.4299194\ttotal: 21m 56s\tremaining: 14m 52s\n",
            "596:\tlearn: 0.4298943\ttotal: 21m 58s\tremaining: 14m 50s\n",
            "597:\tlearn: 0.4298797\ttotal: 22m\tremaining: 14m 47s\n",
            "598:\tlearn: 0.4298616\ttotal: 22m 2s\tremaining: 14m 45s\n",
            "599:\tlearn: 0.4298529\ttotal: 22m 4s\tremaining: 14m 43s\n",
            "600:\tlearn: 0.4298320\ttotal: 22m 6s\tremaining: 14m 40s\n",
            "601:\tlearn: 0.4298111\ttotal: 22m 9s\tremaining: 14m 38s\n",
            "602:\tlearn: 0.4297950\ttotal: 22m 10s\tremaining: 14m 36s\n",
            "603:\tlearn: 0.4297831\ttotal: 22m 13s\tremaining: 14m 34s\n",
            "604:\tlearn: 0.4297545\ttotal: 22m 15s\tremaining: 14m 31s\n",
            "605:\tlearn: 0.4297340\ttotal: 22m 18s\tremaining: 14m 30s\n",
            "606:\tlearn: 0.4297115\ttotal: 22m 20s\tremaining: 14m 27s\n",
            "607:\tlearn: 0.4296974\ttotal: 22m 22s\tremaining: 14m 25s\n",
            "608:\tlearn: 0.4296819\ttotal: 22m 25s\tremaining: 14m 23s\n",
            "609:\tlearn: 0.4296655\ttotal: 22m 27s\tremaining: 14m 21s\n",
            "610:\tlearn: 0.4296462\ttotal: 22m 29s\tremaining: 14m 19s\n",
            "611:\tlearn: 0.4296341\ttotal: 22m 31s\tremaining: 14m 17s\n",
            "612:\tlearn: 0.4296104\ttotal: 22m 34s\tremaining: 14m 14s\n",
            "613:\tlearn: 0.4295989\ttotal: 22m 36s\tremaining: 14m 12s\n",
            "614:\tlearn: 0.4295791\ttotal: 22m 38s\tremaining: 14m 10s\n",
            "615:\tlearn: 0.4295644\ttotal: 22m 40s\tremaining: 14m 8s\n",
            "616:\tlearn: 0.4295504\ttotal: 22m 42s\tremaining: 14m 5s\n",
            "617:\tlearn: 0.4295333\ttotal: 22m 44s\tremaining: 14m 3s\n",
            "618:\tlearn: 0.4295122\ttotal: 22m 46s\tremaining: 14m 1s\n",
            "619:\tlearn: 0.4294825\ttotal: 22m 49s\tremaining: 13m 59s\n",
            "620:\tlearn: 0.4294720\ttotal: 22m 51s\tremaining: 13m 57s\n",
            "621:\tlearn: 0.4294644\ttotal: 22m 53s\tremaining: 13m 54s\n",
            "622:\tlearn: 0.4294525\ttotal: 22m 56s\tremaining: 13m 52s\n",
            "623:\tlearn: 0.4294404\ttotal: 22m 58s\tremaining: 13m 50s\n",
            "624:\tlearn: 0.4294113\ttotal: 23m\tremaining: 13m 48s\n",
            "625:\tlearn: 0.4293978\ttotal: 23m 2s\tremaining: 13m 46s\n",
            "626:\tlearn: 0.4293820\ttotal: 23m 5s\tremaining: 13m 44s\n",
            "627:\tlearn: 0.4293680\ttotal: 23m 7s\tremaining: 13m 42s\n",
            "628:\tlearn: 0.4293586\ttotal: 23m 10s\tremaining: 13m 39s\n",
            "629:\tlearn: 0.4293490\ttotal: 23m 12s\tremaining: 13m 37s\n",
            "630:\tlearn: 0.4293261\ttotal: 23m 14s\tremaining: 13m 35s\n",
            "631:\tlearn: 0.4293119\ttotal: 23m 16s\tremaining: 13m 33s\n",
            "632:\tlearn: 0.4292923\ttotal: 23m 18s\tremaining: 13m 30s\n",
            "633:\tlearn: 0.4292679\ttotal: 23m 20s\tremaining: 13m 28s\n",
            "634:\tlearn: 0.4292556\ttotal: 23m 22s\tremaining: 13m 26s\n",
            "635:\tlearn: 0.4292374\ttotal: 23m 24s\tremaining: 13m 23s\n",
            "636:\tlearn: 0.4292229\ttotal: 23m 26s\tremaining: 13m 21s\n",
            "637:\tlearn: 0.4292117\ttotal: 23m 28s\tremaining: 13m 19s\n",
            "638:\tlearn: 0.4291986\ttotal: 23m 30s\tremaining: 13m 16s\n",
            "639:\tlearn: 0.4291788\ttotal: 23m 32s\tremaining: 13m 14s\n",
            "640:\tlearn: 0.4291607\ttotal: 23m 35s\tremaining: 13m 12s\n",
            "641:\tlearn: 0.4291475\ttotal: 23m 37s\tremaining: 13m 10s\n",
            "642:\tlearn: 0.4291299\ttotal: 23m 39s\tremaining: 13m 8s\n",
            "643:\tlearn: 0.4291091\ttotal: 23m 42s\tremaining: 13m 6s\n",
            "644:\tlearn: 0.4290734\ttotal: 23m 45s\tremaining: 13m 4s\n",
            "645:\tlearn: 0.4290598\ttotal: 23m 47s\tremaining: 13m 2s\n",
            "646:\tlearn: 0.4290439\ttotal: 23m 49s\tremaining: 12m 59s\n",
            "647:\tlearn: 0.4290209\ttotal: 23m 51s\tremaining: 12m 57s\n",
            "648:\tlearn: 0.4290125\ttotal: 23m 53s\tremaining: 12m 55s\n",
            "649:\tlearn: 0.4289896\ttotal: 23m 56s\tremaining: 12m 53s\n",
            "650:\tlearn: 0.4289728\ttotal: 23m 58s\tremaining: 12m 51s\n",
            "651:\tlearn: 0.4289667\ttotal: 24m\tremaining: 12m 48s\n",
            "652:\tlearn: 0.4289533\ttotal: 24m 2s\tremaining: 12m 46s\n",
            "653:\tlearn: 0.4289339\ttotal: 24m 4s\tremaining: 12m 44s\n",
            "654:\tlearn: 0.4289269\ttotal: 24m 6s\tremaining: 12m 42s\n",
            "655:\tlearn: 0.4289133\ttotal: 24m 8s\tremaining: 12m 39s\n",
            "656:\tlearn: 0.4289003\ttotal: 24m 11s\tremaining: 12m 37s\n",
            "657:\tlearn: 0.4288896\ttotal: 24m 13s\tremaining: 12m 35s\n",
            "658:\tlearn: 0.4288769\ttotal: 24m 15s\tremaining: 12m 33s\n",
            "659:\tlearn: 0.4288654\ttotal: 24m 18s\tremaining: 12m 31s\n",
            "660:\tlearn: 0.4288451\ttotal: 24m 20s\tremaining: 12m 29s\n",
            "661:\tlearn: 0.4288389\ttotal: 24m 23s\tremaining: 12m 27s\n",
            "662:\tlearn: 0.4288216\ttotal: 24m 25s\tremaining: 12m 24s\n",
            "663:\tlearn: 0.4288072\ttotal: 24m 27s\tremaining: 12m 22s\n",
            "664:\tlearn: 0.4287990\ttotal: 24m 29s\tremaining: 12m 20s\n",
            "665:\tlearn: 0.4287931\ttotal: 24m 31s\tremaining: 12m 17s\n",
            "666:\tlearn: 0.4287863\ttotal: 24m 33s\tremaining: 12m 15s\n",
            "667:\tlearn: 0.4287709\ttotal: 24m 35s\tremaining: 12m 13s\n",
            "668:\tlearn: 0.4287534\ttotal: 24m 37s\tremaining: 12m 11s\n",
            "669:\tlearn: 0.4287421\ttotal: 24m 40s\tremaining: 12m 9s\n",
            "670:\tlearn: 0.4287395\ttotal: 24m 41s\tremaining: 12m 6s\n",
            "671:\tlearn: 0.4287287\ttotal: 24m 43s\tremaining: 12m 4s\n",
            "672:\tlearn: 0.4287005\ttotal: 24m 46s\tremaining: 12m 2s\n",
            "673:\tlearn: 0.4286865\ttotal: 24m 48s\tremaining: 11m 59s\n",
            "674:\tlearn: 0.4286647\ttotal: 24m 50s\tremaining: 11m 57s\n",
            "675:\tlearn: 0.4286527\ttotal: 24m 52s\tremaining: 11m 55s\n",
            "676:\tlearn: 0.4286378\ttotal: 24m 55s\tremaining: 11m 53s\n",
            "677:\tlearn: 0.4286334\ttotal: 24m 56s\tremaining: 11m 50s\n",
            "678:\tlearn: 0.4286133\ttotal: 24m 58s\tremaining: 11m 48s\n",
            "679:\tlearn: 0.4285938\ttotal: 25m 1s\tremaining: 11m 46s\n",
            "680:\tlearn: 0.4285819\ttotal: 25m 2s\tremaining: 11m 44s\n",
            "681:\tlearn: 0.4285731\ttotal: 25m 5s\tremaining: 11m 41s\n",
            "682:\tlearn: 0.4285512\ttotal: 25m 7s\tremaining: 11m 39s\n",
            "683:\tlearn: 0.4285417\ttotal: 25m 9s\tremaining: 11m 37s\n",
            "684:\tlearn: 0.4285284\ttotal: 25m 11s\tremaining: 11m 35s\n",
            "685:\tlearn: 0.4284861\ttotal: 25m 13s\tremaining: 11m 32s\n",
            "686:\tlearn: 0.4284672\ttotal: 25m 16s\tremaining: 11m 30s\n",
            "687:\tlearn: 0.4284550\ttotal: 25m 18s\tremaining: 11m 28s\n",
            "688:\tlearn: 0.4284345\ttotal: 25m 20s\tremaining: 11m 26s\n",
            "689:\tlearn: 0.4284199\ttotal: 25m 22s\tremaining: 11m 24s\n",
            "690:\tlearn: 0.4284012\ttotal: 25m 24s\tremaining: 11m 21s\n",
            "691:\tlearn: 0.4283905\ttotal: 25m 26s\tremaining: 11m 19s\n",
            "692:\tlearn: 0.4283819\ttotal: 25m 28s\tremaining: 11m 17s\n",
            "693:\tlearn: 0.4283551\ttotal: 25m 31s\tremaining: 11m 15s\n",
            "694:\tlearn: 0.4283386\ttotal: 25m 33s\tremaining: 11m 12s\n",
            "695:\tlearn: 0.4283237\ttotal: 25m 35s\tremaining: 11m 10s\n",
            "696:\tlearn: 0.4283202\ttotal: 25m 37s\tremaining: 11m 8s\n",
            "697:\tlearn: 0.4282997\ttotal: 25m 39s\tremaining: 11m 6s\n",
            "698:\tlearn: 0.4282834\ttotal: 25m 42s\tremaining: 11m 4s\n",
            "699:\tlearn: 0.4282783\ttotal: 25m 44s\tremaining: 11m 1s\n",
            "700:\tlearn: 0.4282507\ttotal: 25m 46s\tremaining: 10m 59s\n",
            "701:\tlearn: 0.4282376\ttotal: 25m 49s\tremaining: 10m 57s\n",
            "702:\tlearn: 0.4282248\ttotal: 25m 51s\tremaining: 10m 55s\n",
            "703:\tlearn: 0.4281998\ttotal: 25m 54s\tremaining: 10m 53s\n",
            "704:\tlearn: 0.4281836\ttotal: 25m 56s\tremaining: 10m 51s\n",
            "705:\tlearn: 0.4281602\ttotal: 25m 58s\tremaining: 10m 49s\n",
            "706:\tlearn: 0.4281428\ttotal: 26m 1s\tremaining: 10m 46s\n",
            "707:\tlearn: 0.4281330\ttotal: 26m 3s\tremaining: 10m 44s\n",
            "708:\tlearn: 0.4281196\ttotal: 26m 5s\tremaining: 10m 42s\n",
            "709:\tlearn: 0.4281033\ttotal: 26m 7s\tremaining: 10m 40s\n",
            "710:\tlearn: 0.4280957\ttotal: 26m 9s\tremaining: 10m 38s\n",
            "711:\tlearn: 0.4280910\ttotal: 26m 11s\tremaining: 10m 35s\n",
            "712:\tlearn: 0.4280809\ttotal: 26m 13s\tremaining: 10m 33s\n",
            "713:\tlearn: 0.4280732\ttotal: 26m 16s\tremaining: 10m 31s\n",
            "714:\tlearn: 0.4280564\ttotal: 26m 18s\tremaining: 10m 29s\n",
            "715:\tlearn: 0.4280492\ttotal: 26m 20s\tremaining: 10m 27s\n",
            "716:\tlearn: 0.4280352\ttotal: 26m 23s\tremaining: 10m 24s\n",
            "717:\tlearn: 0.4280271\ttotal: 26m 25s\tremaining: 10m 22s\n",
            "718:\tlearn: 0.4280117\ttotal: 26m 27s\tremaining: 10m 20s\n",
            "719:\tlearn: 0.4279954\ttotal: 26m 30s\tremaining: 10m 18s\n",
            "720:\tlearn: 0.4279867\ttotal: 26m 32s\tremaining: 10m 16s\n",
            "721:\tlearn: 0.4279672\ttotal: 26m 34s\tremaining: 10m 13s\n",
            "722:\tlearn: 0.4279473\ttotal: 26m 36s\tremaining: 10m 11s\n",
            "723:\tlearn: 0.4279299\ttotal: 26m 38s\tremaining: 10m 9s\n",
            "724:\tlearn: 0.4279095\ttotal: 26m 40s\tremaining: 10m 7s\n",
            "725:\tlearn: 0.4279035\ttotal: 26m 42s\tremaining: 10m 4s\n",
            "726:\tlearn: 0.4278945\ttotal: 26m 44s\tremaining: 10m 2s\n",
            "727:\tlearn: 0.4278804\ttotal: 26m 47s\tremaining: 10m\n",
            "728:\tlearn: 0.4278676\ttotal: 26m 49s\tremaining: 9m 58s\n",
            "729:\tlearn: 0.4278563\ttotal: 26m 51s\tremaining: 9m 56s\n",
            "730:\tlearn: 0.4278423\ttotal: 26m 54s\tremaining: 9m 54s\n",
            "731:\tlearn: 0.4278353\ttotal: 26m 56s\tremaining: 9m 51s\n",
            "732:\tlearn: 0.4278230\ttotal: 26m 58s\tremaining: 9m 49s\n",
            "733:\tlearn: 0.4278165\ttotal: 27m\tremaining: 9m 47s\n",
            "734:\tlearn: 0.4278004\ttotal: 27m 2s\tremaining: 9m 45s\n",
            "735:\tlearn: 0.4277867\ttotal: 27m 5s\tremaining: 9m 43s\n",
            "736:\tlearn: 0.4277671\ttotal: 27m 7s\tremaining: 9m 40s\n",
            "737:\tlearn: 0.4277474\ttotal: 27m 10s\tremaining: 9m 38s\n",
            "738:\tlearn: 0.4277226\ttotal: 27m 12s\tremaining: 9m 36s\n",
            "739:\tlearn: 0.4277001\ttotal: 27m 15s\tremaining: 9m 34s\n",
            "740:\tlearn: 0.4276861\ttotal: 27m 17s\tremaining: 9m 32s\n",
            "741:\tlearn: 0.4276614\ttotal: 27m 20s\tremaining: 9m 30s\n",
            "742:\tlearn: 0.4276470\ttotal: 27m 22s\tremaining: 9m 28s\n",
            "743:\tlearn: 0.4276354\ttotal: 27m 24s\tremaining: 9m 25s\n",
            "744:\tlearn: 0.4276282\ttotal: 27m 27s\tremaining: 9m 23s\n",
            "745:\tlearn: 0.4276213\ttotal: 27m 29s\tremaining: 9m 21s\n",
            "746:\tlearn: 0.4276135\ttotal: 27m 31s\tremaining: 9m 19s\n",
            "747:\tlearn: 0.4275942\ttotal: 27m 34s\tremaining: 9m 17s\n",
            "748:\tlearn: 0.4275823\ttotal: 27m 36s\tremaining: 9m 15s\n",
            "749:\tlearn: 0.4275566\ttotal: 27m 39s\tremaining: 9m 13s\n",
            "750:\tlearn: 0.4275502\ttotal: 27m 41s\tremaining: 9m 10s\n",
            "751:\tlearn: 0.4275365\ttotal: 27m 43s\tremaining: 9m 8s\n",
            "752:\tlearn: 0.4275239\ttotal: 27m 45s\tremaining: 9m 6s\n",
            "753:\tlearn: 0.4275105\ttotal: 27m 48s\tremaining: 9m 4s\n",
            "754:\tlearn: 0.4274900\ttotal: 27m 50s\tremaining: 9m 2s\n",
            "755:\tlearn: 0.4274734\ttotal: 27m 52s\tremaining: 8m 59s\n",
            "756:\tlearn: 0.4274643\ttotal: 27m 55s\tremaining: 8m 57s\n",
            "757:\tlearn: 0.4274442\ttotal: 27m 57s\tremaining: 8m 55s\n",
            "758:\tlearn: 0.4274368\ttotal: 28m\tremaining: 8m 53s\n",
            "759:\tlearn: 0.4274206\ttotal: 28m 2s\tremaining: 8m 51s\n",
            "760:\tlearn: 0.4274060\ttotal: 28m 5s\tremaining: 8m 49s\n",
            "761:\tlearn: 0.4273846\ttotal: 28m 7s\tremaining: 8m 47s\n",
            "762:\tlearn: 0.4273697\ttotal: 28m 9s\tremaining: 8m 44s\n",
            "763:\tlearn: 0.4273648\ttotal: 28m 12s\tremaining: 8m 42s\n",
            "764:\tlearn: 0.4273438\ttotal: 28m 14s\tremaining: 8m 40s\n",
            "765:\tlearn: 0.4273285\ttotal: 28m 17s\tremaining: 8m 38s\n",
            "766:\tlearn: 0.4273208\ttotal: 28m 18s\tremaining: 8m 36s\n",
            "767:\tlearn: 0.4273123\ttotal: 28m 21s\tremaining: 8m 33s\n",
            "768:\tlearn: 0.4273027\ttotal: 28m 23s\tremaining: 8m 31s\n",
            "769:\tlearn: 0.4272870\ttotal: 28m 25s\tremaining: 8m 29s\n",
            "770:\tlearn: 0.4272754\ttotal: 28m 27s\tremaining: 8m 27s\n",
            "771:\tlearn: 0.4272696\ttotal: 28m 29s\tremaining: 8m 24s\n",
            "772:\tlearn: 0.4272642\ttotal: 28m 30s\tremaining: 8m 22s\n",
            "773:\tlearn: 0.4272582\ttotal: 28m 32s\tremaining: 8m 20s\n",
            "774:\tlearn: 0.4272462\ttotal: 28m 34s\tremaining: 8m 17s\n",
            "775:\tlearn: 0.4272294\ttotal: 28m 37s\tremaining: 8m 15s\n",
            "776:\tlearn: 0.4272103\ttotal: 28m 39s\tremaining: 8m 13s\n",
            "777:\tlearn: 0.4272040\ttotal: 28m 41s\tremaining: 8m 11s\n",
            "778:\tlearn: 0.4271894\ttotal: 28m 43s\tremaining: 8m 8s\n",
            "779:\tlearn: 0.4271754\ttotal: 28m 45s\tremaining: 8m 6s\n",
            "780:\tlearn: 0.4271630\ttotal: 28m 47s\tremaining: 8m 4s\n",
            "781:\tlearn: 0.4271352\ttotal: 28m 49s\tremaining: 8m 2s\n",
            "782:\tlearn: 0.4271222\ttotal: 28m 51s\tremaining: 7m 59s\n",
            "783:\tlearn: 0.4271081\ttotal: 28m 53s\tremaining: 7m 57s\n",
            "784:\tlearn: 0.4270987\ttotal: 28m 55s\tremaining: 7m 55s\n",
            "785:\tlearn: 0.4270875\ttotal: 28m 58s\tremaining: 7m 53s\n",
            "786:\tlearn: 0.4270786\ttotal: 28m 59s\tremaining: 7m 50s\n",
            "787:\tlearn: 0.4270642\ttotal: 29m 2s\tremaining: 7m 48s\n",
            "788:\tlearn: 0.4270516\ttotal: 29m 4s\tremaining: 7m 46s\n",
            "789:\tlearn: 0.4270419\ttotal: 29m 6s\tremaining: 7m 44s\n",
            "790:\tlearn: 0.4270300\ttotal: 29m 8s\tremaining: 7m 41s\n",
            "791:\tlearn: 0.4270255\ttotal: 29m 9s\tremaining: 7m 39s\n",
            "792:\tlearn: 0.4269920\ttotal: 29m 12s\tremaining: 7m 37s\n",
            "793:\tlearn: 0.4269869\ttotal: 29m 14s\tremaining: 7m 35s\n",
            "794:\tlearn: 0.4269656\ttotal: 29m 16s\tremaining: 7m 32s\n",
            "795:\tlearn: 0.4269521\ttotal: 29m 18s\tremaining: 7m 30s\n",
            "796:\tlearn: 0.4269386\ttotal: 29m 20s\tremaining: 7m 28s\n",
            "797:\tlearn: 0.4269256\ttotal: 29m 23s\tremaining: 7m 26s\n",
            "798:\tlearn: 0.4269162\ttotal: 29m 25s\tremaining: 7m 24s\n",
            "799:\tlearn: 0.4268989\ttotal: 29m 26s\tremaining: 7m 21s\n",
            "800:\tlearn: 0.4268699\ttotal: 29m 29s\tremaining: 7m 19s\n",
            "801:\tlearn: 0.4268584\ttotal: 29m 31s\tremaining: 7m 17s\n",
            "802:\tlearn: 0.4268376\ttotal: 29m 34s\tremaining: 7m 15s\n",
            "803:\tlearn: 0.4268133\ttotal: 29m 36s\tremaining: 7m 12s\n",
            "804:\tlearn: 0.4268027\ttotal: 29m 37s\tremaining: 7m 10s\n",
            "805:\tlearn: 0.4267848\ttotal: 29m 40s\tremaining: 7m 8s\n",
            "806:\tlearn: 0.4267742\ttotal: 29m 43s\tremaining: 7m 6s\n",
            "807:\tlearn: 0.4267628\ttotal: 29m 44s\tremaining: 7m 4s\n",
            "808:\tlearn: 0.4267464\ttotal: 29m 47s\tremaining: 7m 2s\n",
            "809:\tlearn: 0.4267303\ttotal: 29m 49s\tremaining: 6m 59s\n",
            "810:\tlearn: 0.4267134\ttotal: 29m 52s\tremaining: 6m 57s\n",
            "811:\tlearn: 0.4267077\ttotal: 29m 54s\tremaining: 6m 55s\n",
            "812:\tlearn: 0.4266974\ttotal: 29m 56s\tremaining: 6m 53s\n",
            "813:\tlearn: 0.4266876\ttotal: 29m 58s\tremaining: 6m 51s\n",
            "814:\tlearn: 0.4266810\ttotal: 30m\tremaining: 6m 48s\n",
            "815:\tlearn: 0.4266743\ttotal: 30m 2s\tremaining: 6m 46s\n",
            "816:\tlearn: 0.4266442\ttotal: 30m 5s\tremaining: 6m 44s\n",
            "817:\tlearn: 0.4266330\ttotal: 30m 7s\tremaining: 6m 42s\n",
            "818:\tlearn: 0.4266191\ttotal: 30m 9s\tremaining: 6m 39s\n",
            "819:\tlearn: 0.4266122\ttotal: 30m 11s\tremaining: 6m 37s\n",
            "820:\tlearn: 0.4265986\ttotal: 30m 14s\tremaining: 6m 35s\n",
            "821:\tlearn: 0.4265872\ttotal: 30m 16s\tremaining: 6m 33s\n",
            "822:\tlearn: 0.4265731\ttotal: 30m 18s\tremaining: 6m 31s\n",
            "823:\tlearn: 0.4265618\ttotal: 30m 20s\tremaining: 6m 28s\n",
            "824:\tlearn: 0.4265519\ttotal: 30m 23s\tremaining: 6m 26s\n",
            "825:\tlearn: 0.4265366\ttotal: 30m 25s\tremaining: 6m 24s\n",
            "826:\tlearn: 0.4265254\ttotal: 30m 27s\tremaining: 6m 22s\n",
            "827:\tlearn: 0.4265129\ttotal: 30m 29s\tremaining: 6m 20s\n",
            "828:\tlearn: 0.4265030\ttotal: 30m 31s\tremaining: 6m 17s\n",
            "829:\tlearn: 0.4264881\ttotal: 30m 34s\tremaining: 6m 15s\n",
            "830:\tlearn: 0.4264740\ttotal: 30m 36s\tremaining: 6m 13s\n",
            "831:\tlearn: 0.4264591\ttotal: 30m 38s\tremaining: 6m 11s\n",
            "832:\tlearn: 0.4264466\ttotal: 30m 40s\tremaining: 6m 9s\n",
            "833:\tlearn: 0.4264351\ttotal: 30m 43s\tremaining: 6m 6s\n",
            "834:\tlearn: 0.4264236\ttotal: 30m 45s\tremaining: 6m 4s\n",
            "835:\tlearn: 0.4264151\ttotal: 30m 46s\tremaining: 6m 2s\n",
            "836:\tlearn: 0.4264012\ttotal: 30m 49s\tremaining: 6m\n",
            "837:\tlearn: 0.4263958\ttotal: 30m 51s\tremaining: 5m 58s\n",
            "838:\tlearn: 0.4263776\ttotal: 30m 54s\tremaining: 5m 55s\n",
            "839:\tlearn: 0.4263701\ttotal: 30m 56s\tremaining: 5m 53s\n",
            "840:\tlearn: 0.4263589\ttotal: 30m 59s\tremaining: 5m 51s\n",
            "841:\tlearn: 0.4263385\ttotal: 31m 2s\tremaining: 5m 49s\n",
            "842:\tlearn: 0.4263232\ttotal: 31m 4s\tremaining: 5m 47s\n",
            "843:\tlearn: 0.4263120\ttotal: 31m 7s\tremaining: 5m 45s\n",
            "844:\tlearn: 0.4263007\ttotal: 31m 9s\tremaining: 5m 42s\n",
            "845:\tlearn: 0.4262843\ttotal: 31m 11s\tremaining: 5m 40s\n",
            "846:\tlearn: 0.4262730\ttotal: 31m 14s\tremaining: 5m 38s\n",
            "847:\tlearn: 0.4262602\ttotal: 31m 16s\tremaining: 5m 36s\n",
            "848:\tlearn: 0.4262544\ttotal: 31m 18s\tremaining: 5m 34s\n",
            "849:\tlearn: 0.4262348\ttotal: 31m 21s\tremaining: 5m 31s\n",
            "850:\tlearn: 0.4262125\ttotal: 31m 23s\tremaining: 5m 29s\n",
            "851:\tlearn: 0.4262028\ttotal: 31m 25s\tremaining: 5m 27s\n",
            "852:\tlearn: 0.4261919\ttotal: 31m 28s\tremaining: 5m 25s\n",
            "853:\tlearn: 0.4261872\ttotal: 31m 30s\tremaining: 5m 23s\n",
            "854:\tlearn: 0.4261814\ttotal: 31m 32s\tremaining: 5m 20s\n",
            "855:\tlearn: 0.4261710\ttotal: 31m 34s\tremaining: 5m 18s\n",
            "856:\tlearn: 0.4261499\ttotal: 31m 36s\tremaining: 5m 16s\n",
            "857:\tlearn: 0.4261421\ttotal: 31m 38s\tremaining: 5m 14s\n",
            "858:\tlearn: 0.4261345\ttotal: 31m 40s\tremaining: 5m 12s\n",
            "859:\tlearn: 0.4261207\ttotal: 31m 43s\tremaining: 5m 9s\n",
            "860:\tlearn: 0.4261052\ttotal: 31m 46s\tremaining: 5m 7s\n",
            "861:\tlearn: 0.4260964\ttotal: 31m 48s\tremaining: 5m 5s\n",
            "862:\tlearn: 0.4260840\ttotal: 31m 50s\tremaining: 5m 3s\n",
            "863:\tlearn: 0.4260647\ttotal: 31m 52s\tremaining: 5m 1s\n",
            "864:\tlearn: 0.4260558\ttotal: 31m 54s\tremaining: 4m 58s\n",
            "865:\tlearn: 0.4260379\ttotal: 31m 57s\tremaining: 4m 56s\n",
            "866:\tlearn: 0.4260263\ttotal: 31m 59s\tremaining: 4m 54s\n",
            "867:\tlearn: 0.4260152\ttotal: 32m 2s\tremaining: 4m 52s\n",
            "868:\tlearn: 0.4259966\ttotal: 32m 4s\tremaining: 4m 50s\n",
            "869:\tlearn: 0.4259826\ttotal: 32m 6s\tremaining: 4m 47s\n",
            "870:\tlearn: 0.4259687\ttotal: 32m 8s\tremaining: 4m 45s\n",
            "871:\tlearn: 0.4259549\ttotal: 32m 10s\tremaining: 4m 43s\n",
            "872:\tlearn: 0.4259431\ttotal: 32m 12s\tremaining: 4m 41s\n",
            "873:\tlearn: 0.4259310\ttotal: 32m 14s\tremaining: 4m 38s\n",
            "874:\tlearn: 0.4259157\ttotal: 32m 16s\tremaining: 4m 36s\n",
            "875:\tlearn: 0.4258978\ttotal: 32m 19s\tremaining: 4m 34s\n",
            "876:\tlearn: 0.4258832\ttotal: 32m 21s\tremaining: 4m 32s\n",
            "877:\tlearn: 0.4258701\ttotal: 32m 24s\tremaining: 4m 30s\n",
            "878:\tlearn: 0.4258595\ttotal: 32m 26s\tremaining: 4m 27s\n",
            "879:\tlearn: 0.4258485\ttotal: 32m 28s\tremaining: 4m 25s\n",
            "880:\tlearn: 0.4258400\ttotal: 32m 30s\tremaining: 4m 23s\n",
            "881:\tlearn: 0.4258322\ttotal: 32m 32s\tremaining: 4m 21s\n",
            "882:\tlearn: 0.4258223\ttotal: 32m 34s\tremaining: 4m 19s\n",
            "883:\tlearn: 0.4258023\ttotal: 32m 37s\tremaining: 4m 16s\n",
            "884:\tlearn: 0.4257919\ttotal: 32m 39s\tremaining: 4m 14s\n",
            "885:\tlearn: 0.4257697\ttotal: 32m 41s\tremaining: 4m 12s\n",
            "886:\tlearn: 0.4257567\ttotal: 32m 43s\tremaining: 4m 10s\n",
            "887:\tlearn: 0.4257446\ttotal: 32m 45s\tremaining: 4m 7s\n",
            "888:\tlearn: 0.4257264\ttotal: 32m 47s\tremaining: 4m 5s\n",
            "889:\tlearn: 0.4257128\ttotal: 32m 49s\tremaining: 4m 3s\n",
            "890:\tlearn: 0.4256962\ttotal: 32m 51s\tremaining: 4m 1s\n",
            "891:\tlearn: 0.4256853\ttotal: 32m 54s\tremaining: 3m 59s\n",
            "892:\tlearn: 0.4256695\ttotal: 32m 56s\tremaining: 3m 56s\n",
            "893:\tlearn: 0.4256550\ttotal: 32m 59s\tremaining: 3m 54s\n",
            "894:\tlearn: 0.4256363\ttotal: 33m 1s\tremaining: 3m 52s\n",
            "895:\tlearn: 0.4256198\ttotal: 33m 3s\tremaining: 3m 50s\n",
            "896:\tlearn: 0.4256032\ttotal: 33m 6s\tremaining: 3m 48s\n",
            "897:\tlearn: 0.4255927\ttotal: 33m 8s\tremaining: 3m 45s\n",
            "898:\tlearn: 0.4255816\ttotal: 33m 10s\tremaining: 3m 43s\n",
            "899:\tlearn: 0.4255681\ttotal: 33m 12s\tremaining: 3m 41s\n",
            "900:\tlearn: 0.4255545\ttotal: 33m 14s\tremaining: 3m 39s\n",
            "901:\tlearn: 0.4255453\ttotal: 33m 17s\tremaining: 3m 36s\n",
            "902:\tlearn: 0.4255406\ttotal: 33m 18s\tremaining: 3m 34s\n",
            "903:\tlearn: 0.4255309\ttotal: 33m 21s\tremaining: 3m 32s\n",
            "904:\tlearn: 0.4255168\ttotal: 33m 23s\tremaining: 3m 30s\n",
            "905:\tlearn: 0.4255120\ttotal: 33m 26s\tremaining: 3m 28s\n",
            "906:\tlearn: 0.4255025\ttotal: 33m 28s\tremaining: 3m 25s\n",
            "907:\tlearn: 0.4254983\ttotal: 33m 30s\tremaining: 3m 23s\n",
            "908:\tlearn: 0.4254775\ttotal: 33m 32s\tremaining: 3m 21s\n",
            "909:\tlearn: 0.4254642\ttotal: 33m 34s\tremaining: 3m 19s\n",
            "910:\tlearn: 0.4254517\ttotal: 33m 37s\tremaining: 3m 17s\n",
            "911:\tlearn: 0.4254454\ttotal: 33m 39s\tremaining: 3m 14s\n",
            "912:\tlearn: 0.4254300\ttotal: 33m 42s\tremaining: 3m 12s\n",
            "913:\tlearn: 0.4254183\ttotal: 33m 44s\tremaining: 3m 10s\n",
            "914:\tlearn: 0.4254009\ttotal: 33m 46s\tremaining: 3m 8s\n",
            "915:\tlearn: 0.4253830\ttotal: 33m 49s\tremaining: 3m 6s\n",
            "916:\tlearn: 0.4253653\ttotal: 33m 50s\tremaining: 3m 3s\n",
            "917:\tlearn: 0.4253562\ttotal: 33m 52s\tremaining: 3m 1s\n",
            "918:\tlearn: 0.4253505\ttotal: 33m 54s\tremaining: 2m 59s\n",
            "919:\tlearn: 0.4253410\ttotal: 33m 56s\tremaining: 2m 57s\n",
            "920:\tlearn: 0.4253286\ttotal: 33m 59s\tremaining: 2m 54s\n",
            "921:\tlearn: 0.4253160\ttotal: 34m 1s\tremaining: 2m 52s\n",
            "922:\tlearn: 0.4253061\ttotal: 34m 3s\tremaining: 2m 50s\n",
            "923:\tlearn: 0.4253000\ttotal: 34m 5s\tremaining: 2m 48s\n",
            "924:\tlearn: 0.4252838\ttotal: 34m 6s\tremaining: 2m 45s\n",
            "925:\tlearn: 0.4252726\ttotal: 34m 9s\tremaining: 2m 43s\n",
            "926:\tlearn: 0.4252495\ttotal: 34m 12s\tremaining: 2m 41s\n",
            "927:\tlearn: 0.4252408\ttotal: 34m 14s\tremaining: 2m 39s\n",
            "928:\tlearn: 0.4252347\ttotal: 34m 16s\tremaining: 2m 37s\n",
            "929:\tlearn: 0.4252198\ttotal: 34m 18s\tremaining: 2m 34s\n",
            "930:\tlearn: 0.4252072\ttotal: 34m 20s\tremaining: 2m 32s\n",
            "931:\tlearn: 0.4251964\ttotal: 34m 22s\tremaining: 2m 30s\n",
            "932:\tlearn: 0.4251780\ttotal: 34m 24s\tremaining: 2m 28s\n",
            "933:\tlearn: 0.4251705\ttotal: 34m 27s\tremaining: 2m 26s\n",
            "934:\tlearn: 0.4251678\ttotal: 34m 29s\tremaining: 2m 23s\n",
            "935:\tlearn: 0.4251602\ttotal: 34m 31s\tremaining: 2m 21s\n",
            "936:\tlearn: 0.4251536\ttotal: 34m 34s\tremaining: 2m 19s\n",
            "937:\tlearn: 0.4251404\ttotal: 34m 36s\tremaining: 2m 17s\n",
            "938:\tlearn: 0.4251355\ttotal: 34m 38s\tremaining: 2m 15s\n",
            "939:\tlearn: 0.4251327\ttotal: 34m 41s\tremaining: 2m 12s\n",
            "940:\tlearn: 0.4251243\ttotal: 34m 43s\tremaining: 2m 10s\n",
            "941:\tlearn: 0.4251089\ttotal: 34m 45s\tremaining: 2m 8s\n",
            "942:\tlearn: 0.4250963\ttotal: 34m 48s\tremaining: 2m 6s\n",
            "943:\tlearn: 0.4250871\ttotal: 34m 50s\tremaining: 2m 4s\n",
            "944:\tlearn: 0.4250749\ttotal: 34m 52s\tremaining: 2m 1s\n",
            "945:\tlearn: 0.4250600\ttotal: 34m 54s\tremaining: 1m 59s\n",
            "946:\tlearn: 0.4250552\ttotal: 34m 56s\tremaining: 1m 57s\n",
            "947:\tlearn: 0.4250458\ttotal: 34m 58s\tremaining: 1m 55s\n",
            "948:\tlearn: 0.4250408\ttotal: 35m\tremaining: 1m 52s\n",
            "949:\tlearn: 0.4250204\ttotal: 35m 3s\tremaining: 1m 50s\n",
            "950:\tlearn: 0.4250082\ttotal: 35m 5s\tremaining: 1m 48s\n",
            "951:\tlearn: 0.4249827\ttotal: 35m 7s\tremaining: 1m 46s\n",
            "952:\tlearn: 0.4249654\ttotal: 35m 9s\tremaining: 1m 44s\n",
            "953:\tlearn: 0.4249554\ttotal: 35m 11s\tremaining: 1m 41s\n",
            "954:\tlearn: 0.4249471\ttotal: 35m 13s\tremaining: 1m 39s\n",
            "955:\tlearn: 0.4249327\ttotal: 35m 16s\tremaining: 1m 37s\n",
            "956:\tlearn: 0.4249162\ttotal: 35m 19s\tremaining: 1m 35s\n",
            "957:\tlearn: 0.4249080\ttotal: 35m 21s\tremaining: 1m 33s\n",
            "958:\tlearn: 0.4248944\ttotal: 35m 23s\tremaining: 1m 30s\n",
            "959:\tlearn: 0.4248787\ttotal: 35m 26s\tremaining: 1m 28s\n",
            "960:\tlearn: 0.4248728\ttotal: 35m 28s\tremaining: 1m 26s\n",
            "961:\tlearn: 0.4248600\ttotal: 35m 30s\tremaining: 1m 24s\n",
            "962:\tlearn: 0.4248509\ttotal: 35m 32s\tremaining: 1m 21s\n",
            "963:\tlearn: 0.4248291\ttotal: 35m 34s\tremaining: 1m 19s\n",
            "964:\tlearn: 0.4248175\ttotal: 35m 36s\tremaining: 1m 17s\n",
            "965:\tlearn: 0.4248058\ttotal: 35m 39s\tremaining: 1m 15s\n",
            "966:\tlearn: 0.4247884\ttotal: 35m 40s\tremaining: 1m 13s\n",
            "967:\tlearn: 0.4247838\ttotal: 35m 42s\tremaining: 1m 10s\n",
            "968:\tlearn: 0.4247743\ttotal: 35m 44s\tremaining: 1m 8s\n",
            "969:\tlearn: 0.4247624\ttotal: 35m 47s\tremaining: 1m 6s\n",
            "970:\tlearn: 0.4247502\ttotal: 35m 50s\tremaining: 1m 4s\n",
            "971:\tlearn: 0.4247398\ttotal: 35m 52s\tremaining: 1m 2s\n",
            "972:\tlearn: 0.4247348\ttotal: 35m 54s\tremaining: 59.8s\n",
            "973:\tlearn: 0.4247279\ttotal: 35m 56s\tremaining: 57.6s\n",
            "974:\tlearn: 0.4247172\ttotal: 35m 58s\tremaining: 55.4s\n",
            "975:\tlearn: 0.4247009\ttotal: 36m\tremaining: 53.1s\n",
            "976:\tlearn: 0.4246884\ttotal: 36m 3s\tremaining: 50.9s\n",
            "977:\tlearn: 0.4246742\ttotal: 36m 5s\tremaining: 48.7s\n",
            "978:\tlearn: 0.4246637\ttotal: 36m 7s\tremaining: 46.5s\n",
            "979:\tlearn: 0.4246531\ttotal: 36m 9s\tremaining: 44.3s\n",
            "980:\tlearn: 0.4246430\ttotal: 36m 11s\tremaining: 42.1s\n",
            "981:\tlearn: 0.4246277\ttotal: 36m 14s\tremaining: 39.9s\n",
            "982:\tlearn: 0.4246209\ttotal: 36m 16s\tremaining: 37.6s\n",
            "983:\tlearn: 0.4246125\ttotal: 36m 18s\tremaining: 35.4s\n",
            "984:\tlearn: 0.4245928\ttotal: 36m 21s\tremaining: 33.2s\n",
            "985:\tlearn: 0.4245878\ttotal: 36m 23s\tremaining: 31s\n",
            "986:\tlearn: 0.4245792\ttotal: 36m 25s\tremaining: 28.8s\n",
            "987:\tlearn: 0.4245661\ttotal: 36m 27s\tremaining: 26.6s\n",
            "988:\tlearn: 0.4245535\ttotal: 36m 29s\tremaining: 24.4s\n",
            "989:\tlearn: 0.4245437\ttotal: 36m 31s\tremaining: 22.1s\n",
            "990:\tlearn: 0.4245335\ttotal: 36m 33s\tremaining: 19.9s\n",
            "991:\tlearn: 0.4245255\ttotal: 36m 35s\tremaining: 17.7s\n",
            "992:\tlearn: 0.4245119\ttotal: 36m 37s\tremaining: 15.5s\n",
            "993:\tlearn: 0.4245000\ttotal: 36m 40s\tremaining: 13.3s\n",
            "994:\tlearn: 0.4244883\ttotal: 36m 42s\tremaining: 11.1s\n",
            "995:\tlearn: 0.4244826\ttotal: 36m 44s\tremaining: 8.86s\n",
            "996:\tlearn: 0.4244703\ttotal: 36m 46s\tremaining: 6.64s\n",
            "997:\tlearn: 0.4244576\ttotal: 36m 48s\tremaining: 4.42s\n",
            "998:\tlearn: 0.4244468\ttotal: 36m 50s\tremaining: 2.21s\n",
            "999:\tlearn: 0.4244306\ttotal: 36m 52s\tremaining: 0us\n"
          ],
          "name": "stdout"
        },
        {
          "output_type": "execute_result",
          "data": {
            "text/plain": [
              "<catboost.core.CatBoostClassifier at 0x7fb1bdf7f240>"
            ]
          },
          "metadata": {
            "tags": []
          },
          "execution_count": 56
        }
      ]
    },
    {
      "cell_type": "code",
      "metadata": {
        "id": "NcfBXAfMMGIG",
        "outputId": "d2940a54-e37e-4212-de70-89cd5fe3231f",
        "colab": {
          "base_uri": "https://localhost:8080/"
        }
      },
      "source": [
        "predicts = cat_clf.predict(df_train[column_to_numbers_names])\n",
        "print(classification_report(df_train.is_bad, predicts))\n",
        "\n",
        "predicts = cat_clf.predict(df_val[column_to_numbers_names])\n",
        "print(classification_report(df_val.is_bad, predicts))\n",
        "\n",
        "print('ROC_AUC Train')\n",
        "print(roc_auc_score(df_train.is_bad, cat_clf.predict_proba(df_train[column_to_numbers_names])[:, 1]))\n",
        "print('\\n')\n",
        "print('ROC_AUC Val')\n",
        "print(roc_auc_score(df_val.is_bad, cat_clf.predict_proba(df_val[column_to_numbers_names])[:, 1]))"
      ],
      "execution_count": 57,
      "outputs": [
        {
          "output_type": "stream",
          "text": [
            "              precision    recall  f1-score   support\n",
            "\n",
            "           0       0.84      0.95      0.89    746221\n",
            "           1       0.73      0.45      0.55    238266\n",
            "\n",
            "    accuracy                           0.83    984487\n",
            "   macro avg       0.79      0.70      0.72    984487\n",
            "weighted avg       0.82      0.83      0.81    984487\n",
            "\n",
            "              precision    recall  f1-score   support\n",
            "\n",
            "           0       0.82      0.95      0.88     12256\n",
            "           1       0.71      0.35      0.47      3981\n",
            "\n",
            "    accuracy                           0.81     16237\n",
            "   macro avg       0.76      0.65      0.67     16237\n",
            "weighted avg       0.79      0.81      0.78     16237\n",
            "\n",
            "ROC_AUC Train\n",
            "0.8422391178887464\n",
            "\n",
            "\n",
            "ROC_AUC Val\n",
            "0.8338029780655241\n"
          ],
          "name": "stdout"
        }
      ]
    },
    {
      "cell_type": "code",
      "metadata": {
        "id": "K-YNUKjdTuwJ"
      },
      "source": [
        "with open('title_cat_catboost.pkl', 'wb') as file:  \n",
        "    pickle.dump(cat_clf, file)"
      ],
      "execution_count": 58,
      "outputs": []
    },
    {
      "cell_type": "code",
      "metadata": {
        "id": "X07J3zR8UZ-h"
      },
      "source": [
        "with open('title_cat_catboost.pkl', 'rb') as file:  \n",
        "    pickled_cat_clf = pickle.load(file)"
      ],
      "execution_count": 59,
      "outputs": []
    },
    {
      "cell_type": "code",
      "metadata": {
        "id": "gd4OFw-5UZno",
        "outputId": "efb0c475-ba7e-4d95-8339-73a4c36b51ca",
        "colab": {
          "base_uri": "https://localhost:8080/"
        }
      },
      "source": [
        "print('ROC_AUC Val')\n",
        "print(roc_auc_score(df_val.is_bad, pickled_cat_clf.predict_proba(df_val[column_to_numbers_names])[:, 1]))"
      ],
      "execution_count": 60,
      "outputs": [
        {
          "output_type": "stream",
          "text": [
            "ROC_AUC Val\n",
            "0.8338029780655241\n"
          ],
          "name": "stdout"
        }
      ]
    },
    {
      "cell_type": "markdown",
      "metadata": {
        "id": "DROknmIN7N2Q"
      },
      "source": [
        "Titles add value as expected"
      ]
    },
    {
      "cell_type": "markdown",
      "metadata": {
        "id": "2zUukEhpNMA6"
      },
      "source": [
        "# Description model"
      ]
    },
    {
      "cell_type": "code",
      "metadata": {
        "id": "l8B0rYkwMJiw"
      },
      "source": [
        "vectorizer_desc = TfidfVectorizer(stop_words=stopwords)\n",
        "vectorizer_desc = vectorizer_desc.fit(df_train['description'])\n",
        "#vectorizer_desc.get_feature_names()"
      ],
      "execution_count": 61,
      "outputs": []
    },
    {
      "cell_type": "code",
      "metadata": {
        "id": "r5g_1KMVL2it"
      },
      "source": [
        "with open('vectorizer_desc.pkl', 'wb') as file:  \n",
        "    pickle.dump(vectorizer_desc, file)"
      ],
      "execution_count": 62,
      "outputs": []
    },
    {
      "cell_type": "code",
      "metadata": {
        "id": "_9B_KEv8xk2B"
      },
      "source": [
        "with open('vectorizer_desc.pkl', 'rb') as file:  \n",
        "    vectorizer_desc = pickle.load(file)"
      ],
      "execution_count": 63,
      "outputs": []
    },
    {
      "cell_type": "code",
      "metadata": {
        "id": "xoXgnxlINO5x"
      },
      "source": [
        "X_train_vectors_desc = vectorizer_desc.transform(df_train['description'])\n",
        "\n",
        "X_val_vectors_desc = vectorizer_desc.transform(df_val['description'])"
      ],
      "execution_count": 64,
      "outputs": []
    },
    {
      "cell_type": "markdown",
      "metadata": {
        "id": "gw1i2Yl27crk"
      },
      "source": [
        "First try without adding other features"
      ]
    },
    {
      "cell_type": "code",
      "metadata": {
        "id": "wKH8ieiFNSq7",
        "outputId": "91b82d63-af89-4cff-b2c0-7c56bebc226c",
        "colab": {
          "base_uri": "https://localhost:8080/"
        }
      },
      "source": [
        "clf_logit_desc = LogisticRegression(max_iter=1000).fit(X_train_vectors_desc, df_train.is_bad)\n",
        "\n",
        "predicts = clf_logit_desc.predict(X_val_vectors_desc)\n",
        "print(classification_report(df_val.is_bad, predicts))\n",
        "\n",
        "print('ROC_AUC Train')\n",
        "print(roc_auc_score(df_train.is_bad, clf_logit_desc.predict_proba(X_train_vectors_desc)[:, 1]))\n",
        "print('\\n')\n",
        "print('ROC_AUC Val')\n",
        "print(roc_auc_score(df_val.is_bad, clf_logit_desc.predict_proba(X_val_vectors_desc)[:, 1]))"
      ],
      "execution_count": 65,
      "outputs": [
        {
          "output_type": "stream",
          "text": [
            "              precision    recall  f1-score   support\n",
            "\n",
            "           0       0.89      0.96      0.93     12256\n",
            "           1       0.85      0.65      0.74      3981\n",
            "\n",
            "    accuracy                           0.89     16237\n",
            "   macro avg       0.87      0.81      0.83     16237\n",
            "weighted avg       0.88      0.89      0.88     16237\n",
            "\n",
            "ROC_AUC Train\n",
            "0.9615820850125403\n",
            "\n",
            "\n",
            "ROC_AUC Val\n",
            "0.9280995937458806\n"
          ],
          "name": "stdout"
        }
      ]
    },
    {
      "cell_type": "markdown",
      "metadata": {
        "id": "UtnkGsNVNWGx"
      },
      "source": [
        "## Adding one-hot encoded \"dt_hour\", \"category\" features to this model\n",
        "The same as I did in Titles model"
      ]
    },
    {
      "cell_type": "code",
      "metadata": {
        "id": "ceviC9tDNaCV"
      },
      "source": [
        "desc_hour_category_train = hstack([X_train_vectors_desc, \n",
        "                                   category_one_hot_train.values, dt_hour_one_hot_train.values])\n",
        "desc_hour_category_val = hstack([X_val_vectors_desc, \n",
        "                                 category_one_hot_val.values, dt_hour_one_hot_val.values])"
      ],
      "execution_count": 66,
      "outputs": []
    },
    {
      "cell_type": "markdown",
      "metadata": {
        "id": "d-Gy05JJ7pmj"
      },
      "source": [
        "## Logistic Regression"
      ]
    },
    {
      "cell_type": "code",
      "metadata": {
        "id": "sVRiAMlQNcMi",
        "outputId": "ee5818f8-b614-4a24-cba5-4c95148aaf68",
        "colab": {
          "base_uri": "https://localhost:8080/"
        }
      },
      "source": [
        "clf_NB_desc = LogisticRegression(max_iter=1000).fit(desc_hour_category_train, df_train.is_bad)\n",
        "\n",
        "predicts = clf_NB_desc.predict(desc_hour_category_val)\n",
        "print(classification_report(df_val.is_bad, predicts))\n",
        "\n",
        "print('ROC_AUC Train')\n",
        "print(roc_auc_score(df_train.is_bad, clf_NB_desc.predict_proba(desc_hour_category_train)[:, 1]))\n",
        "print('\\n')\n",
        "print('ROC_AUC Val')\n",
        "print(roc_auc_score(df_val.is_bad, clf_NB_desc.predict_proba(desc_hour_category_val)[:, 1]))"
      ],
      "execution_count": 67,
      "outputs": [
        {
          "output_type": "stream",
          "text": [
            "              precision    recall  f1-score   support\n",
            "\n",
            "           0       0.90      0.96      0.93     12256\n",
            "           1       0.85      0.67      0.75      3981\n",
            "\n",
            "    accuracy                           0.89     16237\n",
            "   macro avg       0.88      0.82      0.84     16237\n",
            "weighted avg       0.89      0.89      0.89     16237\n",
            "\n",
            "ROC_AUC Train\n",
            "0.9626446824872495\n",
            "\n",
            "\n",
            "ROC_AUC Val\n",
            "0.9330151689847926\n"
          ],
          "name": "stdout"
        }
      ]
    },
    {
      "cell_type": "code",
      "metadata": {
        "id": "zy8z71sf7q_4"
      },
      "source": [
        "with open('desc_hour_ctry_model_lr.pkl', 'wb') as file:  \n",
        "    pickle.dump(clf_NB_desc, file)"
      ],
      "execution_count": 68,
      "outputs": []
    },
    {
      "cell_type": "code",
      "metadata": {
        "id": "QtOlQu5B7rsL"
      },
      "source": [
        "with open('desc_hour_ctry_model_lr.pkl', 'rb') as file:  \n",
        "    pickled_clf_desc = pickle.load(file)"
      ],
      "execution_count": 69,
      "outputs": []
    },
    {
      "cell_type": "code",
      "metadata": {
        "id": "Pch51spc7sLp",
        "outputId": "71a93c15-c060-46bc-848c-0b57d377a278",
        "colab": {
          "base_uri": "https://localhost:8080/"
        }
      },
      "source": [
        "print('ROC_AUC Val')\n",
        "print(roc_auc_score(df_val.is_bad, pickled_clf_desc.predict_proba(desc_hour_category_val)[:, 1]))"
      ],
      "execution_count": 70,
      "outputs": [
        {
          "output_type": "stream",
          "text": [
            "ROC_AUC Val\n",
            "0.9330151689847926\n"
          ],
          "name": "stdout"
        }
      ]
    },
    {
      "cell_type": "markdown",
      "metadata": {
        "id": "l23EBk0-1zaj"
      },
      "source": [
        "## Some other classification models for descriptions\n",
        "As I am going to implement *stacking ensemble* at the penultimate step of the entire model\n",
        "\n"
      ]
    },
    {
      "cell_type": "markdown",
      "metadata": {
        "id": "tucB3RVu75QQ"
      },
      "source": [
        "### K-Neighbours"
      ]
    },
    {
      "cell_type": "code",
      "metadata": {
        "id": "VfMrhbnD0wZU"
      },
      "source": [
        "desc_model_knn = KNeighborsClassifier(n_neighbors=100).fit(desc_hour_category_train, df_train.is_bad)\n",
        "desc_model_knn_proba = desc_model_knn.predict_proba(desc_hour_category_val)[:, 1]"
      ],
      "execution_count": 71,
      "outputs": []
    },
    {
      "cell_type": "code",
      "metadata": {
        "id": "xN58OQRg1Fll",
        "outputId": "7b22ce3c-1782-4ef7-cad4-d924d85d92ed",
        "colab": {
          "base_uri": "https://localhost:8080/"
        }
      },
      "source": [
        "print('ROC_AUC Val')\n",
        "print(roc_auc_score(df_val.is_bad, desc_model_knn_proba))"
      ],
      "execution_count": 72,
      "outputs": [
        {
          "output_type": "stream",
          "text": [
            "ROC_AUC Val\n",
            "0.8672495963201186\n"
          ],
          "name": "stdout"
        }
      ]
    },
    {
      "cell_type": "markdown",
      "metadata": {
        "id": "x6efrqwI78pB"
      },
      "source": [
        "### Naive Bayes"
      ]
    },
    {
      "cell_type": "code",
      "metadata": {
        "id": "LuSWpuZz1IvZ"
      },
      "source": [
        "desc_model_NB = MultinomialNB(alpha=0.01).fit(desc_hour_category_train, df_train.is_bad)"
      ],
      "execution_count": 73,
      "outputs": []
    },
    {
      "cell_type": "code",
      "metadata": {
        "id": "Yyi1fv4A1SWX",
        "outputId": "8e78ffea-1484-4999-b325-5bf2c24bc7d7",
        "colab": {
          "base_uri": "https://localhost:8080/"
        }
      },
      "source": [
        "print('ROC_AUC Val')\n",
        "print(roc_auc_score(df_val.is_bad, desc_model_NB.predict_proba(desc_hour_category_val)[:, 1]))"
      ],
      "execution_count": 74,
      "outputs": [
        {
          "output_type": "stream",
          "text": [
            "ROC_AUC Val\n",
            "0.912972676020497\n"
          ],
          "name": "stdout"
        }
      ]
    },
    {
      "cell_type": "markdown",
      "metadata": {
        "id": "e36bL9tX7_g0"
      },
      "source": [
        "### XGBoost"
      ]
    },
    {
      "cell_type": "code",
      "metadata": {
        "id": "6mtM5uC--_OR"
      },
      "source": [
        "xgb_desc_train = xgb.DMatrix(desc_hour_category_train, label=df_train.is_bad)\n",
        "xgb_desc_val = xgb.DMatrix(desc_hour_category_val)"
      ],
      "execution_count": 75,
      "outputs": []
    },
    {
      "cell_type": "code",
      "metadata": {
        "id": "AM4FQPGID8x6"
      },
      "source": [
        "param_d = {'max_depth':10, 'eta':0.03, 'silent':1, 'objective':'binary:logistic' }\n",
        "param_d['nthread'] = 4\n",
        "param_d['eval_metric'] = 'auc'\n",
        "param_d['subsample'] = 1\n",
        "param_d['colsample_bytree']= 1\n",
        "param_d['min_child_weight'] = 100\n",
        "param_d['max_bin']=1000#25,30,40,60,80,100, 200, 256, 300, 500, 1000\n",
        "#param_d['min_child_weight']=200#1,5,7,10,15,50,75,100,130,160,200\n",
        "#param_d['lambda']=5#0.01,0.1,1,3,5\n",
        "param_d['booster'] = \"gblinear\""
      ],
      "execution_count": 76,
      "outputs": []
    },
    {
      "cell_type": "code",
      "metadata": {
        "id": "dZgXWOFC_FP4"
      },
      "source": [
        "xgb_desc_model = xgb.train(params=param_d, dtrain=xgb_desc_train)"
      ],
      "execution_count": 77,
      "outputs": []
    },
    {
      "cell_type": "code",
      "metadata": {
        "id": "ZBflhbEf_ff7",
        "outputId": "cf2ffd53-cd3a-4f17-8c33-01622c74f09c",
        "colab": {
          "base_uri": "https://localhost:8080/"
        }
      },
      "source": [
        "print('ROC_AUC Val')\n",
        "print(roc_auc_score(df_val.is_bad, xgb_desc_model.predict(xgb_desc_val)))"
      ],
      "execution_count": 78,
      "outputs": [
        {
          "output_type": "stream",
          "text": [
            "ROC_AUC Val\n",
            "0.9067442291157147\n"
          ],
          "name": "stdout"
        }
      ]
    },
    {
      "cell_type": "markdown",
      "metadata": {
        "id": "GGG0oFV6NiS-"
      },
      "source": [
        "# Gathering continious features and obtained probabilities from models above into a single model\n"
      ]
    },
    {
      "cell_type": "code",
      "metadata": {
        "id": "UnGwU9ZnNhzt"
      },
      "source": [
        "title_prob_train = pd.DataFrame(pickled_title_model.predict_proba(titles_for_train_vector)[:, 1],\n",
        "                                columns=['title_prob'])\n",
        "desc_prob_train = pd.DataFrame(pickled_clf_desc.predict_proba(desc_hour_category_train)[:, 1], \n",
        "                               columns=['desc_prob'])\n",
        "cat_prob_train = pd.DataFrame(pickled_cat_clf.predict_proba(df_train[column_to_numbers_names].values)[:, 1], \n",
        "                              columns=['cat_prob'])"
      ],
      "execution_count": 79,
      "outputs": []
    },
    {
      "cell_type": "code",
      "metadata": {
        "id": "2wTDI4rxE4g3"
      },
      "source": [
        "#title_prob_train_knn = pd.DataFrame(title_model_knn.predict_proba(titles_for_train_vector)[:, 1],\n",
        "#                                columns=['title_prob_knn'])\n",
        "#title_prob_train_NB = pd.DataFrame(title_model_NB.predict_proba(titles_for_train_vector)[:, 1],\n",
        "#                                columns=['title_prob_NB'])\n",
        "title_prob_train_xgb = pd.DataFrame(xgb_title_model.predict(xgb_title_train),\n",
        "                                columns=['title_prob_xgb'])               "
      ],
      "execution_count": 80,
      "outputs": []
    },
    {
      "cell_type": "code",
      "metadata": {
        "id": "0zRLGOKJHCYp"
      },
      "source": [
        "#desc_prob_train_knn = pd.DataFrame(desc_model_knn.predict_proba(desc_hour_category_train)[:, 1], \n",
        "#                               columns=['desc_prob_knn'])\n",
        "#desc_prob_train_NB = pd.DataFrame(desc_model_NB.predict_proba(desc_hour_category_train)[:, 1], \n",
        "#                               columns=['desc_prob_NB'])\n",
        "desc_prob_train_xgb = pd.DataFrame(xgb_desc_model.predict(xgb_desc_train), \n",
        "                               columns=['desc_prob_xgb'])"
      ],
      "execution_count": 81,
      "outputs": []
    },
    {
      "cell_type": "code",
      "metadata": {
        "id": "NCTSjszzN0UZ"
      },
      "source": [
        "title_prob_val = pd.DataFrame(pickled_title_model.predict_proba(titles_for_val_vector)[:, 1], \n",
        "                              columns=['title_prob'])\n",
        "desc_prob_val = pd.DataFrame(pickled_clf_desc.predict_proba(desc_hour_category_val)[:, 1], \n",
        "                             columns=['desc_prob'])\n",
        "cat_prob_val = pd.DataFrame(pickled_cat_clf.predict_proba(df_val[column_to_numbers_names])[:, 1],\n",
        "                            columns=['cat_prob'])"
      ],
      "execution_count": 82,
      "outputs": []
    },
    {
      "cell_type": "code",
      "metadata": {
        "id": "y8dNSJH3GqbJ"
      },
      "source": [
        "#title_prob_val_knn = pd.DataFrame(title_model_knn_proba,\n",
        "#                                columns=['title_prob_knn'])\n",
        "#title_prob_val_NB = pd.DataFrame(title_model_NB.predict_proba(titles_for_val_vector)[:, 1],\n",
        "#                                columns=['title_prob_NB'])\n",
        "title_prob_val_xgb = pd.DataFrame(xgb_title_model.predict(xgb_title_val),\n",
        "                                columns=['title_prob_xgb'])  \n",
        "#desc_prob_val_knn = pd.DataFrame(desc_model_knn_proba, \n",
        "#                               columns=['desc_prob_knn'])\n",
        "#desc_prob_val_NB = pd.DataFrame(desc_model_NB.predict_proba(desc_hour_category_val)[:, 1], \n",
        "#                               columns=['desc_prob_NB'])\n",
        "desc_prob_val_xgb = pd.DataFrame(xgb_desc_model.predict(xgb_desc_val), \n",
        "                               columns=['desc_prob_xgb'])  "
      ],
      "execution_count": 83,
      "outputs": []
    },
    {
      "cell_type": "code",
      "metadata": {
        "id": "d2_yUJCHOY7P"
      },
      "source": [
        "df_train_cont_prob = pd.concat([title_prob_train, \n",
        "                                desc_prob_train, \n",
        "                                cat_prob_train, \n",
        "                                #title_prob_train_knn,\n",
        "                                #title_prob_train_NB,\n",
        "                                title_prob_train_xgb,\n",
        "                                #desc_prob_train_knn,\n",
        "                                #desc_prob_train_NB,\n",
        "                                desc_prob_train_xgb,\n",
        "                                df_train[['category_num']]\n",
        "                               ], \n",
        "                               axis=1)"
      ],
      "execution_count": 84,
      "outputs": []
    },
    {
      "cell_type": "code",
      "metadata": {
        "id": "uH82zRsqyTXI"
      },
      "source": [
        "df_val_cont_prob = pd.concat([title_prob_val, \n",
        "                              desc_prob_val, \n",
        "                              cat_prob_val, \n",
        "                              #title_prob_val_knn,\n",
        "                              #title_prob_val_NB,\n",
        "                              title_prob_val_xgb,\n",
        "                              #desc_prob_val_knn,\n",
        "                              #desc_prob_val_NB,\n",
        "                              desc_prob_val_xgb,\n",
        "                              df_val[['category_num']]\n",
        "                             ],\n",
        "                             axis=1)"
      ],
      "execution_count": 85,
      "outputs": []
    },
    {
      "cell_type": "markdown",
      "metadata": {
        "id": "MyhpEI3c8hdB"
      },
      "source": [
        "## Logistic Regression as a final (top) model"
      ]
    },
    {
      "cell_type": "code",
      "metadata": {
        "id": "SGLdrLBkOkRi",
        "outputId": "611bdd75-d6c5-4258-fdb2-52af95e2229e",
        "colab": {
          "base_uri": "https://localhost:8080/"
        }
      },
      "source": [
        "#[['title_prob', 'desc_prob', 'cat_prob']]\n",
        "clf_final = LogisticRegression(C=0.0001).fit(df_train_cont_prob.drop(columns=['category_num']), df_train.is_bad)\n",
        "\n",
        "print('Classification report Train')\n",
        "predicts = clf_final.predict(df_train_cont_prob.drop(columns=['category_num']))\n",
        "print(classification_report(df_train.is_bad, predicts))\n",
        "\n",
        "print('Classification report Validation')\n",
        "predicts = clf_final.predict(df_val_cont_prob.drop(columns=['category_num']))\n",
        "print(classification_report(df_val.is_bad, predicts))\n",
        "\n",
        "print('ROC_AUC Train')\n",
        "print(roc_auc_score(df_train.is_bad, clf_final.predict_proba(df_train_cont_prob.drop(columns=['category_num']))[:, 1]))\n",
        "print('\\n')\n",
        "print('ROC_AUC Val')\n",
        "print(roc_auc_score(df_val.is_bad, clf_final.predict_proba(df_val_cont_prob.drop(columns=['category_num']))[:, 1]))"
      ],
      "execution_count": 86,
      "outputs": [
        {
          "output_type": "stream",
          "text": [
            "Classification report Train\n",
            "              precision    recall  f1-score   support\n",
            "\n",
            "           0       0.94      0.99      0.96    746221\n",
            "           1       0.95      0.80      0.87    238266\n",
            "\n",
            "    accuracy                           0.94    984487\n",
            "   macro avg       0.94      0.89      0.92    984487\n",
            "weighted avg       0.94      0.94      0.94    984487\n",
            "\n",
            "Classification report Validation\n",
            "              precision    recall  f1-score   support\n",
            "\n",
            "           0       0.88      0.98      0.92     12256\n",
            "           1       0.89      0.57      0.70      3981\n",
            "\n",
            "    accuracy                           0.88     16237\n",
            "   macro avg       0.88      0.77      0.81     16237\n",
            "weighted avg       0.88      0.88      0.87     16237\n",
            "\n",
            "ROC_AUC Train\n",
            "0.9849068026532062\n",
            "\n",
            "\n",
            "ROC_AUC Val\n",
            "0.9387938620654375\n"
          ],
          "name": "stdout"
        }
      ]
    },
    {
      "cell_type": "code",
      "metadata": {
        "id": "oXqsn29s3yQV",
        "outputId": "7d440537-70f0-4bdf-bf0d-89d83b2e2e23",
        "colab": {
          "base_uri": "https://localhost:8080/"
        }
      },
      "source": [
        "clf_final.coef_"
      ],
      "execution_count": 87,
      "outputs": [
        {
          "output_type": "execute_result",
          "data": {
            "text/plain": [
              "array([[0.63347045, 2.2698457 , 0.66183966, 1.38749018, 2.44140384]])"
            ]
          },
          "metadata": {
            "tags": []
          },
          "execution_count": 87
        }
      ]
    },
    {
      "cell_type": "markdown",
      "metadata": {
        "id": "i4XZNxaU8tpg"
      },
      "source": [
        "ROC AUC metric for each category"
      ]
    },
    {
      "cell_type": "code",
      "metadata": {
        "id": "VIydmqKYVXjx",
        "outputId": "31676a4a-c142-4922-bda4-18b3e365e55e",
        "colab": {
          "base_uri": "https://localhost:8080/"
        }
      },
      "source": [
        "#метрика, по которой проверяется качество модели\n",
        "rocauc_avg = 0\n",
        "for cat in df_val['category_num'].unique():\n",
        "    print('category '+str(cat))\n",
        "    cat_rocauc = roc_auc_score(df_val[df_val['category_num']==cat].is_bad,\n",
        "                                clf_final.predict_proba(df_val_cont_prob.drop(columns=['category_num'])[df_val_cont_prob['category_num']==cat])[:, 1])\n",
        "    rocauc_avg += cat_rocauc\n",
        "    print(cat_rocauc)\n",
        "print('Average ROC_AUC among categories')\n",
        "print(rocauc_avg/len(df_val['category_num'].unique()))"
      ],
      "execution_count": 88,
      "outputs": [
        {
          "output_type": "stream",
          "text": [
            "category 2\n",
            "0.9755026166373685\n",
            "category 9\n",
            "0.8942464857796666\n",
            "category 1\n",
            "0.930308798646362\n",
            "category 6\n",
            "0.8567434578394095\n",
            "category 3\n",
            "0.8660874134905721\n",
            "category 4\n",
            "0.9352121385083714\n",
            "category 7\n",
            "0.8113824411913699\n",
            "category 5\n",
            "0.8678783071251925\n",
            "category 10\n",
            "0.8460327115436604\n",
            "category 8\n",
            "0.8398185941043084\n",
            "Average ROC_AUC among categories\n",
            "0.882321296486628\n"
          ],
          "name": "stdout"
        }
      ]
    },
    {
      "cell_type": "code",
      "metadata": {
        "id": "uzPqhVfWK3j3"
      },
      "source": [
        "with open('final_model.pkl', 'wb') as file:  \n",
        "    pickle.dump(clf_final, file)"
      ],
      "execution_count": 89,
      "outputs": []
    },
    {
      "cell_type": "markdown",
      "metadata": {
        "id": "fq8MLuWQxpqV"
      },
      "source": [
        "## Finding optimal hyper-parameters for the top model"
      ]
    },
    {
      "cell_type": "code",
      "metadata": {
        "id": "wwwYiWgCxlsZ",
        "outputId": "a5838ea9-6c37-461d-cf87-9feefa451f26",
        "colab": {
          "base_uri": "https://localhost:8080/"
        }
      },
      "source": [
        "grid = {\"C\":np.logspace(4, 10, num=7), \"penalty\":[\"l2\"]}\n",
        "LogRegr_cv = GridSearchCV(LogisticRegression(), grid, scoring='roc_auc', cv=10)\n",
        "LogRegr_cv.fit(df_train_cont_prob, df_train.is_bad)\n",
        "\n",
        "print(\"tuned hpyerparameters :(best parameters) \",LogRegr_cv.best_params_)\n",
        "print(\"roc_auc :\",LogRegr_cv.best_score_)"
      ],
      "execution_count": 92,
      "outputs": [
        {
          "output_type": "stream",
          "text": [
            "tuned hpyerparameters :(best parameters)  {'C': 10000.0, 'penalty': 'l2'}\n",
            "roc_auc : 0.9916891190886185\n"
          ],
          "name": "stdout"
        }
      ]
    },
    {
      "cell_type": "code",
      "metadata": {
        "id": "AaMvqjyWn1Q6",
        "outputId": "49aae1e3-e22d-4b68-ee6f-f5892dca4f61",
        "colab": {
          "base_uri": "https://localhost:8080/"
        }
      },
      "source": [
        "clf_final.predict_proba(df_val_cont_prob.drop(columns=['category_num']))[:, 1]"
      ],
      "execution_count": 96,
      "outputs": [
        {
          "output_type": "execute_result",
          "data": {
            "text/plain": [
              "array([0.91635687, 0.08680401, 0.15241096, ..., 0.08188533, 0.07848327,\n",
              "       0.09775033])"
            ]
          },
          "metadata": {
            "tags": []
          },
          "execution_count": 96
        }
      ]
    },
    {
      "cell_type": "markdown",
      "metadata": {
        "id": "LujHq5Qj_w7P"
      },
      "source": [
        "## XGBoost as a final (top) model"
      ]
    },
    {
      "cell_type": "code",
      "metadata": {
        "id": "-KEEJTHn0gL9"
      },
      "source": [
        "import xgboost as xgb"
      ],
      "execution_count": 97,
      "outputs": []
    },
    {
      "cell_type": "code",
      "metadata": {
        "id": "mqadHBOM_1li"
      },
      "source": [
        "xgb_train = xgb.DMatrix(df_train_cont_prob, label=df_train.is_bad)\n",
        "xgb_val = xgb.DMatrix(df_val_cont_prob)"
      ],
      "execution_count": 98,
      "outputs": []
    },
    {
      "cell_type": "code",
      "metadata": {
        "id": "ZDLcFyl52rSM"
      },
      "source": [
        "param = {'max_depth':10, 'eta':0.13, 'silent':1, 'objective':'binary:logistic' }\n",
        "param['nthread'] = 8\n",
        "param['eval_metric'] = 'auc'\n",
        "param['subsample'] = 0.9\n",
        "param['colsample_bytree']= 0.6\n",
        "param['min_child_weight'] = 100\n",
        "param['max_bin']=800#25,30,40,60,80,100, 200, 256, 300, 500, 1000\n",
        "#param['min_child_weight']=200#1,5,7,10,15,50,75,100,130,160,200\n",
        "#param['lambda']=755.05#0.01,0.1,1,3,5\n",
        "param['booster'] = \"gblinear\""
      ],
      "execution_count": 99,
      "outputs": []
    },
    {
      "cell_type": "code",
      "metadata": {
        "id": "SonuGaBm1rCJ"
      },
      "source": [
        "bst = xgb.train(params=param, dtrain=xgb_train)"
      ],
      "execution_count": 100,
      "outputs": []
    },
    {
      "cell_type": "markdown",
      "metadata": {
        "id": "02h--9KEVU7D"
      },
      "source": [
        "## Ensemble method final score"
      ]
    },
    {
      "cell_type": "code",
      "metadata": {
        "id": "nhUc1WtEYCS1",
        "outputId": "4986dd58-1a65-4a08-e036-fbfa6c4867ad",
        "colab": {
          "base_uri": "https://localhost:8080/"
        }
      },
      "source": [
        "#метрика, по которой проверяется качество модели\n",
        "rocauc_avg = 0\n",
        "for cat in df_val['category_num'].unique():\n",
        "    #print('category '+str(cat))\n",
        "\n",
        "    cat_rocauc = roc_auc_score(df_val[df_val['category_num']==cat].is_bad,\n",
        "                                bst.predict(xgb.DMatrix(df_val_cont_prob[df_val_cont_prob['category_num']==cat])))\n",
        "    rocauc_avg += cat_rocauc\n",
        "    #print(cat_rocauc)\n",
        "print('Average ROC_AUC among categories')\n",
        "print(rocauc_avg/len(df_val['category_num'].unique()))"
      ],
      "execution_count": 101,
      "outputs": [
        {
          "output_type": "stream",
          "text": [
            "Average ROC_AUC among categories\n",
            "0.8837004510677368\n"
          ],
          "name": "stdout"
        }
      ]
    },
    {
      "cell_type": "code",
      "metadata": {
        "id": "jYO65DaxDsT-",
        "outputId": "e7582502-550b-42cf-bcbb-d682a5386876",
        "colab": {
          "base_uri": "https://localhost:8080/"
        }
      },
      "source": [
        "bst.predict(xgb_val)"
      ],
      "execution_count": 102,
      "outputs": [
        {
          "output_type": "execute_result",
          "data": {
            "text/plain": [
              "array([0.8621109 , 0.15521365, 0.3983129 , ..., 0.15401721, 0.15354832,\n",
              "       0.30583742], dtype=float32)"
            ]
          },
          "metadata": {
            "tags": []
          },
          "execution_count": 102
        }
      ]
    },
    {
      "cell_type": "markdown",
      "metadata": {
        "id": "VMz3oBhd8FXv"
      },
      "source": [
        "# Trying to use LSTM neural network for text classification\n"
      ]
    },
    {
      "cell_type": "code",
      "metadata": {
        "id": "nwGB1xX1-hIm",
        "outputId": "7bff3c76-9641-4e8a-8300-ca4a89c8aa6a",
        "colab": {
          "base_uri": "https://localhost:8080/"
        }
      },
      "source": [
        "from google.colab import drive\n",
        "drive.mount('/content/drive')"
      ],
      "execution_count": 15,
      "outputs": [
        {
          "output_type": "stream",
          "text": [
            "Mounted at /content/drive\n"
          ],
          "name": "stdout"
        }
      ]
    },
    {
      "cell_type": "code",
      "metadata": {
        "id": "ed7zskh68Rn5"
      },
      "source": [
        "import os\n",
        "import tensorflow as tf\n",
        "from keras.preprocessing.text import Tokenizer\n",
        "from keras.preprocessing.sequence import pad_sequences\n",
        "from keras.models import Sequential, Model\n",
        "from keras.layers import Dense, Activation, Dropout, Input, Embedding, LSTM, Bidirectional, Concatenate \n",
        "from keras import metrics"
      ],
      "execution_count": 34,
      "outputs": []
    },
    {
      "cell_type": "markdown",
      "metadata": {
        "id": "vv4AbCV7756F"
      },
      "source": [
        "## Features preparation"
      ]
    },
    {
      "cell_type": "markdown",
      "metadata": {
        "id": "vtjnmu9Lbj3K"
      },
      "source": [
        "### Descriptons"
      ]
    },
    {
      "cell_type": "code",
      "metadata": {
        "id": "3fPhr0qfPceD"
      },
      "source": [
        "desc_tokenizer = Tokenizer(filters='!\"#$%&()*+,-./:;<=>?@[\\\\]^_`{|}1234567890~\\t\\n')"
      ],
      "execution_count": 35,
      "outputs": []
    },
    {
      "cell_type": "code",
      "metadata": {
        "id": "czTVniGwQM3L"
      },
      "source": [
        "desc_tokenizer.fit_on_texts(df_train['description'])"
      ],
      "execution_count": 36,
      "outputs": []
    },
    {
      "cell_type": "code",
      "metadata": {
        "id": "kmYy2muK1IgL"
      },
      "source": [
        "def text_encoding(corpus):\n",
        "    encoded_corpus = desc_tokenizer.texts_to_sequences(corpus)\n",
        "    encoded_corpus = pad_sequences(encoded_corpus, \n",
        "                                    padding='post', \n",
        "                                    maxlen=300\n",
        "                                    )\n",
        "    return encoded_corpus"
      ],
      "execution_count": 37,
      "outputs": []
    },
    {
      "cell_type": "code",
      "metadata": {
        "id": "LnDKxmvP1l_T"
      },
      "source": [
        "encoded_descs = text_encoding(df_train['description'])"
      ],
      "execution_count": 38,
      "outputs": []
    },
    {
      "cell_type": "code",
      "metadata": {
        "id": "S2pXJt4i2oJc"
      },
      "source": [
        "encoded_descs_val = text_encoding(df_val['description'])"
      ],
      "execution_count": 39,
      "outputs": []
    },
    {
      "cell_type": "code",
      "metadata": {
        "id": "D-KHQ7WHefDU"
      },
      "source": [
        "vocab_size = len(desc_tokenizer.word_index)+1\n",
        "max_desc_len = len(encoded_descs[0])\n",
        "embedding_dim = 16"
      ],
      "execution_count": 40,
      "outputs": []
    },
    {
      "cell_type": "markdown",
      "metadata": {
        "id": "EFk74eN--27H"
      },
      "source": [
        "### Categorical"
      ]
    },
    {
      "cell_type": "code",
      "metadata": {
        "id": "KhUBzhCJ8Jsn"
      },
      "source": [
        "cat_features_train = pd.concat([category_one_hot_train, dt_hour_one_hot_train], axis=1)\n",
        "cat_features_val = pd.concat([category_one_hot_val, dt_hour_one_hot_val], axis=1)"
      ],
      "execution_count": 41,
      "outputs": []
    },
    {
      "cell_type": "code",
      "metadata": {
        "id": "gtfgbzC68_QY"
      },
      "source": [
        "cat_input_shape = cat_features_train.shape[1]"
      ],
      "execution_count": 42,
      "outputs": []
    },
    {
      "cell_type": "code",
      "metadata": {
        "id": "GtHTD9imY6YW"
      },
      "source": [
        "cat_features_train = cat_features_train.values.astype(dtype=int)\n",
        "cat_features_val = cat_features_val.values.astype(dtype=int)"
      ],
      "execution_count": 43,
      "outputs": []
    },
    {
      "cell_type": "markdown",
      "metadata": {
        "id": "RkO6GOvd-55U"
      },
      "source": [
        "### Titles\n"
      ]
    },
    {
      "cell_type": "code",
      "metadata": {
        "id": "6fv9Risc-7ZT"
      },
      "source": [
        "title_tokenizer = Tokenizer(filters='!\"#$%&()*+,-./:;<=>?@[\\\\]^_`{|}1234567890~\\t\\n')"
      ],
      "execution_count": 44,
      "outputs": []
    },
    {
      "cell_type": "code",
      "metadata": {
        "id": "ILfnCYvI_Co1"
      },
      "source": [
        "title_tokenizer.fit_on_texts(df_train['title'])"
      ],
      "execution_count": 45,
      "outputs": []
    },
    {
      "cell_type": "code",
      "metadata": {
        "id": "PioO5NGq_FGf"
      },
      "source": [
        "def title_encoding(corpus):\n",
        "    encoded_corpus = title_tokenizer.texts_to_sequences(corpus)\n",
        "    encoded_corpus = pad_sequences(encoded_corpus, \n",
        "                                 padding='post', \n",
        "                                 maxlen=30\n",
        "                                 )\n",
        "    return encoded_corpus"
      ],
      "execution_count": 46,
      "outputs": []
    },
    {
      "cell_type": "code",
      "metadata": {
        "id": "WscLB2kG_IxQ"
      },
      "source": [
        "encoded_titles = title_encoding(df_train['title'])"
      ],
      "execution_count": 47,
      "outputs": []
    },
    {
      "cell_type": "code",
      "metadata": {
        "id": "k05PIm65_M4K"
      },
      "source": [
        "encoded_titles_val = title_encoding(df_val['title'])"
      ],
      "execution_count": 48,
      "outputs": []
    },
    {
      "cell_type": "code",
      "metadata": {
        "id": "Mut8m8QD_QWj"
      },
      "source": [
        "title_vocab_size = len(title_tokenizer.word_index)+1\n",
        "max_title_len = len(encoded_titles[0])\n",
        "title_embedding_dim = 8"
      ],
      "execution_count": 49,
      "outputs": []
    },
    {
      "cell_type": "markdown",
      "metadata": {
        "id": "RoqwueLq02TL"
      },
      "source": [
        "## TPU Initialization\n"
      ]
    },
    {
      "cell_type": "code",
      "metadata": {
        "id": "pFe5DaCB00Kk",
        "outputId": "b19d5e19-6bdf-4f2f-bc14-f3d897a32ca5",
        "colab": {
          "base_uri": "https://localhost:8080/"
        }
      },
      "source": [
        "resolver = tf.distribute.cluster_resolver.TPUClusterResolver(tpu='grpc://' + os.environ['COLAB_TPU_ADDR'])\n",
        "tf.config.experimental_connect_to_cluster(resolver)\n",
        "# This is the TPU initialization code that has to be at the beginning.\n",
        "tf.tpu.experimental.initialize_tpu_system(resolver)\n",
        "print(\"All devices: \", tf.config.list_logical_devices('TPU'))"
      ],
      "execution_count": 50,
      "outputs": [
        {
          "output_type": "stream",
          "text": [
            "INFO:tensorflow:Initializing the TPU system: grpc://10.79.85.186:8470\n"
          ],
          "name": "stdout"
        },
        {
          "output_type": "stream",
          "text": [
            "INFO:tensorflow:Initializing the TPU system: grpc://10.79.85.186:8470\n"
          ],
          "name": "stderr"
        },
        {
          "output_type": "stream",
          "text": [
            "INFO:tensorflow:Clearing out eager caches\n"
          ],
          "name": "stdout"
        },
        {
          "output_type": "stream",
          "text": [
            "INFO:tensorflow:Clearing out eager caches\n"
          ],
          "name": "stderr"
        },
        {
          "output_type": "stream",
          "text": [
            "INFO:tensorflow:Finished initializing TPU system.\n"
          ],
          "name": "stdout"
        },
        {
          "output_type": "stream",
          "text": [
            "INFO:tensorflow:Finished initializing TPU system.\n"
          ],
          "name": "stderr"
        },
        {
          "output_type": "stream",
          "text": [
            "All devices:  [LogicalDevice(name='/job:worker/replica:0/task:0/device:TPU:7', device_type='TPU'), LogicalDevice(name='/job:worker/replica:0/task:0/device:TPU:6', device_type='TPU'), LogicalDevice(name='/job:worker/replica:0/task:0/device:TPU:5', device_type='TPU'), LogicalDevice(name='/job:worker/replica:0/task:0/device:TPU:4', device_type='TPU'), LogicalDevice(name='/job:worker/replica:0/task:0/device:TPU:0', device_type='TPU'), LogicalDevice(name='/job:worker/replica:0/task:0/device:TPU:1', device_type='TPU'), LogicalDevice(name='/job:worker/replica:0/task:0/device:TPU:2', device_type='TPU'), LogicalDevice(name='/job:worker/replica:0/task:0/device:TPU:3', device_type='TPU')]\n"
          ],
          "name": "stdout"
        }
      ]
    },
    {
      "cell_type": "code",
      "metadata": {
        "id": "qLwoAOhL1bTH",
        "outputId": "7db87fc4-8be4-4080-9540-0e2d13bd4d26",
        "colab": {
          "base_uri": "https://localhost:8080/"
        }
      },
      "source": [
        "strategy = tf.distribute.TPUStrategy(resolver)"
      ],
      "execution_count": 51,
      "outputs": [
        {
          "output_type": "stream",
          "text": [
            "INFO:tensorflow:Found TPU system:\n"
          ],
          "name": "stdout"
        },
        {
          "output_type": "stream",
          "text": [
            "INFO:tensorflow:Found TPU system:\n"
          ],
          "name": "stderr"
        },
        {
          "output_type": "stream",
          "text": [
            "INFO:tensorflow:*** Num TPU Cores: 8\n"
          ],
          "name": "stdout"
        },
        {
          "output_type": "stream",
          "text": [
            "INFO:tensorflow:*** Num TPU Cores: 8\n"
          ],
          "name": "stderr"
        },
        {
          "output_type": "stream",
          "text": [
            "INFO:tensorflow:*** Num TPU Workers: 1\n"
          ],
          "name": "stdout"
        },
        {
          "output_type": "stream",
          "text": [
            "INFO:tensorflow:*** Num TPU Workers: 1\n"
          ],
          "name": "stderr"
        },
        {
          "output_type": "stream",
          "text": [
            "INFO:tensorflow:*** Num TPU Cores Per Worker: 8\n"
          ],
          "name": "stdout"
        },
        {
          "output_type": "stream",
          "text": [
            "INFO:tensorflow:*** Num TPU Cores Per Worker: 8\n"
          ],
          "name": "stderr"
        },
        {
          "output_type": "stream",
          "text": [
            "INFO:tensorflow:*** Available Device: _DeviceAttributes(/job:localhost/replica:0/task:0/device:CPU:0, CPU, 0, 0)\n"
          ],
          "name": "stdout"
        },
        {
          "output_type": "stream",
          "text": [
            "INFO:tensorflow:*** Available Device: _DeviceAttributes(/job:localhost/replica:0/task:0/device:CPU:0, CPU, 0, 0)\n"
          ],
          "name": "stderr"
        },
        {
          "output_type": "stream",
          "text": [
            "INFO:tensorflow:*** Available Device: _DeviceAttributes(/job:localhost/replica:0/task:0/device:XLA_CPU:0, XLA_CPU, 0, 0)\n"
          ],
          "name": "stdout"
        },
        {
          "output_type": "stream",
          "text": [
            "INFO:tensorflow:*** Available Device: _DeviceAttributes(/job:localhost/replica:0/task:0/device:XLA_CPU:0, XLA_CPU, 0, 0)\n"
          ],
          "name": "stderr"
        },
        {
          "output_type": "stream",
          "text": [
            "INFO:tensorflow:*** Available Device: _DeviceAttributes(/job:worker/replica:0/task:0/device:CPU:0, CPU, 0, 0)\n"
          ],
          "name": "stdout"
        },
        {
          "output_type": "stream",
          "text": [
            "INFO:tensorflow:*** Available Device: _DeviceAttributes(/job:worker/replica:0/task:0/device:CPU:0, CPU, 0, 0)\n"
          ],
          "name": "stderr"
        },
        {
          "output_type": "stream",
          "text": [
            "INFO:tensorflow:*** Available Device: _DeviceAttributes(/job:worker/replica:0/task:0/device:TPU:0, TPU, 0, 0)\n"
          ],
          "name": "stdout"
        },
        {
          "output_type": "stream",
          "text": [
            "INFO:tensorflow:*** Available Device: _DeviceAttributes(/job:worker/replica:0/task:0/device:TPU:0, TPU, 0, 0)\n"
          ],
          "name": "stderr"
        },
        {
          "output_type": "stream",
          "text": [
            "INFO:tensorflow:*** Available Device: _DeviceAttributes(/job:worker/replica:0/task:0/device:TPU:1, TPU, 0, 0)\n"
          ],
          "name": "stdout"
        },
        {
          "output_type": "stream",
          "text": [
            "INFO:tensorflow:*** Available Device: _DeviceAttributes(/job:worker/replica:0/task:0/device:TPU:1, TPU, 0, 0)\n"
          ],
          "name": "stderr"
        },
        {
          "output_type": "stream",
          "text": [
            "INFO:tensorflow:*** Available Device: _DeviceAttributes(/job:worker/replica:0/task:0/device:TPU:2, TPU, 0, 0)\n"
          ],
          "name": "stdout"
        },
        {
          "output_type": "stream",
          "text": [
            "INFO:tensorflow:*** Available Device: _DeviceAttributes(/job:worker/replica:0/task:0/device:TPU:2, TPU, 0, 0)\n"
          ],
          "name": "stderr"
        },
        {
          "output_type": "stream",
          "text": [
            "INFO:tensorflow:*** Available Device: _DeviceAttributes(/job:worker/replica:0/task:0/device:TPU:3, TPU, 0, 0)\n"
          ],
          "name": "stdout"
        },
        {
          "output_type": "stream",
          "text": [
            "INFO:tensorflow:*** Available Device: _DeviceAttributes(/job:worker/replica:0/task:0/device:TPU:3, TPU, 0, 0)\n"
          ],
          "name": "stderr"
        },
        {
          "output_type": "stream",
          "text": [
            "INFO:tensorflow:*** Available Device: _DeviceAttributes(/job:worker/replica:0/task:0/device:TPU:4, TPU, 0, 0)\n"
          ],
          "name": "stdout"
        },
        {
          "output_type": "stream",
          "text": [
            "INFO:tensorflow:*** Available Device: _DeviceAttributes(/job:worker/replica:0/task:0/device:TPU:4, TPU, 0, 0)\n"
          ],
          "name": "stderr"
        },
        {
          "output_type": "stream",
          "text": [
            "INFO:tensorflow:*** Available Device: _DeviceAttributes(/job:worker/replica:0/task:0/device:TPU:5, TPU, 0, 0)\n"
          ],
          "name": "stdout"
        },
        {
          "output_type": "stream",
          "text": [
            "INFO:tensorflow:*** Available Device: _DeviceAttributes(/job:worker/replica:0/task:0/device:TPU:5, TPU, 0, 0)\n"
          ],
          "name": "stderr"
        },
        {
          "output_type": "stream",
          "text": [
            "INFO:tensorflow:*** Available Device: _DeviceAttributes(/job:worker/replica:0/task:0/device:TPU:6, TPU, 0, 0)\n"
          ],
          "name": "stdout"
        },
        {
          "output_type": "stream",
          "text": [
            "INFO:tensorflow:*** Available Device: _DeviceAttributes(/job:worker/replica:0/task:0/device:TPU:6, TPU, 0, 0)\n"
          ],
          "name": "stderr"
        },
        {
          "output_type": "stream",
          "text": [
            "INFO:tensorflow:*** Available Device: _DeviceAttributes(/job:worker/replica:0/task:0/device:TPU:7, TPU, 0, 0)\n"
          ],
          "name": "stdout"
        },
        {
          "output_type": "stream",
          "text": [
            "INFO:tensorflow:*** Available Device: _DeviceAttributes(/job:worker/replica:0/task:0/device:TPU:7, TPU, 0, 0)\n"
          ],
          "name": "stderr"
        },
        {
          "output_type": "stream",
          "text": [
            "INFO:tensorflow:*** Available Device: _DeviceAttributes(/job:worker/replica:0/task:0/device:TPU_SYSTEM:0, TPU_SYSTEM, 0, 0)\n"
          ],
          "name": "stdout"
        },
        {
          "output_type": "stream",
          "text": [
            "INFO:tensorflow:*** Available Device: _DeviceAttributes(/job:worker/replica:0/task:0/device:TPU_SYSTEM:0, TPU_SYSTEM, 0, 0)\n"
          ],
          "name": "stderr"
        },
        {
          "output_type": "stream",
          "text": [
            "INFO:tensorflow:*** Available Device: _DeviceAttributes(/job:worker/replica:0/task:0/device:XLA_CPU:0, XLA_CPU, 0, 0)\n"
          ],
          "name": "stdout"
        },
        {
          "output_type": "stream",
          "text": [
            "INFO:tensorflow:*** Available Device: _DeviceAttributes(/job:worker/replica:0/task:0/device:XLA_CPU:0, XLA_CPU, 0, 0)\n"
          ],
          "name": "stderr"
        }
      ]
    },
    {
      "cell_type": "markdown",
      "metadata": {
        "id": "mnXyFaVB14zL"
      },
      "source": [
        "## Building and running model with TPU\n"
      ]
    },
    {
      "cell_type": "markdown",
      "metadata": {
        "id": "AU80lZgI40YL"
      },
      "source": [
        "### Creating a model with multiple inputs: descriptions, titles, (dt_hour, category)"
      ]
    },
    {
      "cell_type": "code",
      "metadata": {
        "id": "HdUhIvCb4zuN"
      },
      "source": [
        "def entire_model_create():\n",
        "  desc_input = Input(shape=(max_desc_len,), name='desc_input')\n",
        "  title_input = Input(shape=(max_title_len,), name='title_input')\n",
        "  cat_input = Input(shape=(cat_input_shape,), name='cat_input')\n",
        "\n",
        "  desc_emb = Embedding(input_dim=vocab_size,\n",
        "                output_dim=embedding_dim,\n",
        "                input_length=max_desc_len)(desc_input)\n",
        "  desc_emb = Dropout(0.6)(desc_emb)\n",
        "  desc_output = Bidirectional(LSTM(128, \n",
        "                     #dropout=0.3,\n",
        "                     #recurrent_dropout=0.3,\n",
        "                     #kernel_regularizer=tf.keras.regularizers.l2(0.001),\n",
        "           #return_sequences=True, \n",
        "           input_shape=(max_desc_len, embedding_dim)))(desc_emb)\n",
        "\n",
        "  title_emb = Embedding(input_dim=title_vocab_size,\n",
        "                output_dim=title_embedding_dim,\n",
        "                input_length=max_title_len)(title_input)\n",
        "  title_emb = Dropout(0.3)(title_emb)\n",
        "  title_output = Bidirectional(LSTM(64,\n",
        "                      #dropout=0.3,\n",
        "                      #recurrent_dropout=0.3, \n",
        "                      #kernel_regularizer=tf.keras.regularizers.l2(0.001),\n",
        "           #return_sequences=True, \n",
        "           input_shape=(max_title_len, title_embedding_dim)))(title_emb)\n",
        "\n",
        "  x = Concatenate()([desc_output, title_output, cat_input])\n",
        "  x = Dense(64, activation='relu')(x)\n",
        "  #x = Dropout(0.3)(x)\n",
        "  #x = Dense(64, activation='relu')(x)\n",
        "  #x = Dropout(0.2)(x)\n",
        "  x = Dense(1, activation='sigmoid')(x)\n",
        "\n",
        "  return Model(inputs=[desc_input , title_input, cat_input], outputs=[x])"
      ],
      "execution_count": 52,
      "outputs": []
    },
    {
      "cell_type": "markdown",
      "metadata": {
        "id": "o-ntrf8hb5DG"
      },
      "source": [
        "### Callbacks\n",
        "I define early stopping and checkpoint to capture the best wheights\n"
      ]
    },
    {
      "cell_type": "code",
      "metadata": {
        "id": "VkEDcQRrdc58"
      },
      "source": [
        "earlystop = tf.keras.callbacks.EarlyStopping(monitor='val_loss', \n",
        "                                            min_delta=0.001,\n",
        "                                            patience=5,\n",
        "                                            restore_best_weights=True)\n",
        "checkpoint = tf.keras.callbacks.ModelCheckpoint(\n",
        "    \"dessc_RNN_model.h5\", monitor='val_loss', save_best_only=True,\n",
        "    save_weights_only=True, mode='auto'\n",
        ")\n",
        "callback = []\n",
        "callback.append(earlystop)\n",
        "callback.append(checkpoint)"
      ],
      "execution_count": 53,
      "outputs": []
    },
    {
      "cell_type": "code",
      "metadata": {
        "id": "XvWOnZxoDdyE",
        "outputId": "f0b94c4d-1468-4ff8-8efc-5e9a5d90c733",
        "colab": {
          "base_uri": "https://localhost:8080/"
        }
      },
      "source": [
        "with strategy.scope():\n",
        "  tpu_entire_model = entire_model_create()\n",
        "  tpu_entire_model.compile(optimizer='adam',\n",
        "                      #experimental_steps_per_execution = 40, \n",
        "                          loss='binary_crossentropy', \n",
        "                          metrics=[metrics.AUC(), 'accuracy'])\n",
        "  tpu_entire_model.summary()"
      ],
      "execution_count": 78,
      "outputs": [
        {
          "output_type": "stream",
          "text": [
            "Model: \"functional_11\"\n",
            "__________________________________________________________________________________________________\n",
            "Layer (type)                    Output Shape         Param #     Connected to                     \n",
            "==================================================================================================\n",
            "desc_input (InputLayer)         [(None, 300)]        0                                            \n",
            "__________________________________________________________________________________________________\n",
            "title_input (InputLayer)        [(None, 30)]         0                                            \n",
            "__________________________________________________________________________________________________\n",
            "embedding_10 (Embedding)        (None, 300, 16)      14179104    desc_input[0][0]                 \n",
            "__________________________________________________________________________________________________\n",
            "embedding_11 (Embedding)        (None, 30, 8)        1074312     title_input[0][0]                \n",
            "__________________________________________________________________________________________________\n",
            "dropout_10 (Dropout)            (None, 300, 16)      0           embedding_10[0][0]               \n",
            "__________________________________________________________________________________________________\n",
            "dropout_11 (Dropout)            (None, 30, 8)        0           embedding_11[0][0]               \n",
            "__________________________________________________________________________________________________\n",
            "bidirectional_10 (Bidirectional (None, 256)          148480      dropout_10[0][0]                 \n",
            "__________________________________________________________________________________________________\n",
            "bidirectional_11 (Bidirectional (None, 128)          37376       dropout_11[0][0]                 \n",
            "__________________________________________________________________________________________________\n",
            "cat_input (InputLayer)          [(None, 34)]         0                                            \n",
            "__________________________________________________________________________________________________\n",
            "concatenate_5 (Concatenate)     (None, 418)          0           bidirectional_10[0][0]           \n",
            "                                                                 bidirectional_11[0][0]           \n",
            "                                                                 cat_input[0][0]                  \n",
            "__________________________________________________________________________________________________\n",
            "dense_10 (Dense)                (None, 64)           26816       concatenate_5[0][0]              \n",
            "__________________________________________________________________________________________________\n",
            "dense_11 (Dense)                (None, 1)            65          dense_10[0][0]                   \n",
            "==================================================================================================\n",
            "Total params: 15,466,153\n",
            "Trainable params: 15,466,153\n",
            "Non-trainable params: 0\n",
            "__________________________________________________________________________________________________\n"
          ],
          "name": "stdout"
        }
      ]
    },
    {
      "cell_type": "markdown",
      "metadata": {
        "id": "Yhjn5od2hEvo"
      },
      "source": [
        "### Running learning process\n"
      ]
    },
    {
      "cell_type": "code",
      "metadata": {
        "id": "oewEVi16EDo3",
        "outputId": "4f9575f4-d106-4ecd-cbac-2cbbc5cd5764",
        "colab": {
          "base_uri": "https://localhost:8080/"
        }
      },
      "source": [
        "history = tpu_entire_model.fit([encoded_descs, encoded_titles, cat_features_train], \n",
        "                               df_train.is_bad, \n",
        "                        epochs=8, \n",
        "                        batch_size=128, \n",
        "                        validation_data=([encoded_descs_val, encoded_titles_val, cat_features_val], \n",
        "                                         df_val.is_bad),\n",
        "                        callbacks=callback#[checkpoint]\n",
        "                        )"
      ],
      "execution_count": 79,
      "outputs": [
        {
          "output_type": "stream",
          "text": [
            "Epoch 1/8\n",
            "   1/7692 [..............................] - ETA: 36s - loss: 0.6889 - auc_3: 0.5320 - accuracy: 0.5625WARNING:tensorflow:Callbacks method `on_train_batch_end` is slow compared to the batch time (batch time: 0.0054s vs `on_train_batch_end` time: 0.0418s). Check your callbacks.\n"
          ],
          "name": "stdout"
        },
        {
          "output_type": "stream",
          "text": [
            "WARNING:tensorflow:Callbacks method `on_train_batch_end` is slow compared to the batch time (batch time: 0.0054s vs `on_train_batch_end` time: 0.0418s). Check your callbacks.\n"
          ],
          "name": "stderr"
        },
        {
          "output_type": "stream",
          "text": [
            "7692/7692 [==============================] - ETA: 0s - loss: 0.2678 - auc_3: 0.9284 - accuracy: 0.8989WARNING:tensorflow:Callbacks method `on_test_batch_end` is slow compared to the batch time (batch time: 0.0018s vs `on_test_batch_end` time: 0.0211s). Check your callbacks.\n"
          ],
          "name": "stdout"
        },
        {
          "output_type": "stream",
          "text": [
            "WARNING:tensorflow:Callbacks method `on_test_batch_end` is slow compared to the batch time (batch time: 0.0018s vs `on_test_batch_end` time: 0.0211s). Check your callbacks.\n"
          ],
          "name": "stderr"
        },
        {
          "output_type": "stream",
          "text": [
            "7692/7692 [==============================] - 348s 45ms/step - loss: 0.2678 - auc_3: 0.9284 - accuracy: 0.8989 - val_loss: 0.2751 - val_auc_3: 0.9237 - val_accuracy: 0.9071\n",
            "Epoch 2/8\n",
            "7692/7692 [==============================] - 342s 44ms/step - loss: 0.2016 - auc_3: 0.9597 - accuracy: 0.9263 - val_loss: 0.2786 - val_auc_3: 0.9303 - val_accuracy: 0.9085\n",
            "Epoch 3/8\n",
            "7692/7692 [==============================] - 344s 45ms/step - loss: 0.1793 - auc_3: 0.9683 - accuracy: 0.9348 - val_loss: 0.2911 - val_auc_3: 0.9228 - val_accuracy: 0.9087\n",
            "Epoch 4/8\n",
            "7692/7692 [==============================] - 351s 46ms/step - loss: 0.1621 - auc_3: 0.9740 - accuracy: 0.9417 - val_loss: 0.2885 - val_auc_3: 0.9286 - val_accuracy: 0.9073\n",
            "Epoch 5/8\n",
            "7692/7692 [==============================] - 347s 45ms/step - loss: 0.1495 - auc_3: 0.9777 - accuracy: 0.9464 - val_loss: 0.3081 - val_auc_3: 0.9218 - val_accuracy: 0.9083\n",
            "Epoch 6/8\n",
            "7692/7692 [==============================] - 348s 45ms/step - loss: 0.1393 - auc_3: 0.9806 - accuracy: 0.9502 - val_loss: 0.3025 - val_auc_3: 0.9240 - val_accuracy: 0.9069\n"
          ],
          "name": "stdout"
        }
      ]
    },
    {
      "cell_type": "code",
      "metadata": {
        "id": "bUuAzYkFg2R8",
        "outputId": "b6889351-9297-4452-976d-217e0b9f7c8b",
        "colab": {
          "base_uri": "https://localhost:8080/",
          "height": 265
        }
      },
      "source": [
        "plt.plot(history.history['loss'], label='train')\n",
        "plt.plot(history.history['val_loss'], label='val')\n",
        "plt.legend()\n",
        "plt.show()"
      ],
      "execution_count": 80,
      "outputs": [
        {
          "output_type": "display_data",
          "data": {
            "image/png": "[encoded data removed]",
            "text/plain": [
              "<Figure size 432x288 with 1 Axes>"
            ]
          },
          "metadata": {
            "tags": [],
            "needs_background": "light"
          }
        }
      ]
    },
    {
      "cell_type": "code",
      "metadata": {
        "id": "w0R2hnD1CYfW"
      },
      "source": [
        "#Выгружаю веса из наилучшей эпохи\n",
        "pretraied_model = entire_model_create()\n",
        "pretraied_model.load_weights(\"dessc_RNN_model.h5\")"
      ],
      "execution_count": 64,
      "outputs": []
    },
    {
      "cell_type": "code",
      "metadata": {
        "id": "tw7tGwhXuu6k",
        "outputId": "5a5f3267-9c8c-414d-ccd8-22b836405b9d",
        "colab": {
          "base_uri": "https://localhost:8080/"
        }
      },
      "source": [
        "predictions = tpu_entire_model.predict([encoded_descs_val, encoded_titles_val, cat_features_val]) > 0.5\n",
        "print(classification_report(predictions, df_val.is_bad, digits=4))"
      ],
      "execution_count": 83,
      "outputs": [
        {
          "output_type": "stream",
          "text": [
            "              precision    recall  f1-score   support\n",
            "\n",
            "       False     0.9568    0.9229    0.9396     12707\n",
            "        True     0.7538    0.8501    0.7991      3530\n",
            "\n",
            "    accuracy                         0.9071     16237\n",
            "   macro avg     0.8553    0.8865    0.8693     16237\n",
            "weighted avg     0.9127    0.9071    0.9090     16237\n",
            "\n"
          ],
          "name": "stdout"
        }
      ]
    },
    {
      "cell_type": "markdown",
      "metadata": {
        "id": "vfAeil_eVeka"
      },
      "source": [
        "## RNN method final score"
      ]
    },
    {
      "cell_type": "code",
      "metadata": {
        "id": "H2bWBVPrAjc-",
        "outputId": "ef0ba219-ac5b-437f-b02a-09349c2f7901",
        "colab": {
          "base_uri": "https://localhost:8080/"
        }
      },
      "source": [
        "rocauc_avg = 0\n",
        "for cat in df_val['category_num'].unique():\n",
        "  cat_mask = df_val['category_num']==cat\n",
        "  cat_rocauc = roc_auc_score(df_val[cat_mask].is_bad,\n",
        "                              tpu_entire_model.predict([encoded_descs_val[cat_mask],\n",
        "                                                        encoded_titles_val[cat_mask], \n",
        "                                                        cat_features_val[cat_mask]]\n",
        "                                                       )\n",
        "                              )\n",
        "  rocauc_avg += cat_rocauc\n",
        "print('Average ROC_AUC among categories')\n",
        "print(rocauc_avg/len(df_val['category_num'].unique()))"
      ],
      "execution_count": 81,
      "outputs": [
        {
          "output_type": "stream",
          "text": [
            "Average ROC_AUC among categories\n",
            "0.8902084666428131\n"
          ],
          "name": "stdout"
        }
      ]
    },
    {
      "cell_type": "markdown",
      "metadata": {
        "id": "qmF8srDMVlA5"
      },
      "source": [
        "# Coclusion\n",
        "As we can see, neural network with LSTM layers allowed us to **increase our metric** by ~0.01. Moreover, **implementation** of an ensemble model requires more **time** and **precise parameters tuning** when implementation of NN model is quite fast and it does not take much time to tune the model. </br>\n",
        "But there is a con about implemented neural network. **Learning requires too much time if one does not use TPU or CPU.** </br>\n",
        "That is why in different situations we will use different solutions."
      ]
    },
    {
      "cell_type": "code",
      "metadata": {
        "id": "HoBA46XIX7MB"
      },
      "source": [
        ""
      ],
      "execution_count": null,
      "outputs": []
    }
  ]
}